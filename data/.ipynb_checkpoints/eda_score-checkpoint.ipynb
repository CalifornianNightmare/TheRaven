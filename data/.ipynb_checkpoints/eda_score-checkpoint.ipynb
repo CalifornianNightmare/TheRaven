{
 "cells": [
  {
   "cell_type": "code",
   "outputs": [
    {
     "name": "stdout",
     "output_type": "stream",
     "text": [
      "Requirement already satisfied: lightgbm in c:\\users\\александр\\appdata\\local\\programs\\python\\python312\\lib\\site-packages (4.5.0)\n",
      "Requirement already satisfied: numpy>=1.17.0 in c:\\users\\александр\\appdata\\local\\programs\\python\\python312\\lib\\site-packages (from lightgbm) (1.26.4)\n",
      "Requirement already satisfied: scipy in c:\\users\\александр\\appdata\\local\\programs\\python\\python312\\lib\\site-packages (from lightgbm) (1.14.0)\n"
     ]
    },
    {
     "name": "stderr",
     "output_type": "stream",
     "text": [
      "WARNING: Skipping C:\\Users\\александр\\AppData\\Local\\Programs\\Python\\Python312\\Lib\\site-packages\\numpy-1.26.4.dist-info due to invalid metadata entry 'name'\n",
      "WARNING: Ignoring invalid distribution ~umpy (C:\\Users\\александр\\AppData\\Local\\Programs\\Python\\Python312\\Lib\\site-packages)\n",
      "\n",
      "[notice] A new release of pip is available: 24.0 -> 24.3.1\n",
      "[notice] To update, run: python.exe -m pip install --upgrade pip\n"
     ]
    }
   ],
   "source": [
    "!pip install lightgbm\n"
   ],
   "metadata": {
    "collapsed": false,
    "ExecuteTime": {
     "end_time": "2024-11-02T00:17:36.322630100Z",
     "start_time": "2024-11-02T00:17:32.109723400Z"
    }
   },
   "id": "71a020d97b4b1a6a",
   "execution_count": 3
  },
  {
   "cell_type": "code",
   "outputs": [
    {
     "name": "stdout",
     "output_type": "stream",
     "text": [
      "Requirement already satisfied: numpy==2.1.2 in c:\\users\\александр\\appdata\\local\\programs\\python\\python312\\lib\\site-packages (2.1.2)\n"
     ]
    },
    {
     "name": "stderr",
     "output_type": "stream",
     "text": [
      "\n",
      "[notice] A new release of pip is available: 24.0 -> 24.3.1\n",
      "[notice] To update, run: python.exe -m pip install --upgrade pip\n"
     ]
    }
   ],
   "source": [
    "!pip install numpy==2.1.2"
   ],
   "metadata": {
    "collapsed": false,
    "ExecuteTime": {
     "end_time": "2024-11-02T00:17:39.362678200Z",
     "start_time": "2024-11-02T00:17:36.317631600Z"
    }
   },
   "id": "d2d34dbb04ace33e",
   "execution_count": 4
  },
  {
   "cell_type": "code",
   "outputs": [
    {
     "name": "stdout",
     "output_type": "stream",
     "text": [
      "Requirement already satisfied: pandas==2.2.3 in c:\\users\\александр\\appdata\\local\\programs\\python\\python312\\lib\\site-packages (2.2.3)\n",
      "Requirement already satisfied: numpy>=1.26.0 in c:\\users\\александр\\appdata\\local\\programs\\python\\python312\\lib\\site-packages (from pandas==2.2.3) (2.1.2)\n",
      "Requirement already satisfied: python-dateutil>=2.8.2 in c:\\users\\александр\\appdata\\local\\programs\\python\\python312\\lib\\site-packages (from pandas==2.2.3) (2.9.0.post0)\n",
      "Requirement already satisfied: pytz>=2020.1 in c:\\users\\александр\\appdata\\local\\programs\\python\\python312\\lib\\site-packages (from pandas==2.2.3) (2024.1)\n",
      "Requirement already satisfied: tzdata>=2022.7 in c:\\users\\александр\\appdata\\local\\programs\\python\\python312\\lib\\site-packages (from pandas==2.2.3) (2024.1)\n",
      "Requirement already satisfied: six>=1.5 in c:\\users\\александр\\appdata\\local\\programs\\python\\python312\\lib\\site-packages (from python-dateutil>=2.8.2->pandas==2.2.3) (1.16.0)\n"
     ]
    },
    {
     "name": "stderr",
     "output_type": "stream",
     "text": [
      "WARNING: Skipping C:\\Users\\александр\\AppData\\Local\\Programs\\Python\\Python312\\Lib\\site-packages\\~umpy-1.26.4.dist-info due to invalid metadata entry 'name'\n",
      "\n",
      "[notice] A new release of pip is available: 24.0 -> 24.3.1\n",
      "[notice] To update, run: python.exe -m pip install --upgrade pip\n"
     ]
    }
   ],
   "source": [
    "!pip install pandas==2.2.3"
   ],
   "metadata": {
    "collapsed": false,
    "ExecuteTime": {
     "end_time": "2024-11-02T00:17:45.144768500Z",
     "start_time": "2024-11-02T00:17:39.357683800Z"
    }
   },
   "id": "8d18ffb1c0933120",
   "execution_count": 5
  },
  {
   "cell_type": "code",
   "outputs": [],
   "source": [
    "import pandas as pd\n",
    "import sklearn\n",
    "import numpy as np\n",
    "from sklearn.model_selection import train_test_split\n",
    "from sklearn.preprocessing import StandardScaler\n",
    "import lightgbm as lgb\n",
    "from sklearn.metrics import roc_auc_score,precision_score,recall_score,confusion_matrix, accuracy_score"
   ],
   "metadata": {
    "collapsed": true,
    "ExecuteTime": {
     "end_time": "2024-11-02T00:17:49.731117400Z",
     "start_time": "2024-11-02T00:17:45.146773Z"
    }
   },
   "id": "initial_id",
   "execution_count": 6
  },
  {
   "cell_type": "code",
   "outputs": [
    {
     "name": "stdout",
     "output_type": "stream",
     "text": [
      "Объединение завершено. Результат сохранён в 'merged_train.csv'.\n"
     ]
    }
   ],
   "source": [
    "\n",
    "import glob\n",
    "import os\n",
    "\n",
    "\n",
    "path = \"data_alfa\"\n",
    "\n",
    "\n",
    "all_files = glob.glob(os.path.join(path, \"train*.csv\"))\n",
    "\n",
    "\n",
    "data_frames = []\n",
    "\n",
    "\n",
    "for filename in all_files:\n",
    "    df = pd.read_csv(filename)\n",
    "    data_frames.append(df)\n",
    "\n",
    "\n",
    "merged_df = pd.concat(data_frames, ignore_index=True)\n",
    "\n",
    "\n",
    "merged_df.to_csv(\"data_alfa/merged_train.csv\", index=False)\n",
    "\n",
    "print(\"Объединение завершено. Результат сохранён в 'merged_train.csv'.\")\n"
   ],
   "metadata": {
    "collapsed": false,
    "ExecuteTime": {
     "end_time": "2024-11-02T00:18:34.662958400Z",
     "start_time": "2024-11-02T00:18:12.682858200Z"
    }
   },
   "id": "b3497747f9b4612a",
   "execution_count": 7
  },
  {
   "cell_type": "code",
   "outputs": [
    {
     "data": {
      "text/plain": "   target  id  feature_1  feature_2  feature_3  feature_4  feature_5  \\\n0       0   0   0.468142  -1.045346        0.0   0.384487   0.435121   \n1       0   1  -0.760983   0.515132        0.0  -1.673905  -0.393862   \n2       0   2   1.658855   0.915052        0.0  -0.581082   0.477199   \n3       0   3  -0.638854   0.314099        0.0   0.000919   1.102342   \n4       0   4  -1.091376   0.859811        0.0  -0.505439   1.665086   \n\n   feature_6  feature_7  feature_8  ...  feature_409  feature_410  \\\n0  -1.178548   0.124543   1.801544  ...    -0.361507    -1.026853   \n1  -1.584207  -0.439778   0.796104  ...    -0.546275    -1.489542   \n2  -0.622226   0.390642   0.753299  ...    -0.485999     0.586012   \n3  -0.807371   0.329158   0.484305  ...     0.321985    -0.075827   \n4  -0.912464  -0.332054   0.707705  ...     0.828886     0.140387   \n\n   feature_411  feature_412  feature_413  feature_414  feature_415  \\\n0          0.0     1.418600    -0.929668     1.284014     0.731842   \n1          0.0    -0.622007    -0.473156     0.780020     0.648577   \n2          0.0     0.361481    -0.364566    -1.318596    -0.385155   \n3          0.0    -1.629672     0.876864     0.411271     0.433440   \n4          0.0    -0.624304    -2.197691    -1.479267    -0.465917   \n\n   feature_416  feature_417  feature_418  \n0     0.801786    -0.728297    -0.412095  \n1     0.646100    -0.789362     0.083349  \n2     0.140133     0.123245    -0.670030  \n3     0.997364     2.829590    -1.275588  \n4    -0.014757    -0.320434    -0.511896  \n\n[5 rows x 420 columns]",
      "text/html": "<div>\n<style scoped>\n    .dataframe tbody tr th:only-of-type {\n        vertical-align: middle;\n    }\n\n    .dataframe tbody tr th {\n        vertical-align: top;\n    }\n\n    .dataframe thead th {\n        text-align: right;\n    }\n</style>\n<table border=\"1\" class=\"dataframe\">\n  <thead>\n    <tr style=\"text-align: right;\">\n      <th></th>\n      <th>target</th>\n      <th>id</th>\n      <th>feature_1</th>\n      <th>feature_2</th>\n      <th>feature_3</th>\n      <th>feature_4</th>\n      <th>feature_5</th>\n      <th>feature_6</th>\n      <th>feature_7</th>\n      <th>feature_8</th>\n      <th>...</th>\n      <th>feature_409</th>\n      <th>feature_410</th>\n      <th>feature_411</th>\n      <th>feature_412</th>\n      <th>feature_413</th>\n      <th>feature_414</th>\n      <th>feature_415</th>\n      <th>feature_416</th>\n      <th>feature_417</th>\n      <th>feature_418</th>\n    </tr>\n  </thead>\n  <tbody>\n    <tr>\n      <th>0</th>\n      <td>0</td>\n      <td>0</td>\n      <td>0.468142</td>\n      <td>-1.045346</td>\n      <td>0.0</td>\n      <td>0.384487</td>\n      <td>0.435121</td>\n      <td>-1.178548</td>\n      <td>0.124543</td>\n      <td>1.801544</td>\n      <td>...</td>\n      <td>-0.361507</td>\n      <td>-1.026853</td>\n      <td>0.0</td>\n      <td>1.418600</td>\n      <td>-0.929668</td>\n      <td>1.284014</td>\n      <td>0.731842</td>\n      <td>0.801786</td>\n      <td>-0.728297</td>\n      <td>-0.412095</td>\n    </tr>\n    <tr>\n      <th>1</th>\n      <td>0</td>\n      <td>1</td>\n      <td>-0.760983</td>\n      <td>0.515132</td>\n      <td>0.0</td>\n      <td>-1.673905</td>\n      <td>-0.393862</td>\n      <td>-1.584207</td>\n      <td>-0.439778</td>\n      <td>0.796104</td>\n      <td>...</td>\n      <td>-0.546275</td>\n      <td>-1.489542</td>\n      <td>0.0</td>\n      <td>-0.622007</td>\n      <td>-0.473156</td>\n      <td>0.780020</td>\n      <td>0.648577</td>\n      <td>0.646100</td>\n      <td>-0.789362</td>\n      <td>0.083349</td>\n    </tr>\n    <tr>\n      <th>2</th>\n      <td>0</td>\n      <td>2</td>\n      <td>1.658855</td>\n      <td>0.915052</td>\n      <td>0.0</td>\n      <td>-0.581082</td>\n      <td>0.477199</td>\n      <td>-0.622226</td>\n      <td>0.390642</td>\n      <td>0.753299</td>\n      <td>...</td>\n      <td>-0.485999</td>\n      <td>0.586012</td>\n      <td>0.0</td>\n      <td>0.361481</td>\n      <td>-0.364566</td>\n      <td>-1.318596</td>\n      <td>-0.385155</td>\n      <td>0.140133</td>\n      <td>0.123245</td>\n      <td>-0.670030</td>\n    </tr>\n    <tr>\n      <th>3</th>\n      <td>0</td>\n      <td>3</td>\n      <td>-0.638854</td>\n      <td>0.314099</td>\n      <td>0.0</td>\n      <td>0.000919</td>\n      <td>1.102342</td>\n      <td>-0.807371</td>\n      <td>0.329158</td>\n      <td>0.484305</td>\n      <td>...</td>\n      <td>0.321985</td>\n      <td>-0.075827</td>\n      <td>0.0</td>\n      <td>-1.629672</td>\n      <td>0.876864</td>\n      <td>0.411271</td>\n      <td>0.433440</td>\n      <td>0.997364</td>\n      <td>2.829590</td>\n      <td>-1.275588</td>\n    </tr>\n    <tr>\n      <th>4</th>\n      <td>0</td>\n      <td>4</td>\n      <td>-1.091376</td>\n      <td>0.859811</td>\n      <td>0.0</td>\n      <td>-0.505439</td>\n      <td>1.665086</td>\n      <td>-0.912464</td>\n      <td>-0.332054</td>\n      <td>0.707705</td>\n      <td>...</td>\n      <td>0.828886</td>\n      <td>0.140387</td>\n      <td>0.0</td>\n      <td>-0.624304</td>\n      <td>-2.197691</td>\n      <td>-1.479267</td>\n      <td>-0.465917</td>\n      <td>-0.014757</td>\n      <td>-0.320434</td>\n      <td>-0.511896</td>\n    </tr>\n  </tbody>\n</table>\n<p>5 rows × 420 columns</p>\n</div>"
     },
     "execution_count": 8,
     "metadata": {},
     "output_type": "execute_result"
    }
   ],
   "source": [
    "file_path = \"data_alfa/merged_train.csv\"\n",
    "df = pd.read_csv(file_path)\n",
    "del df[\"smpl\"]\n",
    "df.head()"
   ],
   "metadata": {
    "collapsed": false,
    "ExecuteTime": {
     "end_time": "2024-11-02T00:18:37.962728Z",
     "start_time": "2024-11-02T00:18:34.650965300Z"
    }
   },
   "id": "9dcae61729847232",
   "execution_count": 8
  },
  {
   "cell_type": "code",
   "outputs": [],
   "source": [
    "X = df.drop([\"target\"],axis=1)\n",
    "y = df[\"target\"]"
   ],
   "metadata": {
    "collapsed": false,
    "ExecuteTime": {
     "end_time": "2024-11-02T00:18:38.109033800Z",
     "start_time": "2024-11-02T00:18:37.964730600Z"
    }
   },
   "id": "95cc370e9ecf1de1",
   "execution_count": 9
  },
  {
   "cell_type": "markdown",
   "source": [
    "## BaseLine модель (LightGbm)"
   ],
   "metadata": {
    "collapsed": false
   },
   "id": "e8753aab5156c5d6"
  },
  {
   "cell_type": "code",
   "outputs": [
    {
     "name": "stdout",
     "output_type": "stream",
     "text": [
      "[LightGBM] [Info] Number of positive: 667, number of negative: 30317\n",
      "[LightGBM] [Info] Auto-choosing col-wise multi-threading, the overhead of testing was 0.098583 seconds.\n",
      "You can set `force_col_wise=true` to remove the overhead.\n",
      "[LightGBM] [Info] Total Bins 97565\n",
      "[LightGBM] [Info] Number of data points in the train set: 30984, number of used features: 419\n",
      "[LightGBM] [Info] [binary:BoostFromScore]: pavg=0.021527 -> initscore=-3.816674\n",
      "[LightGBM] [Info] Start training from score -3.816674\n",
      "recall: 0.005681818181818182\n",
      "precision: 0.25\n",
      "roc-auc: 0.7678957385237929\n",
      "confusion matrix: [[7568    3]\n",
      " [ 175    1]]\n"
     ]
    }
   ],
   "source": [
    "X_train, X_test, y_train, y_test = train_test_split(X, y, test_size=0.2, random_state=42)\n",
    "\n",
    "lgb_clf = lgb.LGBMClassifier()\n",
    "\n",
    "lgb_clf.fit(X_train,y_train)\n",
    "\n",
    "lgb_clf.predict(X_test)\n",
    "\n",
    "y_pred = lgb_clf.predict(X_test)\n",
    "\n",
    "y_pred_proba = lgb_clf.predict_proba(X_test)[:, 1]\n",
    "\n",
    "print(\"recall:\", recall_score(y_test,y_pred))\n",
    "print(\"precision:\", precision_score(y_test,y_pred))\n",
    "print(\"roc-auc:\", roc_auc_score(y_test,y_pred_proba))\n",
    "print(\"confusion matrix:\", confusion_matrix(y_test,y_pred))"
   ],
   "metadata": {
    "collapsed": false,
    "ExecuteTime": {
     "end_time": "2024-11-02T00:18:42.882199100Z",
     "start_time": "2024-11-02T00:18:38.040033900Z"
    }
   },
   "id": "1b6ee2014b74eea9",
   "execution_count": 10
  },
  {
   "cell_type": "markdown",
   "source": [
    "## Модель Catboost"
   ],
   "metadata": {
    "collapsed": false
   },
   "id": "de8db0b5e637ce46"
  },
  {
   "cell_type": "code",
   "outputs": [],
   "source": [
    "import catboost as ctb\n",
    "\n",
    "from sklearn.utils.class_weight import compute_class_weight\n",
    "import numpy as np\n",
    "\n",
    "class_weights = compute_class_weight(\n",
    "    class_weight='balanced',\n",
    "    classes=np.unique(y_train),\n",
    "    y=y_train\n",
    ")\n",
    "class_weights_dict = {i : class_weights[i] for i in range(len(class_weights))}\n",
    "\n",
    "# Инициализация CatBoostClassifier\n",
    "cat_clf = CatBoostClassifier(\n",
    "    iterations=1000,              \n",
    "    learning_rate=0.1,             \n",
    "    depth=6,                       \n",
    "    class_weights=class_weights,   \n",
    "    eval_metric='AUC',             \n",
    "    random_seed=42,               \n",
    "    verbose=100                   \n",
    "\n",
    "# Шаг 5: Обучение модели\n",
    "cat_clf.fit(\n",
    "    X_train, y_train,\n",
    "    eval_set=(X_test, y_test),  \n",
    "    early_stopping_rounds=50           \n",
    ")\n",
    "\n",
    "# Шаг 6: Предсказание классов на тестовой выборке\n",
    "y_pred = cat_clf.predict(X_test)\n",
    "\n",
    "# Шаг 7: Предсказание вероятностей классов на тестовой выборке\n",
    "y_pred_proba = cat_clf.predict_proba(X_test)[:, 1]\n",
    "\n",
    "# Шаг 8: Оценка модели\n",
    "recall = recall_score(y_test, y_pred)\n",
    "precision = precision_score(y_test, y_pred)\n",
    "roc_auc = roc_auc_score(y_test, y_pred_proba)\n",
    "conf_matrix = confusion_matrix(y_test, y_pred)\n",
    "\n",
    "# Шаг 9: Вывод результатов\n",
    "print(\"Recall:\", recall)\n",
    "print(\"Precision:\", precision)\n",
    "print(\"ROC-AUC:\", roc_auc)\n",
    "print(\"Confusion Matrix:\\n\", conf_matrix)"
   ],
   "metadata": {
    "collapsed": false,
    "ExecuteTime": {
     "start_time": "2024-11-01T23:59:22.353948500Z"
    }
   },
   "id": "5b4d45afbdbe3775"
  }
 ],
 "metadata": {
  "kernelspec": {
   "display_name": "Python 3",
   "language": "python",
   "name": "python3"
  },
  "language_info": {
   "codemirror_mode": {
    "name": "ipython",
    "version": 2
   },
   "file_extension": ".py",
   "mimetype": "text/x-python",
   "name": "python",
   "nbconvert_exporter": "python",
   "pygments_lexer": "ipython2",
   "version": "2.7.6"
  }
 },
 "nbformat": 4,
 "nbformat_minor": 5
}
