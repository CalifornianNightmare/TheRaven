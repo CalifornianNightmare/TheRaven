{
 "cells": [
  {
   "cell_type": "code",
   "execution_count": 52,
   "id": "71a020d97b4b1a6a",
   "metadata": {
    "ExecuteTime": {
     "end_time": "2024-11-07T23:35:23.476665900Z",
     "start_time": "2024-11-07T23:34:32.197822700Z"
    },
    "collapsed": false,
    "jupyter": {
     "outputs_hidden": false
    },
    "scrolled": true
   },
   "outputs": [
    {
     "name": "stdout",
     "output_type": "stream",
     "text": [
      "Requirement already satisfied: lightgbm in c:\\users\\александр\\appdata\\local\\programs\\python\\python312\\lib\\site-packages (4.5.0)\n",
      "Requirement already satisfied: numpy>=1.17.0 in c:\\users\\александр\\appdata\\local\\programs\\python\\python312\\lib\\site-packages (from lightgbm) (1.26.4)\n",
      "Requirement already satisfied: scipy in c:\\users\\александр\\appdata\\local\\programs\\python\\python312\\lib\\site-packages (from lightgbm) (1.14.0)\n"
     ]
    },
    {
     "name": "stderr",
     "output_type": "stream",
     "text": [
      "\n",
      "[notice] A new release of pip is available: 24.0 -> 24.3.1\n",
      "[notice] To update, run: python.exe -m pip install --upgrade pip\n"
     ]
    },
    {
     "name": "stdout",
     "output_type": "stream",
     "text": [
      "Requirement already satisfied: numpy in c:\\users\\александр\\appdata\\local\\programs\\python\\python312\\lib\\site-packages (1.26.4)\n"
     ]
    },
    {
     "name": "stderr",
     "output_type": "stream",
     "text": [
      "\n",
      "[notice] A new release of pip is available: 24.0 -> 24.3.1\n",
      "[notice] To update, run: python.exe -m pip install --upgrade pip\n"
     ]
    },
    {
     "name": "stdout",
     "output_type": "stream",
     "text": [
      "Requirement already satisfied: pandas in c:\\users\\александр\\appdata\\local\\programs\\python\\python312\\lib\\site-packages (2.2.3)\n",
      "Requirement already satisfied: numpy>=1.26.0 in c:\\users\\александр\\appdata\\local\\programs\\python\\python312\\lib\\site-packages (from pandas) (1.26.4)\n",
      "Requirement already satisfied: python-dateutil>=2.8.2 in c:\\users\\александр\\appdata\\local\\programs\\python\\python312\\lib\\site-packages (from pandas) (2.9.0.post0)\n",
      "Requirement already satisfied: pytz>=2020.1 in c:\\users\\александр\\appdata\\local\\programs\\python\\python312\\lib\\site-packages (from pandas) (2024.1)\n",
      "Requirement already satisfied: tzdata>=2022.7 in c:\\users\\александр\\appdata\\local\\programs\\python\\python312\\lib\\site-packages (from pandas) (2024.1)\n",
      "Requirement already satisfied: six>=1.5 in c:\\users\\александр\\appdata\\local\\programs\\python\\python312\\lib\\site-packages (from python-dateutil>=2.8.2->pandas) (1.16.0)\n"
     ]
    },
    {
     "name": "stderr",
     "output_type": "stream",
     "text": [
      "\n",
      "[notice] A new release of pip is available: 24.0 -> 24.3.1\n",
      "[notice] To update, run: python.exe -m pip install --upgrade pip\n"
     ]
    },
    {
     "name": "stdout",
     "output_type": "stream",
     "text": [
      "Requirement already satisfied: scikit-learn in c:\\users\\александр\\appdata\\local\\programs\\python\\python312\\lib\\site-packages (1.5.1)\n",
      "Requirement already satisfied: numpy>=1.19.5 in c:\\users\\александр\\appdata\\local\\programs\\python\\python312\\lib\\site-packages (from scikit-learn) (1.26.4)\n",
      "Requirement already satisfied: scipy>=1.6.0 in c:\\users\\александр\\appdata\\local\\programs\\python\\python312\\lib\\site-packages (from scikit-learn) (1.14.0)\n",
      "Requirement already satisfied: joblib>=1.2.0 in c:\\users\\александр\\appdata\\local\\programs\\python\\python312\\lib\\site-packages (from scikit-learn) (1.4.2)\n",
      "Requirement already satisfied: threadpoolctl>=3.1.0 in c:\\users\\александр\\appdata\\local\\programs\\python\\python312\\lib\\site-packages (from scikit-learn) (3.5.0)\n"
     ]
    },
    {
     "name": "stderr",
     "output_type": "stream",
     "text": [
      "\n",
      "[notice] A new release of pip is available: 24.0 -> 24.3.1\n",
      "[notice] To update, run: python.exe -m pip install --upgrade pip\n"
     ]
    },
    {
     "name": "stdout",
     "output_type": "stream",
     "text": [
      "Requirement already satisfied: catboost in c:\\users\\александр\\appdata\\local\\programs\\python\\python312\\lib\\site-packages (1.2.7)\n",
      "Requirement already satisfied: graphviz in c:\\users\\александр\\appdata\\local\\programs\\python\\python312\\lib\\site-packages (from catboost) (0.20.3)\n",
      "Requirement already satisfied: matplotlib in c:\\users\\александр\\appdata\\local\\programs\\python\\python312\\lib\\site-packages (from catboost) (3.9.1)\n",
      "Requirement already satisfied: numpy<2.0,>=1.16.0 in c:\\users\\александр\\appdata\\local\\programs\\python\\python312\\lib\\site-packages (from catboost) (1.26.4)\n",
      "Requirement already satisfied: pandas>=0.24 in c:\\users\\александр\\appdata\\local\\programs\\python\\python312\\lib\\site-packages (from catboost) (2.2.3)\n",
      "Requirement already satisfied: scipy in c:\\users\\александр\\appdata\\local\\programs\\python\\python312\\lib\\site-packages (from catboost) (1.14.0)\n",
      "Requirement already satisfied: plotly in c:\\users\\александр\\appdata\\local\\programs\\python\\python312\\lib\\site-packages (from catboost) (5.24.1)\n",
      "Requirement already satisfied: six in c:\\users\\александр\\appdata\\local\\programs\\python\\python312\\lib\\site-packages (from catboost) (1.16.0)\n",
      "Requirement already satisfied: python-dateutil>=2.8.2 in c:\\users\\александр\\appdata\\local\\programs\\python\\python312\\lib\\site-packages (from pandas>=0.24->catboost) (2.9.0.post0)\n",
      "Requirement already satisfied: pytz>=2020.1 in c:\\users\\александр\\appdata\\local\\programs\\python\\python312\\lib\\site-packages (from pandas>=0.24->catboost) (2024.1)\n",
      "Requirement already satisfied: tzdata>=2022.7 in c:\\users\\александр\\appdata\\local\\programs\\python\\python312\\lib\\site-packages (from pandas>=0.24->catboost) (2024.1)\n",
      "Requirement already satisfied: contourpy>=1.0.1 in c:\\users\\александр\\appdata\\local\\programs\\python\\python312\\lib\\site-packages (from matplotlib->catboost) (1.2.1)\n",
      "Requirement already satisfied: cycler>=0.10 in c:\\users\\александр\\appdata\\local\\programs\\python\\python312\\lib\\site-packages (from matplotlib->catboost) (0.12.1)\n",
      "Requirement already satisfied: fonttools>=4.22.0 in c:\\users\\александр\\appdata\\local\\programs\\python\\python312\\lib\\site-packages (from matplotlib->catboost) (4.53.1)\n",
      "Requirement already satisfied: kiwisolver>=1.3.1 in c:\\users\\александр\\appdata\\local\\programs\\python\\python312\\lib\\site-packages (from matplotlib->catboost) (1.4.5)\n",
      "Requirement already satisfied: packaging>=20.0 in c:\\users\\александр\\appdata\\local\\programs\\python\\python312\\lib\\site-packages (from matplotlib->catboost) (24.1)\n",
      "Requirement already satisfied: pillow>=8 in c:\\users\\александр\\appdata\\local\\programs\\python\\python312\\lib\\site-packages (from matplotlib->catboost) (10.4.0)\n",
      "Requirement already satisfied: pyparsing>=2.3.1 in c:\\users\\александр\\appdata\\local\\programs\\python\\python312\\lib\\site-packages (from matplotlib->catboost) (3.1.2)\n",
      "Requirement already satisfied: tenacity>=6.2.0 in c:\\users\\александр\\appdata\\local\\programs\\python\\python312\\lib\\site-packages (from plotly->catboost) (9.0.0)\n"
     ]
    },
    {
     "name": "stderr",
     "output_type": "stream",
     "text": [
      "\n",
      "[notice] A new release of pip is available: 24.0 -> 24.3.1\n",
      "[notice] To update, run: python.exe -m pip install --upgrade pip\n"
     ]
    },
    {
     "name": "stdout",
     "output_type": "stream",
     "text": [
      "Requirement already satisfied: xgboost in c:\\users\\александр\\appdata\\local\\programs\\python\\python312\\lib\\site-packages (2.1.2)\n",
      "Requirement already satisfied: numpy in c:\\users\\александр\\appdata\\local\\programs\\python\\python312\\lib\\site-packages (from xgboost) (1.26.4)\n",
      "Requirement already satisfied: scipy in c:\\users\\александр\\appdata\\local\\programs\\python\\python312\\lib\\site-packages (from xgboost) (1.14.0)\n"
     ]
    },
    {
     "name": "stderr",
     "output_type": "stream",
     "text": [
      "\n",
      "[notice] A new release of pip is available: 24.0 -> 24.3.1\n",
      "[notice] To update, run: python.exe -m pip install --upgrade pip\n"
     ]
    },
    {
     "name": "stdout",
     "output_type": "stream",
     "text": [
      "Requirement already satisfied: imblearn in c:\\users\\александр\\appdata\\local\\programs\\python\\python312\\lib\\site-packages (0.0)\n",
      "Requirement already satisfied: imbalanced-learn in c:\\users\\александр\\appdata\\local\\programs\\python\\python312\\lib\\site-packages (from imblearn) (0.12.4)\n",
      "Requirement already satisfied: numpy>=1.17.3 in c:\\users\\александр\\appdata\\local\\programs\\python\\python312\\lib\\site-packages (from imbalanced-learn->imblearn) (1.26.4)\n",
      "Requirement already satisfied: scipy>=1.5.0 in c:\\users\\александр\\appdata\\local\\programs\\python\\python312\\lib\\site-packages (from imbalanced-learn->imblearn) (1.14.0)\n",
      "Requirement already satisfied: scikit-learn>=1.0.2 in c:\\users\\александр\\appdata\\local\\programs\\python\\python312\\lib\\site-packages (from imbalanced-learn->imblearn) (1.5.1)\n",
      "Requirement already satisfied: joblib>=1.1.1 in c:\\users\\александр\\appdata\\local\\programs\\python\\python312\\lib\\site-packages (from imbalanced-learn->imblearn) (1.4.2)\n",
      "Requirement already satisfied: threadpoolctl>=2.0.0 in c:\\users\\александр\\appdata\\local\\programs\\python\\python312\\lib\\site-packages (from imbalanced-learn->imblearn) (3.5.0)\n"
     ]
    },
    {
     "name": "stderr",
     "output_type": "stream",
     "text": [
      "\n",
      "[notice] A new release of pip is available: 24.0 -> 24.3.1\n",
      "[notice] To update, run: python.exe -m pip install --upgrade pip\n"
     ]
    },
    {
     "name": "stdout",
     "output_type": "stream",
     "text": [
      "Collecting hyperopt\n",
      "  Downloading hyperopt-0.2.7-py2.py3-none-any.whl.metadata (1.7 kB)\n",
      "Requirement already satisfied: numpy in c:\\users\\александр\\appdata\\local\\programs\\python\\python312\\lib\\site-packages (from hyperopt) (1.26.4)\n",
      "Requirement already satisfied: scipy in c:\\users\\александр\\appdata\\local\\programs\\python\\python312\\lib\\site-packages (from hyperopt) (1.14.0)\n",
      "Requirement already satisfied: six in c:\\users\\александр\\appdata\\local\\programs\\python\\python312\\lib\\site-packages (from hyperopt) (1.16.0)\n",
      "Requirement already satisfied: networkx>=2.2 in c:\\users\\александр\\appdata\\local\\programs\\python\\python312\\lib\\site-packages (from hyperopt) (3.4.2)\n",
      "Collecting future (from hyperopt)\n",
      "  Downloading future-1.0.0-py3-none-any.whl.metadata (4.0 kB)\n",
      "Requirement already satisfied: tqdm in c:\\users\\александр\\appdata\\local\\programs\\python\\python312\\lib\\site-packages (from hyperopt) (4.66.5)\n",
      "Collecting cloudpickle (from hyperopt)\n",
      "  Downloading cloudpickle-3.1.0-py3-none-any.whl.metadata (7.0 kB)\n",
      "Requirement already satisfied: py4j in c:\\users\\александр\\appdata\\local\\programs\\python\\python312\\lib\\site-packages (from hyperopt) (0.10.9.7)\n",
      "Requirement already satisfied: colorama in c:\\users\\александр\\appdata\\local\\programs\\python\\python312\\lib\\site-packages (from tqdm->hyperopt) (0.4.6)\n",
      "Downloading hyperopt-0.2.7-py2.py3-none-any.whl (1.6 MB)\n",
      "   ---------------------------------------- 0.0/1.6 MB ? eta -:--:--\n",
      "   ---------------------------------------- 0.0/1.6 MB ? eta -:--:--\n",
      "   - -------------------------------------- 0.1/1.6 MB 825.8 kB/s eta 0:00:02\n",
      "   ---- ----------------------------------- 0.2/1.6 MB 1.5 MB/s eta 0:00:01\n",
      "   -------- ------------------------------- 0.3/1.6 MB 2.0 MB/s eta 0:00:01\n",
      "   ----------------- ---------------------- 0.7/1.6 MB 3.3 MB/s eta 0:00:01\n",
      "   ----------------- ---------------------- 0.7/1.6 MB 3.3 MB/s eta 0:00:01\n",
      "   ------------------------------- -------- 1.3/1.6 MB 4.2 MB/s eta 0:00:01\n",
      "   ---------------------------------------- 1.6/1.6 MB 5.0 MB/s eta 0:00:00\n",
      "Downloading cloudpickle-3.1.0-py3-none-any.whl (22 kB)\n",
      "Downloading future-1.0.0-py3-none-any.whl (491 kB)\n",
      "   ---------------------------------------- 0.0/491.3 kB ? eta -:--:--\n",
      "   ----------------- --------------------- 225.3/491.3 kB 13.4 MB/s eta 0:00:01\n",
      "   --------------------------- ------------ 337.9/491.3 kB 4.1 MB/s eta 0:00:01\n",
      "   ---------------------------------------- 491.3/491.3 kB 5.1 MB/s eta 0:00:00\n",
      "Installing collected packages: future, cloudpickle, hyperopt\n",
      "Successfully installed cloudpickle-3.1.0 future-1.0.0 hyperopt-0.2.7\n"
     ]
    },
    {
     "name": "stderr",
     "output_type": "stream",
     "text": [
      "\n",
      "[notice] A new release of pip is available: 24.0 -> 24.3.1\n",
      "[notice] To update, run: python.exe -m pip install --upgrade pip\n"
     ]
    }
   ],
   "source": [
    "!pip install lightgbm\n",
    "!pip install numpy\n",
    "!pip install pandas\n",
    "!pip install scikit-learn\n",
    "!pip install catboost\n",
    "!pip install xgboost\n",
    "!pip install imblearn\n",
    "!pip install hyperopt"
   ]
  },
  {
   "cell_type": "code",
   "execution_count": 2,
   "id": "initial_id",
   "metadata": {
    "ExecuteTime": {
     "end_time": "2024-11-08T14:55:50.971255700Z",
     "start_time": "2024-11-08T14:55:45.228150200Z"
    }
   },
   "outputs": [],
   "source": [
    "import pandas as pd\n",
    "import sklearn\n",
    "import numpy as np\n",
    "from sklearn.model_selection import train_test_split\n",
    "from sklearn.preprocessing import StandardScaler\n",
    "from sklearn.metrics import roc_auc_score,precision_score,recall_score,confusion_matrix, accuracy_score\n",
    "from sklearn.utils.class_weight import compute_class_weight\n",
    "import matplotlib.pyplot as plt\n",
    "from hyperopt import fmin, tpe, hp, STATUS_OK, Trials\n",
    "from sklearn.model_selection import cross_val_score"
   ]
  },
  {
   "cell_type": "code",
   "execution_count": 4,
   "id": "88508a959d68951e",
   "metadata": {
    "ExecuteTime": {
     "end_time": "2024-11-08T14:13:03.998500900Z",
     "start_time": "2024-11-08T14:13:03.780695400Z"
    },
    "collapsed": false,
    "jupyter": {
     "outputs_hidden": false
    }
   },
   "outputs": [
    {
     "ename": "ValueError",
     "evalue": "No objects to concatenate",
     "output_type": "error",
     "traceback": [
      "\u001b[1;31m---------------------------------------------------------------------------\u001b[0m",
      "\u001b[1;31mValueError\u001b[0m                                Traceback (most recent call last)",
      "Cell \u001b[1;32mIn[4], line 19\u001b[0m\n\u001b[0;32m     15\u001b[0m     df \u001b[38;5;241m=\u001b[39m pd\u001b[38;5;241m.\u001b[39mread_csv(filename)\n\u001b[0;32m     16\u001b[0m     data_frames\u001b[38;5;241m.\u001b[39mappend(df)\n\u001b[1;32m---> 19\u001b[0m merged_df \u001b[38;5;241m=\u001b[39m \u001b[43mpd\u001b[49m\u001b[38;5;241;43m.\u001b[39;49m\u001b[43mconcat\u001b[49m\u001b[43m(\u001b[49m\u001b[43mdata_frames\u001b[49m\u001b[43m,\u001b[49m\u001b[43m \u001b[49m\u001b[43mignore_index\u001b[49m\u001b[38;5;241;43m=\u001b[39;49m\u001b[38;5;28;43;01mTrue\u001b[39;49;00m\u001b[43m)\u001b[49m\n\u001b[0;32m     22\u001b[0m merged_df\u001b[38;5;241m.\u001b[39mto_csv(\u001b[38;5;124m\"\u001b[39m\u001b[38;5;124mdata_alfa/merged_test.csv\u001b[39m\u001b[38;5;124m\"\u001b[39m, index\u001b[38;5;241m=\u001b[39m\u001b[38;5;28;01mFalse\u001b[39;00m)\n\u001b[0;32m     24\u001b[0m \u001b[38;5;28mprint\u001b[39m(\u001b[38;5;124m\"\u001b[39m\u001b[38;5;124mОбъединение завершено. Результат сохранён в \u001b[39m\u001b[38;5;124m'\u001b[39m\u001b[38;5;124mmerged_test.csv\u001b[39m\u001b[38;5;124m'\u001b[39m\u001b[38;5;124m.\u001b[39m\u001b[38;5;124m\"\u001b[39m)\n",
      "File \u001b[1;32m~\\AppData\\Local\\Programs\\Python\\Python312\\Lib\\site-packages\\pandas\\core\\reshape\\concat.py:382\u001b[0m, in \u001b[0;36mconcat\u001b[1;34m(objs, axis, join, ignore_index, keys, levels, names, verify_integrity, sort, copy)\u001b[0m\n\u001b[0;32m    379\u001b[0m \u001b[38;5;28;01melif\u001b[39;00m copy \u001b[38;5;129;01mand\u001b[39;00m using_copy_on_write():\n\u001b[0;32m    380\u001b[0m     copy \u001b[38;5;241m=\u001b[39m \u001b[38;5;28;01mFalse\u001b[39;00m\n\u001b[1;32m--> 382\u001b[0m op \u001b[38;5;241m=\u001b[39m \u001b[43m_Concatenator\u001b[49m\u001b[43m(\u001b[49m\n\u001b[0;32m    383\u001b[0m \u001b[43m    \u001b[49m\u001b[43mobjs\u001b[49m\u001b[43m,\u001b[49m\n\u001b[0;32m    384\u001b[0m \u001b[43m    \u001b[49m\u001b[43maxis\u001b[49m\u001b[38;5;241;43m=\u001b[39;49m\u001b[43maxis\u001b[49m\u001b[43m,\u001b[49m\n\u001b[0;32m    385\u001b[0m \u001b[43m    \u001b[49m\u001b[43mignore_index\u001b[49m\u001b[38;5;241;43m=\u001b[39;49m\u001b[43mignore_index\u001b[49m\u001b[43m,\u001b[49m\n\u001b[0;32m    386\u001b[0m \u001b[43m    \u001b[49m\u001b[43mjoin\u001b[49m\u001b[38;5;241;43m=\u001b[39;49m\u001b[43mjoin\u001b[49m\u001b[43m,\u001b[49m\n\u001b[0;32m    387\u001b[0m \u001b[43m    \u001b[49m\u001b[43mkeys\u001b[49m\u001b[38;5;241;43m=\u001b[39;49m\u001b[43mkeys\u001b[49m\u001b[43m,\u001b[49m\n\u001b[0;32m    388\u001b[0m \u001b[43m    \u001b[49m\u001b[43mlevels\u001b[49m\u001b[38;5;241;43m=\u001b[39;49m\u001b[43mlevels\u001b[49m\u001b[43m,\u001b[49m\n\u001b[0;32m    389\u001b[0m \u001b[43m    \u001b[49m\u001b[43mnames\u001b[49m\u001b[38;5;241;43m=\u001b[39;49m\u001b[43mnames\u001b[49m\u001b[43m,\u001b[49m\n\u001b[0;32m    390\u001b[0m \u001b[43m    \u001b[49m\u001b[43mverify_integrity\u001b[49m\u001b[38;5;241;43m=\u001b[39;49m\u001b[43mverify_integrity\u001b[49m\u001b[43m,\u001b[49m\n\u001b[0;32m    391\u001b[0m \u001b[43m    \u001b[49m\u001b[43mcopy\u001b[49m\u001b[38;5;241;43m=\u001b[39;49m\u001b[43mcopy\u001b[49m\u001b[43m,\u001b[49m\n\u001b[0;32m    392\u001b[0m \u001b[43m    \u001b[49m\u001b[43msort\u001b[49m\u001b[38;5;241;43m=\u001b[39;49m\u001b[43msort\u001b[49m\u001b[43m,\u001b[49m\n\u001b[0;32m    393\u001b[0m \u001b[43m\u001b[49m\u001b[43m)\u001b[49m\n\u001b[0;32m    395\u001b[0m \u001b[38;5;28;01mreturn\u001b[39;00m op\u001b[38;5;241m.\u001b[39mget_result()\n",
      "File \u001b[1;32m~\\AppData\\Local\\Programs\\Python\\Python312\\Lib\\site-packages\\pandas\\core\\reshape\\concat.py:445\u001b[0m, in \u001b[0;36m_Concatenator.__init__\u001b[1;34m(self, objs, axis, join, keys, levels, names, ignore_index, verify_integrity, copy, sort)\u001b[0m\n\u001b[0;32m    442\u001b[0m \u001b[38;5;28mself\u001b[39m\u001b[38;5;241m.\u001b[39mverify_integrity \u001b[38;5;241m=\u001b[39m verify_integrity\n\u001b[0;32m    443\u001b[0m \u001b[38;5;28mself\u001b[39m\u001b[38;5;241m.\u001b[39mcopy \u001b[38;5;241m=\u001b[39m copy\n\u001b[1;32m--> 445\u001b[0m objs, keys \u001b[38;5;241m=\u001b[39m \u001b[38;5;28;43mself\u001b[39;49m\u001b[38;5;241;43m.\u001b[39;49m\u001b[43m_clean_keys_and_objs\u001b[49m\u001b[43m(\u001b[49m\u001b[43mobjs\u001b[49m\u001b[43m,\u001b[49m\u001b[43m \u001b[49m\u001b[43mkeys\u001b[49m\u001b[43m)\u001b[49m\n\u001b[0;32m    447\u001b[0m \u001b[38;5;66;03m# figure out what our result ndim is going to be\u001b[39;00m\n\u001b[0;32m    448\u001b[0m ndims \u001b[38;5;241m=\u001b[39m \u001b[38;5;28mself\u001b[39m\u001b[38;5;241m.\u001b[39m_get_ndims(objs)\n",
      "File \u001b[1;32m~\\AppData\\Local\\Programs\\Python\\Python312\\Lib\\site-packages\\pandas\\core\\reshape\\concat.py:507\u001b[0m, in \u001b[0;36m_Concatenator._clean_keys_and_objs\u001b[1;34m(self, objs, keys)\u001b[0m\n\u001b[0;32m    504\u001b[0m     objs_list \u001b[38;5;241m=\u001b[39m \u001b[38;5;28mlist\u001b[39m(objs)\n\u001b[0;32m    506\u001b[0m \u001b[38;5;28;01mif\u001b[39;00m \u001b[38;5;28mlen\u001b[39m(objs_list) \u001b[38;5;241m==\u001b[39m \u001b[38;5;241m0\u001b[39m:\n\u001b[1;32m--> 507\u001b[0m     \u001b[38;5;28;01mraise\u001b[39;00m \u001b[38;5;167;01mValueError\u001b[39;00m(\u001b[38;5;124m\"\u001b[39m\u001b[38;5;124mNo objects to concatenate\u001b[39m\u001b[38;5;124m\"\u001b[39m)\n\u001b[0;32m    509\u001b[0m \u001b[38;5;28;01mif\u001b[39;00m keys \u001b[38;5;129;01mis\u001b[39;00m \u001b[38;5;28;01mNone\u001b[39;00m:\n\u001b[0;32m    510\u001b[0m     objs_list \u001b[38;5;241m=\u001b[39m \u001b[38;5;28mlist\u001b[39m(com\u001b[38;5;241m.\u001b[39mnot_none(\u001b[38;5;241m*\u001b[39mobjs_list))\n",
      "\u001b[1;31mValueError\u001b[0m: No objects to concatenate"
     ]
    }
   ],
   "source": [
    "import glob\n",
    "import os\n",
    "\n",
    "\n",
    "path = \"data_alfa\"\n",
    "\n",
    "\n",
    "all_files = glob.glob(os.path.join(path, \"test*.csv\"))\n",
    "\n",
    "\n",
    "data_frames = []\n",
    "\n",
    "\n",
    "for filename in all_files:\n",
    "    df = pd.read_csv(filename)\n",
    "    data_frames.append(df)\n",
    "\n",
    "\n",
    "merged_df = pd.concat(data_frames, ignore_index=True)\n",
    "\n",
    "\n",
    "merged_df.to_csv(\"data_alfa/merged_test.csv\", index=False)\n",
    "\n",
    "print(\"Объединение завершено. Результат сохранён в 'merged_test.csv'.\")\n",
    "\n"
   ]
  },
  {
   "cell_type": "code",
   "execution_count": 3,
   "id": "9dcae61729847232",
   "metadata": {
    "ExecuteTime": {
     "end_time": "2024-11-08T14:56:02.667126100Z",
     "start_time": "2024-11-08T14:55:58.491660300Z"
    },
    "collapsed": false,
    "jupyter": {
     "outputs_hidden": false
    }
   },
   "outputs": [],
   "source": [
    "file_path = \"merged_train.csv\"\n",
    "df = pd.read_csv(file_path)\n",
    "df.head()\n",
    "del df[\"smpl\"]"
   ]
  },
  {
   "cell_type": "code",
   "execution_count": 4,
   "id": "95cc370e9ecf1de1",
   "metadata": {
    "ExecuteTime": {
     "end_time": "2024-11-08T14:56:02.673125500Z",
     "start_time": "2024-11-08T14:56:02.631126100Z"
    },
    "collapsed": false,
    "jupyter": {
     "outputs_hidden": false
    }
   },
   "outputs": [],
   "source": [
    "X = df.drop([\"target\"],axis=1)\n",
    "y = df[\"target\"]"
   ]
  },
  {
   "cell_type": "code",
   "execution_count": 5,
   "id": "78391d17-2986-41a7-a856-bf20e6c1712e",
   "metadata": {
    "ExecuteTime": {
     "end_time": "2024-11-08T14:56:03.022894200Z",
     "start_time": "2024-11-08T14:56:02.667126100Z"
    }
   },
   "outputs": [],
   "source": [
    "scaler = StandardScaler()\n",
    "scaler.fit(X)\n",
    "X = scaler.transform(X)"
   ]
  },
  {
   "cell_type": "code",
   "execution_count": 6,
   "id": "679d621b-2d1c-4341-8720-84c02cd43759",
   "metadata": {
    "ExecuteTime": {
     "end_time": "2024-11-08T14:56:03.454293Z",
     "start_time": "2024-11-08T14:56:03.021893100Z"
    }
   },
   "outputs": [],
   "source": [
    "X_train, X_test, y_train, y_test = train_test_split(X, y, test_size=0.2, random_state=42)"
   ]
  },
  {
   "cell_type": "code",
   "execution_count": 7,
   "id": "715930bd-758b-43c3-927a-e12503ca9669",
   "metadata": {
    "ExecuteTime": {
     "end_time": "2024-11-08T14:56:03.456292400Z",
     "start_time": "2024-11-08T14:56:03.449293600Z"
    }
   },
   "outputs": [],
   "source": [
    "class_weights = compute_class_weight(\n",
    "    class_weight='balanced',\n",
    "    classes=np.unique(y_train),\n",
    "    y=y_train\n",
    ")\n",
    "\n",
    "class_weights_dict = {i : class_weights[i] for i in range(len(class_weights))}"
   ]
  },
  {
   "cell_type": "code",
   "execution_count": 8,
   "id": "ec6c995b-5e19-4dee-9d8a-0bf691646975",
   "metadata": {
    "ExecuteTime": {
     "end_time": "2024-11-08T14:56:05.762044400Z",
     "start_time": "2024-11-08T14:56:03.458292800Z"
    }
   },
   "outputs": [],
   "source": [
    "from imblearn.over_sampling import SMOTE\n",
    "\n",
    "smote = SMOTE()\n",
    "X_resampled, y_resampled = smote.fit_resample(X, y)"
   ]
  },
  {
   "cell_type": "code",
   "execution_count": 11,
   "id": "0a88ee93-8d63-445a-90d9-8f5ea8862828",
   "metadata": {
    "ExecuteTime": {
     "end_time": "2024-11-08T14:13:21.024517500Z",
     "start_time": "2024-11-08T14:13:20.785705100Z"
    }
   },
   "outputs": [
    {
     "ename": "FileNotFoundError",
     "evalue": "[Errno 2] No such file or directory: 'data/test.csv'",
     "output_type": "error",
     "traceback": [
      "\u001b[1;31m---------------------------------------------------------------------------\u001b[0m",
      "\u001b[1;31mFileNotFoundError\u001b[0m                         Traceback (most recent call last)",
      "Cell \u001b[1;32mIn[11], line 4\u001b[0m\n\u001b[0;32m      1\u001b[0m \u001b[38;5;66;03m# Test data\u001b[39;00m\n\u001b[0;32m      3\u001b[0m file_path \u001b[38;5;241m=\u001b[39m \u001b[38;5;124m\"\u001b[39m\u001b[38;5;124mdata/test.csv\u001b[39m\u001b[38;5;124m\"\u001b[39m\n\u001b[1;32m----> 4\u001b[0m df \u001b[38;5;241m=\u001b[39m \u001b[43mpd\u001b[49m\u001b[38;5;241;43m.\u001b[39;49m\u001b[43mread_csv\u001b[49m\u001b[43m(\u001b[49m\u001b[43mfile_path\u001b[49m\u001b[43m)\u001b[49m\n\u001b[0;32m      5\u001b[0m df\u001b[38;5;241m.\u001b[39mhead()\n\u001b[0;32m      7\u001b[0m scaler \u001b[38;5;241m=\u001b[39m StandardScaler()\n",
      "File \u001b[1;32m~\\AppData\\Local\\Programs\\Python\\Python312\\Lib\\site-packages\\pandas\\io\\parsers\\readers.py:1026\u001b[0m, in \u001b[0;36mread_csv\u001b[1;34m(filepath_or_buffer, sep, delimiter, header, names, index_col, usecols, dtype, engine, converters, true_values, false_values, skipinitialspace, skiprows, skipfooter, nrows, na_values, keep_default_na, na_filter, verbose, skip_blank_lines, parse_dates, infer_datetime_format, keep_date_col, date_parser, date_format, dayfirst, cache_dates, iterator, chunksize, compression, thousands, decimal, lineterminator, quotechar, quoting, doublequote, escapechar, comment, encoding, encoding_errors, dialect, on_bad_lines, delim_whitespace, low_memory, memory_map, float_precision, storage_options, dtype_backend)\u001b[0m\n\u001b[0;32m   1013\u001b[0m kwds_defaults \u001b[38;5;241m=\u001b[39m _refine_defaults_read(\n\u001b[0;32m   1014\u001b[0m     dialect,\n\u001b[0;32m   1015\u001b[0m     delimiter,\n\u001b[1;32m   (...)\u001b[0m\n\u001b[0;32m   1022\u001b[0m     dtype_backend\u001b[38;5;241m=\u001b[39mdtype_backend,\n\u001b[0;32m   1023\u001b[0m )\n\u001b[0;32m   1024\u001b[0m kwds\u001b[38;5;241m.\u001b[39mupdate(kwds_defaults)\n\u001b[1;32m-> 1026\u001b[0m \u001b[38;5;28;01mreturn\u001b[39;00m \u001b[43m_read\u001b[49m\u001b[43m(\u001b[49m\u001b[43mfilepath_or_buffer\u001b[49m\u001b[43m,\u001b[49m\u001b[43m \u001b[49m\u001b[43mkwds\u001b[49m\u001b[43m)\u001b[49m\n",
      "File \u001b[1;32m~\\AppData\\Local\\Programs\\Python\\Python312\\Lib\\site-packages\\pandas\\io\\parsers\\readers.py:620\u001b[0m, in \u001b[0;36m_read\u001b[1;34m(filepath_or_buffer, kwds)\u001b[0m\n\u001b[0;32m    617\u001b[0m _validate_names(kwds\u001b[38;5;241m.\u001b[39mget(\u001b[38;5;124m\"\u001b[39m\u001b[38;5;124mnames\u001b[39m\u001b[38;5;124m\"\u001b[39m, \u001b[38;5;28;01mNone\u001b[39;00m))\n\u001b[0;32m    619\u001b[0m \u001b[38;5;66;03m# Create the parser.\u001b[39;00m\n\u001b[1;32m--> 620\u001b[0m parser \u001b[38;5;241m=\u001b[39m \u001b[43mTextFileReader\u001b[49m\u001b[43m(\u001b[49m\u001b[43mfilepath_or_buffer\u001b[49m\u001b[43m,\u001b[49m\u001b[43m \u001b[49m\u001b[38;5;241;43m*\u001b[39;49m\u001b[38;5;241;43m*\u001b[39;49m\u001b[43mkwds\u001b[49m\u001b[43m)\u001b[49m\n\u001b[0;32m    622\u001b[0m \u001b[38;5;28;01mif\u001b[39;00m chunksize \u001b[38;5;129;01mor\u001b[39;00m iterator:\n\u001b[0;32m    623\u001b[0m     \u001b[38;5;28;01mreturn\u001b[39;00m parser\n",
      "File \u001b[1;32m~\\AppData\\Local\\Programs\\Python\\Python312\\Lib\\site-packages\\pandas\\io\\parsers\\readers.py:1620\u001b[0m, in \u001b[0;36mTextFileReader.__init__\u001b[1;34m(self, f, engine, **kwds)\u001b[0m\n\u001b[0;32m   1617\u001b[0m     \u001b[38;5;28mself\u001b[39m\u001b[38;5;241m.\u001b[39moptions[\u001b[38;5;124m\"\u001b[39m\u001b[38;5;124mhas_index_names\u001b[39m\u001b[38;5;124m\"\u001b[39m] \u001b[38;5;241m=\u001b[39m kwds[\u001b[38;5;124m\"\u001b[39m\u001b[38;5;124mhas_index_names\u001b[39m\u001b[38;5;124m\"\u001b[39m]\n\u001b[0;32m   1619\u001b[0m \u001b[38;5;28mself\u001b[39m\u001b[38;5;241m.\u001b[39mhandles: IOHandles \u001b[38;5;241m|\u001b[39m \u001b[38;5;28;01mNone\u001b[39;00m \u001b[38;5;241m=\u001b[39m \u001b[38;5;28;01mNone\u001b[39;00m\n\u001b[1;32m-> 1620\u001b[0m \u001b[38;5;28mself\u001b[39m\u001b[38;5;241m.\u001b[39m_engine \u001b[38;5;241m=\u001b[39m \u001b[38;5;28;43mself\u001b[39;49m\u001b[38;5;241;43m.\u001b[39;49m\u001b[43m_make_engine\u001b[49m\u001b[43m(\u001b[49m\u001b[43mf\u001b[49m\u001b[43m,\u001b[49m\u001b[43m \u001b[49m\u001b[38;5;28;43mself\u001b[39;49m\u001b[38;5;241;43m.\u001b[39;49m\u001b[43mengine\u001b[49m\u001b[43m)\u001b[49m\n",
      "File \u001b[1;32m~\\AppData\\Local\\Programs\\Python\\Python312\\Lib\\site-packages\\pandas\\io\\parsers\\readers.py:1880\u001b[0m, in \u001b[0;36mTextFileReader._make_engine\u001b[1;34m(self, f, engine)\u001b[0m\n\u001b[0;32m   1878\u001b[0m     \u001b[38;5;28;01mif\u001b[39;00m \u001b[38;5;124m\"\u001b[39m\u001b[38;5;124mb\u001b[39m\u001b[38;5;124m\"\u001b[39m \u001b[38;5;129;01mnot\u001b[39;00m \u001b[38;5;129;01min\u001b[39;00m mode:\n\u001b[0;32m   1879\u001b[0m         mode \u001b[38;5;241m+\u001b[39m\u001b[38;5;241m=\u001b[39m \u001b[38;5;124m\"\u001b[39m\u001b[38;5;124mb\u001b[39m\u001b[38;5;124m\"\u001b[39m\n\u001b[1;32m-> 1880\u001b[0m \u001b[38;5;28mself\u001b[39m\u001b[38;5;241m.\u001b[39mhandles \u001b[38;5;241m=\u001b[39m \u001b[43mget_handle\u001b[49m\u001b[43m(\u001b[49m\n\u001b[0;32m   1881\u001b[0m \u001b[43m    \u001b[49m\u001b[43mf\u001b[49m\u001b[43m,\u001b[49m\n\u001b[0;32m   1882\u001b[0m \u001b[43m    \u001b[49m\u001b[43mmode\u001b[49m\u001b[43m,\u001b[49m\n\u001b[0;32m   1883\u001b[0m \u001b[43m    \u001b[49m\u001b[43mencoding\u001b[49m\u001b[38;5;241;43m=\u001b[39;49m\u001b[38;5;28;43mself\u001b[39;49m\u001b[38;5;241;43m.\u001b[39;49m\u001b[43moptions\u001b[49m\u001b[38;5;241;43m.\u001b[39;49m\u001b[43mget\u001b[49m\u001b[43m(\u001b[49m\u001b[38;5;124;43m\"\u001b[39;49m\u001b[38;5;124;43mencoding\u001b[39;49m\u001b[38;5;124;43m\"\u001b[39;49m\u001b[43m,\u001b[49m\u001b[43m \u001b[49m\u001b[38;5;28;43;01mNone\u001b[39;49;00m\u001b[43m)\u001b[49m\u001b[43m,\u001b[49m\n\u001b[0;32m   1884\u001b[0m \u001b[43m    \u001b[49m\u001b[43mcompression\u001b[49m\u001b[38;5;241;43m=\u001b[39;49m\u001b[38;5;28;43mself\u001b[39;49m\u001b[38;5;241;43m.\u001b[39;49m\u001b[43moptions\u001b[49m\u001b[38;5;241;43m.\u001b[39;49m\u001b[43mget\u001b[49m\u001b[43m(\u001b[49m\u001b[38;5;124;43m\"\u001b[39;49m\u001b[38;5;124;43mcompression\u001b[39;49m\u001b[38;5;124;43m\"\u001b[39;49m\u001b[43m,\u001b[49m\u001b[43m \u001b[49m\u001b[38;5;28;43;01mNone\u001b[39;49;00m\u001b[43m)\u001b[49m\u001b[43m,\u001b[49m\n\u001b[0;32m   1885\u001b[0m \u001b[43m    \u001b[49m\u001b[43mmemory_map\u001b[49m\u001b[38;5;241;43m=\u001b[39;49m\u001b[38;5;28;43mself\u001b[39;49m\u001b[38;5;241;43m.\u001b[39;49m\u001b[43moptions\u001b[49m\u001b[38;5;241;43m.\u001b[39;49m\u001b[43mget\u001b[49m\u001b[43m(\u001b[49m\u001b[38;5;124;43m\"\u001b[39;49m\u001b[38;5;124;43mmemory_map\u001b[39;49m\u001b[38;5;124;43m\"\u001b[39;49m\u001b[43m,\u001b[49m\u001b[43m \u001b[49m\u001b[38;5;28;43;01mFalse\u001b[39;49;00m\u001b[43m)\u001b[49m\u001b[43m,\u001b[49m\n\u001b[0;32m   1886\u001b[0m \u001b[43m    \u001b[49m\u001b[43mis_text\u001b[49m\u001b[38;5;241;43m=\u001b[39;49m\u001b[43mis_text\u001b[49m\u001b[43m,\u001b[49m\n\u001b[0;32m   1887\u001b[0m \u001b[43m    \u001b[49m\u001b[43merrors\u001b[49m\u001b[38;5;241;43m=\u001b[39;49m\u001b[38;5;28;43mself\u001b[39;49m\u001b[38;5;241;43m.\u001b[39;49m\u001b[43moptions\u001b[49m\u001b[38;5;241;43m.\u001b[39;49m\u001b[43mget\u001b[49m\u001b[43m(\u001b[49m\u001b[38;5;124;43m\"\u001b[39;49m\u001b[38;5;124;43mencoding_errors\u001b[39;49m\u001b[38;5;124;43m\"\u001b[39;49m\u001b[43m,\u001b[49m\u001b[43m \u001b[49m\u001b[38;5;124;43m\"\u001b[39;49m\u001b[38;5;124;43mstrict\u001b[39;49m\u001b[38;5;124;43m\"\u001b[39;49m\u001b[43m)\u001b[49m\u001b[43m,\u001b[49m\n\u001b[0;32m   1888\u001b[0m \u001b[43m    \u001b[49m\u001b[43mstorage_options\u001b[49m\u001b[38;5;241;43m=\u001b[39;49m\u001b[38;5;28;43mself\u001b[39;49m\u001b[38;5;241;43m.\u001b[39;49m\u001b[43moptions\u001b[49m\u001b[38;5;241;43m.\u001b[39;49m\u001b[43mget\u001b[49m\u001b[43m(\u001b[49m\u001b[38;5;124;43m\"\u001b[39;49m\u001b[38;5;124;43mstorage_options\u001b[39;49m\u001b[38;5;124;43m\"\u001b[39;49m\u001b[43m,\u001b[49m\u001b[43m \u001b[49m\u001b[38;5;28;43;01mNone\u001b[39;49;00m\u001b[43m)\u001b[49m\u001b[43m,\u001b[49m\n\u001b[0;32m   1889\u001b[0m \u001b[43m\u001b[49m\u001b[43m)\u001b[49m\n\u001b[0;32m   1890\u001b[0m \u001b[38;5;28;01massert\u001b[39;00m \u001b[38;5;28mself\u001b[39m\u001b[38;5;241m.\u001b[39mhandles \u001b[38;5;129;01mis\u001b[39;00m \u001b[38;5;129;01mnot\u001b[39;00m \u001b[38;5;28;01mNone\u001b[39;00m\n\u001b[0;32m   1891\u001b[0m f \u001b[38;5;241m=\u001b[39m \u001b[38;5;28mself\u001b[39m\u001b[38;5;241m.\u001b[39mhandles\u001b[38;5;241m.\u001b[39mhandle\n",
      "File \u001b[1;32m~\\AppData\\Local\\Programs\\Python\\Python312\\Lib\\site-packages\\pandas\\io\\common.py:873\u001b[0m, in \u001b[0;36mget_handle\u001b[1;34m(path_or_buf, mode, encoding, compression, memory_map, is_text, errors, storage_options)\u001b[0m\n\u001b[0;32m    868\u001b[0m \u001b[38;5;28;01melif\u001b[39;00m \u001b[38;5;28misinstance\u001b[39m(handle, \u001b[38;5;28mstr\u001b[39m):\n\u001b[0;32m    869\u001b[0m     \u001b[38;5;66;03m# Check whether the filename is to be opened in binary mode.\u001b[39;00m\n\u001b[0;32m    870\u001b[0m     \u001b[38;5;66;03m# Binary mode does not support 'encoding' and 'newline'.\u001b[39;00m\n\u001b[0;32m    871\u001b[0m     \u001b[38;5;28;01mif\u001b[39;00m ioargs\u001b[38;5;241m.\u001b[39mencoding \u001b[38;5;129;01mand\u001b[39;00m \u001b[38;5;124m\"\u001b[39m\u001b[38;5;124mb\u001b[39m\u001b[38;5;124m\"\u001b[39m \u001b[38;5;129;01mnot\u001b[39;00m \u001b[38;5;129;01min\u001b[39;00m ioargs\u001b[38;5;241m.\u001b[39mmode:\n\u001b[0;32m    872\u001b[0m         \u001b[38;5;66;03m# Encoding\u001b[39;00m\n\u001b[1;32m--> 873\u001b[0m         handle \u001b[38;5;241m=\u001b[39m \u001b[38;5;28;43mopen\u001b[39;49m\u001b[43m(\u001b[49m\n\u001b[0;32m    874\u001b[0m \u001b[43m            \u001b[49m\u001b[43mhandle\u001b[49m\u001b[43m,\u001b[49m\n\u001b[0;32m    875\u001b[0m \u001b[43m            \u001b[49m\u001b[43mioargs\u001b[49m\u001b[38;5;241;43m.\u001b[39;49m\u001b[43mmode\u001b[49m\u001b[43m,\u001b[49m\n\u001b[0;32m    876\u001b[0m \u001b[43m            \u001b[49m\u001b[43mencoding\u001b[49m\u001b[38;5;241;43m=\u001b[39;49m\u001b[43mioargs\u001b[49m\u001b[38;5;241;43m.\u001b[39;49m\u001b[43mencoding\u001b[49m\u001b[43m,\u001b[49m\n\u001b[0;32m    877\u001b[0m \u001b[43m            \u001b[49m\u001b[43merrors\u001b[49m\u001b[38;5;241;43m=\u001b[39;49m\u001b[43merrors\u001b[49m\u001b[43m,\u001b[49m\n\u001b[0;32m    878\u001b[0m \u001b[43m            \u001b[49m\u001b[43mnewline\u001b[49m\u001b[38;5;241;43m=\u001b[39;49m\u001b[38;5;124;43m\"\u001b[39;49m\u001b[38;5;124;43m\"\u001b[39;49m\u001b[43m,\u001b[49m\n\u001b[0;32m    879\u001b[0m \u001b[43m        \u001b[49m\u001b[43m)\u001b[49m\n\u001b[0;32m    880\u001b[0m     \u001b[38;5;28;01melse\u001b[39;00m:\n\u001b[0;32m    881\u001b[0m         \u001b[38;5;66;03m# Binary mode\u001b[39;00m\n\u001b[0;32m    882\u001b[0m         handle \u001b[38;5;241m=\u001b[39m \u001b[38;5;28mopen\u001b[39m(handle, ioargs\u001b[38;5;241m.\u001b[39mmode)\n",
      "\u001b[1;31mFileNotFoundError\u001b[0m: [Errno 2] No such file or directory: 'data/test.csv'"
     ]
    }
   ],
   "source": [
    "# Test data\n",
    "\n",
    "file_path = \"data/test.csv\"\n",
    "df = pd.read_csv(file_path)\n",
    "df.head()\n",
    "\n",
    "scaler = StandardScaler()\n",
    "scaler.fit(df)\n",
    "output_X = scaler.transform(df)\n",
    "\n",
    "output_df = pd.read_csv('data/input/baseline_submission_case1.csv', index_col='id')"
   ]
  },
  {
   "cell_type": "markdown",
   "id": "e8753aab5156c5d6",
   "metadata": {
    "collapsed": false,
    "jupyter": {
     "outputs_hidden": false
    }
   },
   "source": [
    "## BaseLine модель (LightGbm)"
   ]
  },
  {
   "cell_type": "code",
   "execution_count": 12,
   "id": "f3fe475b-b513-48c6-aacf-48f0a515621b",
   "metadata": {
    "ExecuteTime": {
     "end_time": "2024-11-08T14:14:54.098297700Z",
     "start_time": "2024-11-08T14:13:23.000439400Z"
    }
   },
   "outputs": [
    {
     "name": "stdout",
     "output_type": "stream",
     "text": [
      "[LightGBM] [Info] Number of positive: 37888, number of negative: 37888\n",
      "[LightGBM] [Info] Auto-choosing col-wise multi-threading, the overhead of testing was 0.129042 seconds.\n",
      "You can set `force_col_wise=true` to remove the overhead.\n",
      "[LightGBM] [Info] Total Bins 106732\n",
      "[LightGBM] [Info] Number of data points in the train set: 75776, number of used features: 419\n",
      "[LightGBM] [Info] [binary:BoostFromScore]: pavg=0.500000 -> initscore=0.000000\n",
      "recall: 0.30113636363636365\n",
      "precision: 0.9814814814814815\n",
      "roc-auc: 0.9828809992675399\n",
      "confusion matrix: [[7570    1]\n",
      " [ 123   53]]\n"
     ]
    }
   ],
   "source": [
    "# rec 32\n",
    "# prec 94\n",
    "# roc-auc 98\n",
    "\n",
    "import lightgbm as lgb\n",
    "\n",
    "params = {\n",
    "    'objective': 'binary',\n",
    "    'metric': 'binary_logloss',\n",
    "    'boosting_type': 'gbdt',\n",
    "    'learning_rate': 0.01,\n",
    "    'num_leaves': 31,\n",
    "    'max_depth': 10,\n",
    "    'min_child_samples': 10,\n",
    "    'class_weight': 'balanced',\n",
    "    'n_estimators': 1000\n",
    "}\n",
    "\n",
    "lgb_clf = lgb.LGBMClassifier(**params)\n",
    "lgb_clf.fit(X_resampled,y_resampled)\n",
    "\n",
    "lgb_clf.predict(X_test)\n",
    "y_pred = lgb_clf.predict(X_test)\n",
    "y_pred_proba = lgb_clf.predict_proba(X_test)[:, 1]\n",
    "\n",
    "print(\"recall:\", recall_score(y_test,y_pred))\n",
    "print(\"precision:\", precision_score(y_test,y_pred))\n",
    "print(\"roc-auc:\", roc_auc_score(y_test,y_pred_proba))\n",
    "print(\"confusion matrix:\", confusion_matrix(y_test,y_pred))\n"
   ]
  },
  {
   "cell_type": "code",
   "execution_count": 13,
   "id": "b55e7085-2083-4399-8cc3-ffd009aa963f",
   "metadata": {
    "ExecuteTime": {
     "end_time": "2024-11-08T14:14:54.108654500Z",
     "start_time": "2024-11-08T14:14:54.094297100Z"
    }
   },
   "outputs": [
    {
     "name": "stdout",
     "output_type": "stream",
     "text": [
      "Precision: 0.7364341085271318, Recall: 0.5397727272727273\n"
     ]
    }
   ],
   "source": [
    "threshold = 0.3\n",
    "y_pred_custom = (y_pred_proba >= threshold).astype(int)\n",
    "\n",
    "precision = precision_score(y_test, y_pred_custom)\n",
    "recall = recall_score(y_test, y_pred_custom)\n",
    "print(f\"Precision: {precision}, Recall: {recall}\")"
   ]
  },
  {
   "cell_type": "code",
   "execution_count": 14,
   "id": "12d22c73-120f-4076-85e0-a80e4a25e2e5",
   "metadata": {
    "ExecuteTime": {
     "end_time": "2024-11-08T14:14:54.159653800Z",
     "start_time": "2024-11-08T14:14:54.106657900Z"
    }
   },
   "outputs": [
    {
     "ename": "NameError",
     "evalue": "name 'output_X' is not defined",
     "output_type": "error",
     "traceback": [
      "\u001b[1;31m---------------------------------------------------------------------------\u001b[0m",
      "\u001b[1;31mNameError\u001b[0m                                 Traceback (most recent call last)",
      "Cell \u001b[1;32mIn[14], line 1\u001b[0m\n\u001b[1;32m----> 1\u001b[0m output \u001b[38;5;241m=\u001b[39m lgb_clf\u001b[38;5;241m.\u001b[39mpredict_proba(\u001b[43moutput_X\u001b[49m)[:,\u001b[38;5;241m1\u001b[39m]\n\u001b[0;32m      2\u001b[0m output_df[\u001b[38;5;124m'\u001b[39m\u001b[38;5;124mtarget\u001b[39m\u001b[38;5;124m'\u001b[39m] \u001b[38;5;241m=\u001b[39m output\n\u001b[0;32m      3\u001b[0m output_df\u001b[38;5;241m.\u001b[39mto_csv(\u001b[38;5;124m'\u001b[39m\u001b[38;5;124mdata/output/submission.csv\u001b[39m\u001b[38;5;124m'\u001b[39m, index\u001b[38;5;241m=\u001b[39m\u001b[38;5;28;01mTrue\u001b[39;00m)\n",
      "\u001b[1;31mNameError\u001b[0m: name 'output_X' is not defined"
     ]
    }
   ],
   "source": [
    "output = lgb_clf.predict_proba(output_X)[:,1]\n",
    "output_df['target'] = output\n",
    "output_df.to_csv('data/output/submission.csv', index=True)"
   ]
  },
  {
   "cell_type": "markdown",
   "id": "feb226c6d73f71b9",
   "metadata": {
    "collapsed": false,
    "jupyter": {
     "outputs_hidden": false
    }
   },
   "source": [
    "## Оптимизация с HyperOpt\n"
   ]
  },
  {
   "cell_type": "code",
   "execution_count": 15,
   "id": "1bc941068e108fb1",
   "metadata": {
    "ExecuteTime": {
     "end_time": "2024-11-08T14:15:30.870808900Z",
     "start_time": "2024-11-08T14:15:04.275719800Z"
    },
    "collapsed": false,
    "jupyter": {
     "outputs_hidden": false
    },
    "scrolled": true
   },
   "outputs": [
    {
     "name": "stdout",
     "output_type": "stream",
     "text": [
      "Текущие параметры: {'colsample_bytree': 0.9915384109973744, 'learning_rate': 0.04986544341201452, 'max_depth': 9, 'min_child_samples': 36, 'n_estimators': 650, 'num_leaves': 56, 'subsample': 0.8198126026525794}\n",
      "  0%|          | 0/50 [00:00<?, ?trial/s, best loss=?]"
     ]
    },
    {
     "name": "stderr",
     "output_type": "stream",
     "text": [
      "C:\\Users\\александр\\AppData\\Local\\Programs\\Python\\Python312\\Lib\\site-packages\\sklearn\\model_selection\\_validation.py:73: FutureWarning: `fit_params` is deprecated and will be removed in version 1.6. Pass parameters via `params` instead.\n",
      "  warnings.warn(\n",
      "\n"
     ]
    },
    {
     "name": "stdout",
     "output_type": "stream",
     "text": [
      "Ошибка при обучении модели:                           \n",
      "All the 5 fits failed.\n",
      "It is very likely that your model is misconfigured.\n",
      "You can try to debug the error by setting error_score='raise'.\n",
      "\n",
      "Below are more details about the failures:\n",
      "--------------------------------------------------------------------------------\n",
      "5 fits failed with the following error:\n",
      "Traceback (most recent call last):\n",
      "  File \"C:\\Users\\александр\\AppData\\Local\\Programs\\Python\\Python312\\Lib\\site-packages\\sklearn\\model_selection\\_validation.py\", line 888, in _fit_and_score\n",
      "    estimator.fit(X_train, y_train, **fit_params)\n",
      "TypeError: LGBMClassifier.fit() got an unexpected keyword argument 'verbose'\n",
      "\n",
      "Текущие параметры: {'colsample_bytree': 0.7629628413533296, 'learning_rate': 0.0665887710764731, 'max_depth': 15, 'min_child_samples': 19, 'n_estimators': 1000, 'num_leaves': 57, 'subsample': 0.8915627563512318}\n",
      "  2%|▏         | 1/50 [00:00<00:27,  1.76trial/s, best loss: inf]"
     ]
    },
    {
     "name": "stderr",
     "output_type": "stream",
     "text": [
      "C:\\Users\\александр\\AppData\\Local\\Programs\\Python\\Python312\\Lib\\site-packages\\sklearn\\model_selection\\_validation.py:73: FutureWarning: `fit_params` is deprecated and will be removed in version 1.6. Pass parameters via `params` instead.\n",
      "  warnings.warn(\n",
      "\n"
     ]
    },
    {
     "name": "stdout",
     "output_type": "stream",
     "text": [
      "Ошибка при обучении модели:                                      \n",
      "All the 5 fits failed.\n",
      "It is very likely that your model is misconfigured.\n",
      "You can try to debug the error by setting error_score='raise'.\n",
      "\n",
      "Below are more details about the failures:\n",
      "--------------------------------------------------------------------------------\n",
      "5 fits failed with the following error:\n",
      "Traceback (most recent call last):\n",
      "  File \"C:\\Users\\александр\\AppData\\Local\\Programs\\Python\\Python312\\Lib\\site-packages\\sklearn\\model_selection\\_validation.py\", line 888, in _fit_and_score\n",
      "    estimator.fit(X_train, y_train, **fit_params)\n",
      "TypeError: LGBMClassifier.fit() got an unexpected keyword argument 'verbose'\n",
      "\n",
      "Текущие параметры: {'colsample_bytree': 0.8910670098786795, 'learning_rate': 0.08570169546579202, 'max_depth': 7, 'min_child_samples': 15, 'n_estimators': 700, 'num_leaves': 26, 'subsample': 0.925955631869724}\n",
      "  4%|▍         | 2/50 [00:01<00:25,  1.91trial/s, best loss: inf]"
     ]
    },
    {
     "name": "stderr",
     "output_type": "stream",
     "text": [
      "C:\\Users\\александр\\AppData\\Local\\Programs\\Python\\Python312\\Lib\\site-packages\\sklearn\\model_selection\\_validation.py:73: FutureWarning: `fit_params` is deprecated and will be removed in version 1.6. Pass parameters via `params` instead.\n",
      "  warnings.warn(\n",
      "\n"
     ]
    },
    {
     "name": "stdout",
     "output_type": "stream",
     "text": [
      "Ошибка при обучении модели:                                      \n",
      "All the 5 fits failed.\n",
      "It is very likely that your model is misconfigured.\n",
      "You can try to debug the error by setting error_score='raise'.\n",
      "\n",
      "Below are more details about the failures:\n",
      "--------------------------------------------------------------------------------\n",
      "5 fits failed with the following error:\n",
      "Traceback (most recent call last):\n",
      "  File \"C:\\Users\\александр\\AppData\\Local\\Programs\\Python\\Python312\\Lib\\site-packages\\sklearn\\model_selection\\_validation.py\", line 888, in _fit_and_score\n",
      "    estimator.fit(X_train, y_train, **fit_params)\n",
      "TypeError: LGBMClassifier.fit() got an unexpected keyword argument 'verbose'\n",
      "\n",
      "Текущие параметры: {'colsample_bytree': 0.9483026464131066, 'learning_rate': 0.030687369800205366, 'max_depth': 8, 'min_child_samples': 24, 'n_estimators': 300, 'num_leaves': 22, 'subsample': 0.8161953496079888}\n",
      "  6%|▌         | 3/50 [00:01<00:24,  1.91trial/s, best loss: inf]"
     ]
    },
    {
     "name": "stderr",
     "output_type": "stream",
     "text": [
      "C:\\Users\\александр\\AppData\\Local\\Programs\\Python\\Python312\\Lib\\site-packages\\sklearn\\model_selection\\_validation.py:73: FutureWarning: `fit_params` is deprecated and will be removed in version 1.6. Pass parameters via `params` instead.\n",
      "  warnings.warn(\n",
      "\n"
     ]
    },
    {
     "name": "stdout",
     "output_type": "stream",
     "text": [
      "Ошибка при обучении модели:                                      \n",
      "All the 5 fits failed.\n",
      "It is very likely that your model is misconfigured.\n",
      "You can try to debug the error by setting error_score='raise'.\n",
      "\n",
      "Below are more details about the failures:\n",
      "--------------------------------------------------------------------------------\n",
      "5 fits failed with the following error:\n",
      "Traceback (most recent call last):\n",
      "  File \"C:\\Users\\александр\\AppData\\Local\\Programs\\Python\\Python312\\Lib\\site-packages\\sklearn\\model_selection\\_validation.py\", line 888, in _fit_and_score\n",
      "    estimator.fit(X_train, y_train, **fit_params)\n",
      "TypeError: LGBMClassifier.fit() got an unexpected keyword argument 'verbose'\n",
      "\n",
      "Текущие параметры: {'colsample_bytree': 0.7888547158234851, 'learning_rate': 0.020311470939761992, 'max_depth': 14, 'min_child_samples': 14, 'n_estimators': 100, 'num_leaves': 85, 'subsample': 0.7798882304520449}\n",
      "  8%|▊         | 4/50 [00:02<00:23,  1.98trial/s, best loss: inf]"
     ]
    },
    {
     "name": "stderr",
     "output_type": "stream",
     "text": [
      "C:\\Users\\александр\\AppData\\Local\\Programs\\Python\\Python312\\Lib\\site-packages\\sklearn\\model_selection\\_validation.py:73: FutureWarning: `fit_params` is deprecated and will be removed in version 1.6. Pass parameters via `params` instead.\n",
      "  warnings.warn(\n",
      "\n"
     ]
    },
    {
     "name": "stdout",
     "output_type": "stream",
     "text": [
      "Ошибка при обучении модели:                                      \n",
      "All the 5 fits failed.\n",
      "It is very likely that your model is misconfigured.\n",
      "You can try to debug the error by setting error_score='raise'.\n",
      "\n",
      "Below are more details about the failures:\n",
      "--------------------------------------------------------------------------------\n",
      "5 fits failed with the following error:\n",
      "Traceback (most recent call last):\n",
      "  File \"C:\\Users\\александр\\AppData\\Local\\Programs\\Python\\Python312\\Lib\\site-packages\\sklearn\\model_selection\\_validation.py\", line 888, in _fit_and_score\n",
      "    estimator.fit(X_train, y_train, **fit_params)\n",
      "TypeError: LGBMClassifier.fit() got an unexpected keyword argument 'verbose'\n",
      "\n",
      "Текущие параметры: {'colsample_bytree': 0.8517293961516796, 'learning_rate': 0.02062088641471406, 'max_depth': 5, 'min_child_samples': 23, 'n_estimators': 400, 'num_leaves': 58, 'subsample': 0.8759068566839956}\n",
      " 10%|█         | 5/50 [00:02<00:22,  1.97trial/s, best loss: inf]"
     ]
    },
    {
     "name": "stderr",
     "output_type": "stream",
     "text": [
      "C:\\Users\\александр\\AppData\\Local\\Programs\\Python\\Python312\\Lib\\site-packages\\sklearn\\model_selection\\_validation.py:73: FutureWarning: `fit_params` is deprecated and will be removed in version 1.6. Pass parameters via `params` instead.\n",
      "  warnings.warn(\n",
      "\n"
     ]
    },
    {
     "name": "stdout",
     "output_type": "stream",
     "text": [
      "Ошибка при обучении модели:                                      \n",
      "All the 5 fits failed.\n",
      "It is very likely that your model is misconfigured.\n",
      "You can try to debug the error by setting error_score='raise'.\n",
      "\n",
      "Below are more details about the failures:\n",
      "--------------------------------------------------------------------------------\n",
      "5 fits failed with the following error:\n",
      "Traceback (most recent call last):\n",
      "  File \"C:\\Users\\александр\\AppData\\Local\\Programs\\Python\\Python312\\Lib\\site-packages\\sklearn\\model_selection\\_validation.py\", line 888, in _fit_and_score\n",
      "    estimator.fit(X_train, y_train, **fit_params)\n",
      "TypeError: LGBMClassifier.fit() got an unexpected keyword argument 'verbose'\n",
      "\n",
      "Текущие параметры: {'colsample_bytree': 0.9029634761044194, 'learning_rate': 0.02568334242976064, 'max_depth': 15, 'min_child_samples': 41, 'n_estimators': 150, 'num_leaves': 21, 'subsample': 0.9323993146306625}\n",
      " 12%|█▏        | 6/50 [00:03<00:22,  1.94trial/s, best loss: inf]"
     ]
    },
    {
     "name": "stderr",
     "output_type": "stream",
     "text": [
      "C:\\Users\\александр\\AppData\\Local\\Programs\\Python\\Python312\\Lib\\site-packages\\sklearn\\model_selection\\_validation.py:73: FutureWarning: `fit_params` is deprecated and will be removed in version 1.6. Pass parameters via `params` instead.\n",
      "  warnings.warn(\n",
      "\n"
     ]
    },
    {
     "name": "stdout",
     "output_type": "stream",
     "text": [
      "Ошибка при обучении модели:                                      \n",
      "All the 5 fits failed.\n",
      "It is very likely that your model is misconfigured.\n",
      "You can try to debug the error by setting error_score='raise'.\n",
      "\n",
      "Below are more details about the failures:\n",
      "--------------------------------------------------------------------------------\n",
      "5 fits failed with the following error:\n",
      "Traceback (most recent call last):\n",
      "  File \"C:\\Users\\александр\\AppData\\Local\\Programs\\Python\\Python312\\Lib\\site-packages\\sklearn\\model_selection\\_validation.py\", line 888, in _fit_and_score\n",
      "    estimator.fit(X_train, y_train, **fit_params)\n",
      "TypeError: LGBMClassifier.fit() got an unexpected keyword argument 'verbose'\n",
      "\n",
      "Текущие параметры: {'colsample_bytree': 0.7978154927082431, 'learning_rate': 0.011450620133035369, 'max_depth': 9, 'min_child_samples': 49, 'n_estimators': 550, 'num_leaves': 95, 'subsample': 0.7479892637292214}\n",
      " 14%|█▍        | 7/50 [00:03<00:22,  1.94trial/s, best loss: inf]"
     ]
    },
    {
     "name": "stderr",
     "output_type": "stream",
     "text": [
      "C:\\Users\\александр\\AppData\\Local\\Programs\\Python\\Python312\\Lib\\site-packages\\sklearn\\model_selection\\_validation.py:73: FutureWarning: `fit_params` is deprecated and will be removed in version 1.6. Pass parameters via `params` instead.\n",
      "  warnings.warn(\n",
      "\n"
     ]
    },
    {
     "name": "stdout",
     "output_type": "stream",
     "text": [
      "Ошибка при обучении модели:                                      \n",
      "All the 5 fits failed.\n",
      "It is very likely that your model is misconfigured.\n",
      "You can try to debug the error by setting error_score='raise'.\n",
      "\n",
      "Below are more details about the failures:\n",
      "--------------------------------------------------------------------------------\n",
      "5 fits failed with the following error:\n",
      "Traceback (most recent call last):\n",
      "  File \"C:\\Users\\александр\\AppData\\Local\\Programs\\Python\\Python312\\Lib\\site-packages\\sklearn\\model_selection\\_validation.py\", line 888, in _fit_and_score\n",
      "    estimator.fit(X_train, y_train, **fit_params)\n",
      "TypeError: LGBMClassifier.fit() got an unexpected keyword argument 'verbose'\n",
      "\n",
      "Текущие параметры: {'colsample_bytree': 0.913631725358665, 'learning_rate': 0.023351102691668783, 'max_depth': 5, 'min_child_samples': 14, 'n_estimators': 150, 'num_leaves': 82, 'subsample': 0.7235888435788275}\n",
      " 16%|█▌        | 8/50 [00:04<00:21,  1.95trial/s, best loss: inf]"
     ]
    },
    {
     "name": "stderr",
     "output_type": "stream",
     "text": [
      "C:\\Users\\александр\\AppData\\Local\\Programs\\Python\\Python312\\Lib\\site-packages\\sklearn\\model_selection\\_validation.py:73: FutureWarning: `fit_params` is deprecated and will be removed in version 1.6. Pass parameters via `params` instead.\n",
      "  warnings.warn(\n",
      "\n"
     ]
    },
    {
     "name": "stdout",
     "output_type": "stream",
     "text": [
      "Ошибка при обучении модели:                                      \n",
      "All the 5 fits failed.\n",
      "It is very likely that your model is misconfigured.\n",
      "You can try to debug the error by setting error_score='raise'.\n",
      "\n",
      "Below are more details about the failures:\n",
      "--------------------------------------------------------------------------------\n",
      "5 fits failed with the following error:\n",
      "Traceback (most recent call last):\n",
      "  File \"C:\\Users\\александр\\AppData\\Local\\Programs\\Python\\Python312\\Lib\\site-packages\\sklearn\\model_selection\\_validation.py\", line 888, in _fit_and_score\n",
      "    estimator.fit(X_train, y_train, **fit_params)\n",
      "TypeError: LGBMClassifier.fit() got an unexpected keyword argument 'verbose'\n",
      "\n",
      "Текущие параметры: {'colsample_bytree': 0.6334305462661336, 'learning_rate': 0.03843991426826028, 'max_depth': 11, 'min_child_samples': 42, 'n_estimators': 250, 'num_leaves': 38, 'subsample': 0.6749608301186788}\n",
      " 18%|█▊        | 9/50 [00:04<00:21,  1.87trial/s, best loss: inf]"
     ]
    },
    {
     "name": "stderr",
     "output_type": "stream",
     "text": [
      "C:\\Users\\александр\\AppData\\Local\\Programs\\Python\\Python312\\Lib\\site-packages\\sklearn\\model_selection\\_validation.py:73: FutureWarning: `fit_params` is deprecated and will be removed in version 1.6. Pass parameters via `params` instead.\n",
      "  warnings.warn(\n",
      "\n"
     ]
    },
    {
     "name": "stdout",
     "output_type": "stream",
     "text": [
      "Ошибка при обучении модели:                                      \n",
      "All the 5 fits failed.\n",
      "It is very likely that your model is misconfigured.\n",
      "You can try to debug the error by setting error_score='raise'.\n",
      "\n",
      "Below are more details about the failures:\n",
      "--------------------------------------------------------------------------------\n",
      "5 fits failed with the following error:\n",
      "Traceback (most recent call last):\n",
      "  File \"C:\\Users\\александр\\AppData\\Local\\Programs\\Python\\Python312\\Lib\\site-packages\\sklearn\\model_selection\\_validation.py\", line 888, in _fit_and_score\n",
      "    estimator.fit(X_train, y_train, **fit_params)\n",
      "TypeError: LGBMClassifier.fit() got an unexpected keyword argument 'verbose'\n",
      "\n",
      "Текущие параметры: {'colsample_bytree': 0.7111602215739966, 'learning_rate': 0.039874878286537956, 'max_depth': 12, 'min_child_samples': 26, 'n_estimators': 650, 'num_leaves': 99, 'subsample': 0.827574095116723}\n",
      " 20%|██        | 10/50 [00:05<00:20,  1.91trial/s, best loss: inf]"
     ]
    },
    {
     "name": "stderr",
     "output_type": "stream",
     "text": [
      "C:\\Users\\александр\\AppData\\Local\\Programs\\Python\\Python312\\Lib\\site-packages\\sklearn\\model_selection\\_validation.py:73: FutureWarning: `fit_params` is deprecated and will be removed in version 1.6. Pass parameters via `params` instead.\n",
      "  warnings.warn(\n",
      "\n"
     ]
    },
    {
     "name": "stdout",
     "output_type": "stream",
     "text": [
      "Ошибка при обучении модели:                                       \n",
      "All the 5 fits failed.\n",
      "It is very likely that your model is misconfigured.\n",
      "You can try to debug the error by setting error_score='raise'.\n",
      "\n",
      "Below are more details about the failures:\n",
      "--------------------------------------------------------------------------------\n",
      "5 fits failed with the following error:\n",
      "Traceback (most recent call last):\n",
      "  File \"C:\\Users\\александр\\AppData\\Local\\Programs\\Python\\Python312\\Lib\\site-packages\\sklearn\\model_selection\\_validation.py\", line 888, in _fit_and_score\n",
      "    estimator.fit(X_train, y_train, **fit_params)\n",
      "TypeError: LGBMClassifier.fit() got an unexpected keyword argument 'verbose'\n",
      "\n",
      "Текущие параметры: {'colsample_bytree': 0.9342566910280616, 'learning_rate': 0.05508238263411164, 'max_depth': 4, 'min_child_samples': 16, 'n_estimators': 550, 'num_leaves': 36, 'subsample': 0.7434919055397282}\n",
      " 22%|██▏       | 11/50 [00:05<00:20,  1.93trial/s, best loss: inf]"
     ]
    },
    {
     "name": "stderr",
     "output_type": "stream",
     "text": [
      "C:\\Users\\александр\\AppData\\Local\\Programs\\Python\\Python312\\Lib\\site-packages\\sklearn\\model_selection\\_validation.py:73: FutureWarning: `fit_params` is deprecated and will be removed in version 1.6. Pass parameters via `params` instead.\n",
      "  warnings.warn(\n",
      "\n"
     ]
    },
    {
     "name": "stdout",
     "output_type": "stream",
     "text": [
      "Ошибка при обучении модели:                                       \n",
      "All the 5 fits failed.\n",
      "It is very likely that your model is misconfigured.\n",
      "You can try to debug the error by setting error_score='raise'.\n",
      "\n",
      "Below are more details about the failures:\n",
      "--------------------------------------------------------------------------------\n",
      "5 fits failed with the following error:\n",
      "Traceback (most recent call last):\n",
      "  File \"C:\\Users\\александр\\AppData\\Local\\Programs\\Python\\Python312\\Lib\\site-packages\\sklearn\\model_selection\\_validation.py\", line 888, in _fit_and_score\n",
      "    estimator.fit(X_train, y_train, **fit_params)\n",
      "TypeError: LGBMClassifier.fit() got an unexpected keyword argument 'verbose'\n",
      "\n",
      "Текущие параметры: {'colsample_bytree': 0.6280227323420289, 'learning_rate': 0.03118773199820047, 'max_depth': 4, 'min_child_samples': 46, 'n_estimators': 700, 'num_leaves': 58, 'subsample': 0.9413440845318739}\n",
      " 24%|██▍       | 12/50 [00:06<00:19,  1.95trial/s, best loss: inf]"
     ]
    },
    {
     "name": "stderr",
     "output_type": "stream",
     "text": [
      "C:\\Users\\александр\\AppData\\Local\\Programs\\Python\\Python312\\Lib\\site-packages\\sklearn\\model_selection\\_validation.py:73: FutureWarning: `fit_params` is deprecated and will be removed in version 1.6. Pass parameters via `params` instead.\n",
      "  warnings.warn(\n",
      "\n"
     ]
    },
    {
     "name": "stdout",
     "output_type": "stream",
     "text": [
      "Ошибка при обучении модели:                                       \n",
      "All the 5 fits failed.\n",
      "It is very likely that your model is misconfigured.\n",
      "You can try to debug the error by setting error_score='raise'.\n",
      "\n",
      "Below are more details about the failures:\n",
      "--------------------------------------------------------------------------------\n",
      "5 fits failed with the following error:\n",
      "Traceback (most recent call last):\n",
      "  File \"C:\\Users\\александр\\AppData\\Local\\Programs\\Python\\Python312\\Lib\\site-packages\\sklearn\\model_selection\\_validation.py\", line 888, in _fit_and_score\n",
      "    estimator.fit(X_train, y_train, **fit_params)\n",
      "TypeError: LGBMClassifier.fit() got an unexpected keyword argument 'verbose'\n",
      "\n",
      "Текущие параметры: {'colsample_bytree': 0.6797633425385097, 'learning_rate': 0.0510481050087565, 'max_depth': 6, 'min_child_samples': 44, 'n_estimators': 950, 'num_leaves': 42, 'subsample': 0.9746233711787073}\n",
      " 26%|██▌       | 13/50 [00:06<00:19,  1.91trial/s, best loss: inf]"
     ]
    },
    {
     "name": "stderr",
     "output_type": "stream",
     "text": [
      "C:\\Users\\александр\\AppData\\Local\\Programs\\Python\\Python312\\Lib\\site-packages\\sklearn\\model_selection\\_validation.py:73: FutureWarning: `fit_params` is deprecated and will be removed in version 1.6. Pass parameters via `params` instead.\n",
      "  warnings.warn(\n",
      "\n"
     ]
    },
    {
     "name": "stdout",
     "output_type": "stream",
     "text": [
      "Ошибка при обучении модели:                                       \n",
      "All the 5 fits failed.\n",
      "It is very likely that your model is misconfigured.\n",
      "You can try to debug the error by setting error_score='raise'.\n",
      "\n",
      "Below are more details about the failures:\n",
      "--------------------------------------------------------------------------------\n",
      "5 fits failed with the following error:\n",
      "Traceback (most recent call last):\n",
      "  File \"C:\\Users\\александр\\AppData\\Local\\Programs\\Python\\Python312\\Lib\\site-packages\\sklearn\\model_selection\\_validation.py\", line 888, in _fit_and_score\n",
      "    estimator.fit(X_train, y_train, **fit_params)\n",
      "TypeError: LGBMClassifier.fit() got an unexpected keyword argument 'verbose'\n",
      "\n",
      "Текущие параметры: {'colsample_bytree': 0.6140761798210861, 'learning_rate': 0.07840169909786515, 'max_depth': 11, 'min_child_samples': 36, 'n_estimators': 350, 'num_leaves': 60, 'subsample': 0.8100820610449525}\n",
      " 28%|██▊       | 14/50 [00:07<00:18,  1.94trial/s, best loss: inf]"
     ]
    },
    {
     "name": "stderr",
     "output_type": "stream",
     "text": [
      "C:\\Users\\александр\\AppData\\Local\\Programs\\Python\\Python312\\Lib\\site-packages\\sklearn\\model_selection\\_validation.py:73: FutureWarning: `fit_params` is deprecated and will be removed in version 1.6. Pass parameters via `params` instead.\n",
      "  warnings.warn(\n",
      "\n"
     ]
    },
    {
     "name": "stdout",
     "output_type": "stream",
     "text": [
      "Ошибка при обучении модели:                                       \n",
      "All the 5 fits failed.\n",
      "It is very likely that your model is misconfigured.\n",
      "You can try to debug the error by setting error_score='raise'.\n",
      "\n",
      "Below are more details about the failures:\n",
      "--------------------------------------------------------------------------------\n",
      "5 fits failed with the following error:\n",
      "Traceback (most recent call last):\n",
      "  File \"C:\\Users\\александр\\AppData\\Local\\Programs\\Python\\Python312\\Lib\\site-packages\\sklearn\\model_selection\\_validation.py\", line 888, in _fit_and_score\n",
      "    estimator.fit(X_train, y_train, **fit_params)\n",
      "TypeError: LGBMClassifier.fit() got an unexpected keyword argument 'verbose'\n",
      "\n",
      "Текущие параметры: {'colsample_bytree': 0.805684252921363, 'learning_rate': 0.07167382400712259, 'max_depth': 7, 'min_child_samples': 6, 'n_estimators': 450, 'num_leaves': 28, 'subsample': 0.8772533093905984}\n",
      " 30%|███       | 15/50 [00:07<00:18,  1.93trial/s, best loss: inf]"
     ]
    },
    {
     "name": "stderr",
     "output_type": "stream",
     "text": [
      "C:\\Users\\александр\\AppData\\Local\\Programs\\Python\\Python312\\Lib\\site-packages\\sklearn\\model_selection\\_validation.py:73: FutureWarning: `fit_params` is deprecated and will be removed in version 1.6. Pass parameters via `params` instead.\n",
      "  warnings.warn(\n",
      "\n"
     ]
    },
    {
     "name": "stdout",
     "output_type": "stream",
     "text": [
      "Ошибка при обучении модели:                                       \n",
      "All the 5 fits failed.\n",
      "It is very likely that your model is misconfigured.\n",
      "You can try to debug the error by setting error_score='raise'.\n",
      "\n",
      "Below are more details about the failures:\n",
      "--------------------------------------------------------------------------------\n",
      "5 fits failed with the following error:\n",
      "Traceback (most recent call last):\n",
      "  File \"C:\\Users\\александр\\AppData\\Local\\Programs\\Python\\Python312\\Lib\\site-packages\\sklearn\\model_selection\\_validation.py\", line 888, in _fit_and_score\n",
      "    estimator.fit(X_train, y_train, **fit_params)\n",
      "TypeError: LGBMClassifier.fit() got an unexpected keyword argument 'verbose'\n",
      "\n",
      "Текущие параметры: {'colsample_bytree': 0.8061527974231114, 'learning_rate': 0.09880042159395115, 'max_depth': 5, 'min_child_samples': 47, 'n_estimators': 200, 'num_leaves': 76, 'subsample': 0.9561998539199312}\n",
      " 32%|███▏      | 16/50 [00:08<00:17,  1.92trial/s, best loss: inf]"
     ]
    },
    {
     "name": "stderr",
     "output_type": "stream",
     "text": [
      "C:\\Users\\александр\\AppData\\Local\\Programs\\Python\\Python312\\Lib\\site-packages\\sklearn\\model_selection\\_validation.py:73: FutureWarning: `fit_params` is deprecated and will be removed in version 1.6. Pass parameters via `params` instead.\n",
      "  warnings.warn(\n",
      "\n"
     ]
    },
    {
     "name": "stdout",
     "output_type": "stream",
     "text": [
      "Ошибка при обучении модели:                                       \n",
      "All the 5 fits failed.\n",
      "It is very likely that your model is misconfigured.\n",
      "You can try to debug the error by setting error_score='raise'.\n",
      "\n",
      "Below are more details about the failures:\n",
      "--------------------------------------------------------------------------------\n",
      "5 fits failed with the following error:\n",
      "Traceback (most recent call last):\n",
      "  File \"C:\\Users\\александр\\AppData\\Local\\Programs\\Python\\Python312\\Lib\\site-packages\\sklearn\\model_selection\\_validation.py\", line 888, in _fit_and_score\n",
      "    estimator.fit(X_train, y_train, **fit_params)\n",
      "TypeError: LGBMClassifier.fit() got an unexpected keyword argument 'verbose'\n",
      "\n",
      "Текущие параметры: {'colsample_bytree': 0.6456003330067619, 'learning_rate': 0.04221048650038663, 'max_depth': 6, 'min_child_samples': 25, 'n_estimators': 250, 'num_leaves': 38, 'subsample': 0.9482436907484654}\n",
      " 34%|███▍      | 17/50 [00:08<00:17,  1.88trial/s, best loss: inf]"
     ]
    },
    {
     "name": "stderr",
     "output_type": "stream",
     "text": [
      "C:\\Users\\александр\\AppData\\Local\\Programs\\Python\\Python312\\Lib\\site-packages\\sklearn\\model_selection\\_validation.py:73: FutureWarning: `fit_params` is deprecated and will be removed in version 1.6. Pass parameters via `params` instead.\n",
      "  warnings.warn(\n",
      "\n"
     ]
    },
    {
     "name": "stdout",
     "output_type": "stream",
     "text": [
      "Ошибка при обучении модели:                                       \n",
      "All the 5 fits failed.\n",
      "It is very likely that your model is misconfigured.\n",
      "You can try to debug the error by setting error_score='raise'.\n",
      "\n",
      "Below are more details about the failures:\n",
      "--------------------------------------------------------------------------------\n",
      "5 fits failed with the following error:\n",
      "Traceback (most recent call last):\n",
      "  File \"C:\\Users\\александр\\AppData\\Local\\Programs\\Python\\Python312\\Lib\\site-packages\\sklearn\\model_selection\\_validation.py\", line 888, in _fit_and_score\n",
      "    estimator.fit(X_train, y_train, **fit_params)\n",
      "TypeError: LGBMClassifier.fit() got an unexpected keyword argument 'verbose'\n",
      "\n",
      "Текущие параметры: {'colsample_bytree': 0.6238880799986234, 'learning_rate': 0.07156249406240728, 'max_depth': 13, 'min_child_samples': 50, 'n_estimators': 200, 'num_leaves': 88, 'subsample': 0.7861263276810042}\n",
      " 36%|███▌      | 18/50 [00:09<00:17,  1.86trial/s, best loss: inf]"
     ]
    },
    {
     "name": "stderr",
     "output_type": "stream",
     "text": [
      "C:\\Users\\александр\\AppData\\Local\\Programs\\Python\\Python312\\Lib\\site-packages\\sklearn\\model_selection\\_validation.py:73: FutureWarning: `fit_params` is deprecated and will be removed in version 1.6. Pass parameters via `params` instead.\n",
      "  warnings.warn(\n",
      "\n"
     ]
    },
    {
     "name": "stdout",
     "output_type": "stream",
     "text": [
      "Ошибка при обучении модели:                                       \n",
      "All the 5 fits failed.\n",
      "It is very likely that your model is misconfigured.\n",
      "You can try to debug the error by setting error_score='raise'.\n",
      "\n",
      "Below are more details about the failures:\n",
      "--------------------------------------------------------------------------------\n",
      "5 fits failed with the following error:\n",
      "Traceback (most recent call last):\n",
      "  File \"C:\\Users\\александр\\AppData\\Local\\Programs\\Python\\Python312\\Lib\\site-packages\\sklearn\\model_selection\\_validation.py\", line 888, in _fit_and_score\n",
      "    estimator.fit(X_train, y_train, **fit_params)\n",
      "TypeError: LGBMClassifier.fit() got an unexpected keyword argument 'verbose'\n",
      "\n",
      "Текущие параметры: {'colsample_bytree': 0.8800810446609079, 'learning_rate': 0.07064881999257329, 'max_depth': 7, 'min_child_samples': 32, 'n_estimators': 900, 'num_leaves': 64, 'subsample': 0.9256925720189202}\n",
      " 38%|███▊      | 19/50 [00:09<00:16,  1.87trial/s, best loss: inf]"
     ]
    },
    {
     "name": "stderr",
     "output_type": "stream",
     "text": [
      "C:\\Users\\александр\\AppData\\Local\\Programs\\Python\\Python312\\Lib\\site-packages\\sklearn\\model_selection\\_validation.py:73: FutureWarning: `fit_params` is deprecated and will be removed in version 1.6. Pass parameters via `params` instead.\n",
      "  warnings.warn(\n",
      "\n"
     ]
    },
    {
     "name": "stdout",
     "output_type": "stream",
     "text": [
      "Ошибка при обучении модели:                                       \n",
      "All the 5 fits failed.\n",
      "It is very likely that your model is misconfigured.\n",
      "You can try to debug the error by setting error_score='raise'.\n",
      "\n",
      "Below are more details about the failures:\n",
      "--------------------------------------------------------------------------------\n",
      "5 fits failed with the following error:\n",
      "Traceback (most recent call last):\n",
      "  File \"C:\\Users\\александр\\AppData\\Local\\Programs\\Python\\Python312\\Lib\\site-packages\\sklearn\\model_selection\\_validation.py\", line 888, in _fit_and_score\n",
      "    estimator.fit(X_train, y_train, **fit_params)\n",
      "TypeError: LGBMClassifier.fit() got an unexpected keyword argument 'verbose'\n",
      "\n",
      "Текущие параметры: {'colsample_bytree': 0.6995489643493555, 'learning_rate': 0.05002501734625988, 'max_depth': 9, 'min_child_samples': 31, 'n_estimators': 800, 'num_leaves': 49, 'subsample': 0.9935103970696844}\n",
      " 40%|████      | 20/50 [00:10<00:16,  1.85trial/s, best loss: inf]"
     ]
    },
    {
     "name": "stderr",
     "output_type": "stream",
     "text": [
      "C:\\Users\\александр\\AppData\\Local\\Programs\\Python\\Python312\\Lib\\site-packages\\sklearn\\model_selection\\_validation.py:73: FutureWarning: `fit_params` is deprecated and will be removed in version 1.6. Pass parameters via `params` instead.\n",
      "  warnings.warn(\n",
      "\n"
     ]
    },
    {
     "name": "stdout",
     "output_type": "stream",
     "text": [
      "Ошибка при обучении модели:                                       \n",
      "All the 5 fits failed.\n",
      "It is very likely that your model is misconfigured.\n",
      "You can try to debug the error by setting error_score='raise'.\n",
      "\n",
      "Below are more details about the failures:\n",
      "--------------------------------------------------------------------------------\n",
      "5 fits failed with the following error:\n",
      "Traceback (most recent call last):\n",
      "  File \"C:\\Users\\александр\\AppData\\Local\\Programs\\Python\\Python312\\Lib\\site-packages\\sklearn\\model_selection\\_validation.py\", line 888, in _fit_and_score\n",
      "    estimator.fit(X_train, y_train, **fit_params)\n",
      "TypeError: LGBMClassifier.fit() got an unexpected keyword argument 'verbose'\n",
      "\n",
      "Текущие параметры: {'colsample_bytree': 0.9817991183715573, 'learning_rate': 0.09528627839405099, 'max_depth': 12, 'min_child_samples': 38, 'n_estimators': 800, 'num_leaves': 72, 'subsample': 0.6110586356942771}\n",
      " 42%|████▏     | 21/50 [00:11<00:15,  1.88trial/s, best loss: inf]"
     ]
    },
    {
     "name": "stderr",
     "output_type": "stream",
     "text": [
      "C:\\Users\\александр\\AppData\\Local\\Programs\\Python\\Python312\\Lib\\site-packages\\sklearn\\model_selection\\_validation.py:73: FutureWarning: `fit_params` is deprecated and will be removed in version 1.6. Pass parameters via `params` instead.\n",
      "  warnings.warn(\n",
      "\n"
     ]
    },
    {
     "name": "stdout",
     "output_type": "stream",
     "text": [
      "Ошибка при обучении модели:                                       \n",
      "All the 5 fits failed.\n",
      "It is very likely that your model is misconfigured.\n",
      "You can try to debug the error by setting error_score='raise'.\n",
      "\n",
      "Below are more details about the failures:\n",
      "--------------------------------------------------------------------------------\n",
      "5 fits failed with the following error:\n",
      "Traceback (most recent call last):\n",
      "  File \"C:\\Users\\александр\\AppData\\Local\\Programs\\Python\\Python312\\Lib\\site-packages\\sklearn\\model_selection\\_validation.py\", line 888, in _fit_and_score\n",
      "    estimator.fit(X_train, y_train, **fit_params)\n",
      "TypeError: LGBMClassifier.fit() got an unexpected keyword argument 'verbose'\n",
      "\n",
      "Текущие параметры: {'colsample_bytree': 0.9996837542903424, 'learning_rate': 0.05895690983946453, 'max_depth': 10, 'min_child_samples': 32, 'n_estimators': 850, 'num_leaves': 69, 'subsample': 0.8463632345389883}\n",
      " 44%|████▍     | 22/50 [00:11<00:15,  1.83trial/s, best loss: inf]"
     ]
    },
    {
     "name": "stderr",
     "output_type": "stream",
     "text": [
      "C:\\Users\\александр\\AppData\\Local\\Programs\\Python\\Python312\\Lib\\site-packages\\sklearn\\model_selection\\_validation.py:73: FutureWarning: `fit_params` is deprecated and will be removed in version 1.6. Pass parameters via `params` instead.\n",
      "  warnings.warn(\n",
      "\n"
     ]
    },
    {
     "name": "stdout",
     "output_type": "stream",
     "text": [
      "Ошибка при обучении модели:                                       \n",
      "All the 5 fits failed.\n",
      "It is very likely that your model is misconfigured.\n",
      "You can try to debug the error by setting error_score='raise'.\n",
      "\n",
      "Below are more details about the failures:\n",
      "--------------------------------------------------------------------------------\n",
      "5 fits failed with the following error:\n",
      "Traceback (most recent call last):\n",
      "  File \"C:\\Users\\александр\\AppData\\Local\\Programs\\Python\\Python312\\Lib\\site-packages\\sklearn\\model_selection\\_validation.py\", line 888, in _fit_and_score\n",
      "    estimator.fit(X_train, y_train, **fit_params)\n",
      "TypeError: LGBMClassifier.fit() got an unexpected keyword argument 'verbose'\n",
      "\n",
      "Текущие параметры: {'colsample_bytree': 0.7270607847227968, 'learning_rate': 0.04808601723994847, 'max_depth': 9, 'min_child_samples': 32, 'n_estimators': 800, 'num_leaves': 49, 'subsample': 0.9976147445670999}\n",
      " 46%|████▌     | 23/50 [00:12<00:15,  1.74trial/s, best loss: inf]"
     ]
    },
    {
     "name": "stderr",
     "output_type": "stream",
     "text": [
      "C:\\Users\\александр\\AppData\\Local\\Programs\\Python\\Python312\\Lib\\site-packages\\sklearn\\model_selection\\_validation.py:73: FutureWarning: `fit_params` is deprecated and will be removed in version 1.6. Pass parameters via `params` instead.\n",
      "  warnings.warn(\n",
      "\n"
     ]
    },
    {
     "name": "stdout",
     "output_type": "stream",
     "text": [
      "Ошибка при обучении модели:                                       \n",
      "All the 5 fits failed.\n",
      "It is very likely that your model is misconfigured.\n",
      "You can try to debug the error by setting error_score='raise'.\n",
      "\n",
      "Below are more details about the failures:\n",
      "--------------------------------------------------------------------------------\n",
      "5 fits failed with the following error:\n",
      "Traceback (most recent call last):\n",
      "  File \"C:\\Users\\александр\\AppData\\Local\\Programs\\Python\\Python312\\Lib\\site-packages\\sklearn\\model_selection\\_validation.py\", line 888, in _fit_and_score\n",
      "    estimator.fit(X_train, y_train, **fit_params)\n",
      "TypeError: LGBMClassifier.fit() got an unexpected keyword argument 'verbose'\n",
      "\n",
      "Текущие параметры: {'colsample_bytree': 0.9983490283818223, 'learning_rate': 0.0964811938229151, 'max_depth': 13, 'min_child_samples': 38, 'n_estimators': 650, 'num_leaves': 75, 'subsample': 0.6035813256632274}\n",
      " 48%|████▊     | 24/50 [00:12<00:14,  1.79trial/s, best loss: inf]"
     ]
    },
    {
     "name": "stderr",
     "output_type": "stream",
     "text": [
      "C:\\Users\\александр\\AppData\\Local\\Programs\\Python\\Python312\\Lib\\site-packages\\sklearn\\model_selection\\_validation.py:73: FutureWarning: `fit_params` is deprecated and will be removed in version 1.6. Pass parameters via `params` instead.\n",
      "  warnings.warn(\n",
      "\n"
     ]
    },
    {
     "name": "stdout",
     "output_type": "stream",
     "text": [
      "Ошибка при обучении модели:                                       \n",
      "All the 5 fits failed.\n",
      "It is very likely that your model is misconfigured.\n",
      "You can try to debug the error by setting error_score='raise'.\n",
      "\n",
      "Below are more details about the failures:\n",
      "--------------------------------------------------------------------------------\n",
      "5 fits failed with the following error:\n",
      "Traceback (most recent call last):\n",
      "  File \"C:\\Users\\александр\\AppData\\Local\\Programs\\Python\\Python312\\Lib\\site-packages\\sklearn\\model_selection\\_validation.py\", line 888, in _fit_and_score\n",
      "    estimator.fit(X_train, y_train, **fit_params)\n",
      "TypeError: LGBMClassifier.fit() got an unexpected keyword argument 'verbose'\n",
      "\n",
      "Текущие параметры: {'colsample_bytree': 0.9647870200164974, 'learning_rate': 0.0599019663177428, 'max_depth': 10, 'min_child_samples': 30, 'n_estimators': 850, 'num_leaves': 68, 'subsample': 0.6787686175243157}\n",
      " 50%|█████     | 25/50 [00:13<00:13,  1.85trial/s, best loss: inf]"
     ]
    },
    {
     "name": "stderr",
     "output_type": "stream",
     "text": [
      "C:\\Users\\александр\\AppData\\Local\\Programs\\Python\\Python312\\Lib\\site-packages\\sklearn\\model_selection\\_validation.py:73: FutureWarning: `fit_params` is deprecated and will be removed in version 1.6. Pass parameters via `params` instead.\n",
      "  warnings.warn(\n",
      "\n"
     ]
    },
    {
     "name": "stdout",
     "output_type": "stream",
     "text": [
      "Ошибка при обучении модели:                                       \n",
      "All the 5 fits failed.\n",
      "It is very likely that your model is misconfigured.\n",
      "You can try to debug the error by setting error_score='raise'.\n",
      "\n",
      "Below are more details about the failures:\n",
      "--------------------------------------------------------------------------------\n",
      "5 fits failed with the following error:\n",
      "Traceback (most recent call last):\n",
      "  File \"C:\\Users\\александр\\AppData\\Local\\Programs\\Python\\Python312\\Lib\\site-packages\\sklearn\\model_selection\\_validation.py\", line 888, in _fit_and_score\n",
      "    estimator.fit(X_train, y_train, **fit_params)\n",
      "TypeError: LGBMClassifier.fit() got an unexpected keyword argument 'verbose'\n",
      "\n",
      "Текущие параметры: {'colsample_bytree': 0.7474913109588336, 'learning_rate': 0.04465036926560216, 'max_depth': 8, 'min_child_samples': 36, 'n_estimators': 750, 'num_leaves': 49, 'subsample': 0.6632586925515601}\n",
      " 52%|█████▏    | 26/50 [00:13<00:12,  1.88trial/s, best loss: inf]"
     ]
    },
    {
     "name": "stderr",
     "output_type": "stream",
     "text": [
      "C:\\Users\\александр\\AppData\\Local\\Programs\\Python\\Python312\\Lib\\site-packages\\sklearn\\model_selection\\_validation.py:73: FutureWarning: `fit_params` is deprecated and will be removed in version 1.6. Pass parameters via `params` instead.\n",
      "  warnings.warn(\n",
      "\n"
     ]
    },
    {
     "name": "stdout",
     "output_type": "stream",
     "text": [
      "Ошибка при обучении модели:                                       \n",
      "All the 5 fits failed.\n",
      "It is very likely that your model is misconfigured.\n",
      "You can try to debug the error by setting error_score='raise'.\n",
      "\n",
      "Below are more details about the failures:\n",
      "--------------------------------------------------------------------------------\n",
      "5 fits failed with the following error:\n",
      "Traceback (most recent call last):\n",
      "  File \"C:\\Users\\александр\\AppData\\Local\\Programs\\Python\\Python312\\Lib\\site-packages\\sklearn\\model_selection\\_validation.py\", line 888, in _fit_and_score\n",
      "    estimator.fit(X_train, y_train, **fit_params)\n",
      "TypeError: LGBMClassifier.fit() got an unexpected keyword argument 'verbose'\n",
      "\n",
      "Текущие параметры: {'colsample_bytree': 0.9955078730025871, 'learning_rate': 0.08851429327949102, 'max_depth': 14, 'min_child_samples': 39, 'n_estimators': 500, 'num_leaves': 78, 'subsample': 0.6265338755852661}\n",
      " 54%|█████▍    | 27/50 [00:14<00:11,  1.92trial/s, best loss: inf]"
     ]
    },
    {
     "name": "stderr",
     "output_type": "stream",
     "text": [
      "C:\\Users\\александр\\AppData\\Local\\Programs\\Python\\Python312\\Lib\\site-packages\\sklearn\\model_selection\\_validation.py:73: FutureWarning: `fit_params` is deprecated and will be removed in version 1.6. Pass parameters via `params` instead.\n",
      "  warnings.warn(\n",
      "\n"
     ]
    },
    {
     "name": "stdout",
     "output_type": "stream",
     "text": [
      "Ошибка при обучении модели:                                       \n",
      "All the 5 fits failed.\n",
      "It is very likely that your model is misconfigured.\n",
      "You can try to debug the error by setting error_score='raise'.\n",
      "\n",
      "Below are more details about the failures:\n",
      "--------------------------------------------------------------------------------\n",
      "5 fits failed with the following error:\n",
      "Traceback (most recent call last):\n",
      "  File \"C:\\Users\\александр\\AppData\\Local\\Programs\\Python\\Python312\\Lib\\site-packages\\sklearn\\model_selection\\_validation.py\", line 888, in _fit_and_score\n",
      "    estimator.fit(X_train, y_train, **fit_params)\n",
      "TypeError: LGBMClassifier.fit() got an unexpected keyword argument 'verbose'\n",
      "\n",
      "Текущие параметры: {'colsample_bytree': 0.9584353108379114, 'learning_rate': 0.061119746320585214, 'max_depth': 10, 'min_child_samples': 21, 'n_estimators': 600, 'num_leaves': 66, 'subsample': 0.6887209160813191}\n",
      " 56%|█████▌    | 28/50 [00:14<00:11,  1.92trial/s, best loss: inf]"
     ]
    },
    {
     "name": "stderr",
     "output_type": "stream",
     "text": [
      "C:\\Users\\александр\\AppData\\Local\\Programs\\Python\\Python312\\Lib\\site-packages\\sklearn\\model_selection\\_validation.py:73: FutureWarning: `fit_params` is deprecated and will be removed in version 1.6. Pass parameters via `params` instead.\n",
      "  warnings.warn(\n",
      "\n"
     ]
    },
    {
     "name": "stdout",
     "output_type": "stream",
     "text": [
      "Ошибка при обучении модели:                                       \n",
      "All the 5 fits failed.\n",
      "It is very likely that your model is misconfigured.\n",
      "You can try to debug the error by setting error_score='raise'.\n",
      "\n",
      "Below are more details about the failures:\n",
      "--------------------------------------------------------------------------------\n",
      "5 fits failed with the following error:\n",
      "Traceback (most recent call last):\n",
      "  File \"C:\\Users\\александр\\AppData\\Local\\Programs\\Python\\Python312\\Lib\\site-packages\\sklearn\\model_selection\\_validation.py\", line 888, in _fit_and_score\n",
      "    estimator.fit(X_train, y_train, **fit_params)\n",
      "TypeError: LGBMClassifier.fit() got an unexpected keyword argument 'verbose'\n",
      "\n",
      "Текущие параметры: {'colsample_bytree': 0.7474554666891323, 'learning_rate': 0.010219887936381636, 'max_depth': 8, 'min_child_samples': 35, 'n_estimators': 1000, 'num_leaves': 44, 'subsample': 0.6416700328392431}\n",
      " 58%|█████▊    | 29/50 [00:15<00:11,  1.91trial/s, best loss: inf]"
     ]
    },
    {
     "name": "stderr",
     "output_type": "stream",
     "text": [
      "C:\\Users\\александр\\AppData\\Local\\Programs\\Python\\Python312\\Lib\\site-packages\\sklearn\\model_selection\\_validation.py:73: FutureWarning: `fit_params` is deprecated and will be removed in version 1.6. Pass parameters via `params` instead.\n",
      "  warnings.warn(\n",
      "\n"
     ]
    },
    {
     "name": "stdout",
     "output_type": "stream",
     "text": [
      "Ошибка при обучении модели:                                       \n",
      "All the 5 fits failed.\n",
      "It is very likely that your model is misconfigured.\n",
      "You can try to debug the error by setting error_score='raise'.\n",
      "\n",
      "Below are more details about the failures:\n",
      "--------------------------------------------------------------------------------\n",
      "5 fits failed with the following error:\n",
      "Traceback (most recent call last):\n",
      "  File \"C:\\Users\\александр\\AppData\\Local\\Programs\\Python\\Python312\\Lib\\site-packages\\sklearn\\model_selection\\_validation.py\", line 888, in _fit_and_score\n",
      "    estimator.fit(X_train, y_train, **fit_params)\n",
      "TypeError: LGBMClassifier.fit() got an unexpected keyword argument 'verbose'\n",
      "\n",
      "Текущие параметры: {'colsample_bytree': 0.8436781833279814, 'learning_rate': 0.08846776078812685, 'max_depth': 14, 'min_child_samples': 40, 'n_estimators': 500, 'num_leaves': 81, 'subsample': 0.849104643295228}\n",
      " 60%|██████    | 30/50 [00:15<00:10,  1.89trial/s, best loss: inf]"
     ]
    },
    {
     "name": "stderr",
     "output_type": "stream",
     "text": [
      "C:\\Users\\александр\\AppData\\Local\\Programs\\Python\\Python312\\Lib\\site-packages\\sklearn\\model_selection\\_validation.py:73: FutureWarning: `fit_params` is deprecated and will be removed in version 1.6. Pass parameters via `params` instead.\n",
      "  warnings.warn(\n",
      "\n"
     ]
    },
    {
     "name": "stdout",
     "output_type": "stream",
     "text": [
      "Ошибка при обучении модели:                                       \n",
      "All the 5 fits failed.\n",
      "It is very likely that your model is misconfigured.\n",
      "You can try to debug the error by setting error_score='raise'.\n",
      "\n",
      "Below are more details about the failures:\n",
      "--------------------------------------------------------------------------------\n",
      "5 fits failed with the following error:\n",
      "Traceback (most recent call last):\n",
      "  File \"C:\\Users\\александр\\AppData\\Local\\Programs\\Python\\Python312\\Lib\\site-packages\\sklearn\\model_selection\\_validation.py\", line 888, in _fit_and_score\n",
      "    estimator.fit(X_train, y_train, **fit_params)\n",
      "TypeError: LGBMClassifier.fit() got an unexpected keyword argument 'verbose'\n",
      "\n",
      "Текущие параметры: {'colsample_bytree': 0.9395373095026767, 'learning_rate': 0.06356899047324405, 'max_depth': 10, 'min_child_samples': 9, 'n_estimators': 600, 'num_leaves': 53, 'subsample': 0.7085850574243074}\n",
      " 62%|██████▏   | 31/50 [00:16<00:09,  1.91trial/s, best loss: inf]"
     ]
    },
    {
     "name": "stderr",
     "output_type": "stream",
     "text": [
      "C:\\Users\\александр\\AppData\\Local\\Programs\\Python\\Python312\\Lib\\site-packages\\sklearn\\model_selection\\_validation.py:73: FutureWarning: `fit_params` is deprecated and will be removed in version 1.6. Pass parameters via `params` instead.\n",
      "  warnings.warn(\n",
      "\n"
     ]
    },
    {
     "name": "stdout",
     "output_type": "stream",
     "text": [
      "Ошибка при обучении модели:                                       \n",
      "All the 5 fits failed.\n",
      "It is very likely that your model is misconfigured.\n",
      "You can try to debug the error by setting error_score='raise'.\n",
      "\n",
      "Below are more details about the failures:\n",
      "--------------------------------------------------------------------------------\n",
      "5 fits failed with the following error:\n",
      "Traceback (most recent call last):\n",
      "  File \"C:\\Users\\александр\\AppData\\Local\\Programs\\Python\\Python312\\Lib\\site-packages\\sklearn\\model_selection\\_validation.py\", line 888, in _fit_and_score\n",
      "    estimator.fit(X_train, y_train, **fit_params)\n",
      "TypeError: LGBMClassifier.fit() got an unexpected keyword argument 'verbose'\n",
      "\n",
      "Текущие параметры: {'colsample_bytree': 0.7618002737787634, 'learning_rate': 0.013299367895236164, 'max_depth': 8, 'min_child_samples': 28, 'n_estimators': 1000, 'num_leaves': 27, 'subsample': 0.7627516302415138}\n",
      " 64%|██████▍   | 32/50 [00:16<00:09,  1.91trial/s, best loss: inf]"
     ]
    },
    {
     "name": "stderr",
     "output_type": "stream",
     "text": [
      "C:\\Users\\александр\\AppData\\Local\\Programs\\Python\\Python312\\Lib\\site-packages\\sklearn\\model_selection\\_validation.py:73: FutureWarning: `fit_params` is deprecated and will be removed in version 1.6. Pass parameters via `params` instead.\n",
      "  warnings.warn(\n",
      "\n"
     ]
    },
    {
     "name": "stdout",
     "output_type": "stream",
     "text": [
      "Ошибка при обучении модели:                                       \n",
      "All the 5 fits failed.\n",
      "It is very likely that your model is misconfigured.\n",
      "You can try to debug the error by setting error_score='raise'.\n",
      "\n",
      "Below are more details about the failures:\n",
      "--------------------------------------------------------------------------------\n",
      "5 fits failed with the following error:\n",
      "Traceback (most recent call last):\n",
      "  File \"C:\\Users\\александр\\AppData\\Local\\Programs\\Python\\Python312\\Lib\\site-packages\\sklearn\\model_selection\\_validation.py\", line 888, in _fit_and_score\n",
      "    estimator.fit(X_train, y_train, **fit_params)\n",
      "TypeError: LGBMClassifier.fit() got an unexpected keyword argument 'verbose'\n",
      "\n",
      "Текущие параметры: {'colsample_bytree': 0.8511346126413419, 'learning_rate': 0.08113988754282078, 'max_depth': 15, 'min_child_samples': 43, 'n_estimators': 450, 'num_leaves': 92, 'subsample': 0.8970420093536152}\n",
      " 66%|██████▌   | 33/50 [00:17<00:08,  1.89trial/s, best loss: inf]"
     ]
    },
    {
     "name": "stderr",
     "output_type": "stream",
     "text": [
      "C:\\Users\\александр\\AppData\\Local\\Programs\\Python\\Python312\\Lib\\site-packages\\sklearn\\model_selection\\_validation.py:73: FutureWarning: `fit_params` is deprecated and will be removed in version 1.6. Pass parameters via `params` instead.\n",
      "  warnings.warn(\n",
      "\n"
     ]
    },
    {
     "name": "stdout",
     "output_type": "stream",
     "text": [
      "Ошибка при обучении модели:                                       \n",
      "All the 5 fits failed.\n",
      "It is very likely that your model is misconfigured.\n",
      "You can try to debug the error by setting error_score='raise'.\n",
      "\n",
      "Below are more details about the failures:\n",
      "--------------------------------------------------------------------------------\n",
      "5 fits failed with the following error:\n",
      "Traceback (most recent call last):\n",
      "  File \"C:\\Users\\александр\\AppData\\Local\\Programs\\Python\\Python312\\Lib\\site-packages\\sklearn\\model_selection\\_validation.py\", line 888, in _fit_and_score\n",
      "    estimator.fit(X_train, y_train, **fit_params)\n",
      "TypeError: LGBMClassifier.fit() got an unexpected keyword argument 'verbose'\n",
      "\n",
      "Текущие параметры: {'colsample_bytree': 0.9364610519864609, 'learning_rate': 0.06604164619885675, 'max_depth': 12, 'min_child_samples': 9, 'n_estimators': 650, 'num_leaves': 53, 'subsample': 0.7162906123378442}\n",
      " 68%|██████▊   | 34/50 [00:17<00:08,  1.90trial/s, best loss: inf]"
     ]
    },
    {
     "name": "stderr",
     "output_type": "stream",
     "text": [
      "C:\\Users\\александр\\AppData\\Local\\Programs\\Python\\Python312\\Lib\\site-packages\\sklearn\\model_selection\\_validation.py:73: FutureWarning: `fit_params` is deprecated and will be removed in version 1.6. Pass parameters via `params` instead.\n",
      "  warnings.warn(\n",
      "\n"
     ]
    },
    {
     "name": "stdout",
     "output_type": "stream",
     "text": [
      "Ошибка при обучении модели:                                       \n",
      "All the 5 fits failed.\n",
      "It is very likely that your model is misconfigured.\n",
      "You can try to debug the error by setting error_score='raise'.\n",
      "\n",
      "Below are more details about the failures:\n",
      "--------------------------------------------------------------------------------\n",
      "5 fits failed with the following error:\n",
      "Traceback (most recent call last):\n",
      "  File \"C:\\Users\\александр\\AppData\\Local\\Programs\\Python\\Python312\\Lib\\site-packages\\sklearn\\model_selection\\_validation.py\", line 888, in _fit_and_score\n",
      "    estimator.fit(X_train, y_train, **fit_params)\n",
      "TypeError: LGBMClassifier.fit() got an unexpected keyword argument 'verbose'\n",
      "\n",
      "Текущие параметры: {'colsample_bytree': 0.8787398775584915, 'learning_rate': 0.0714330923592416, 'max_depth': 7, 'min_child_samples': 20, 'n_estimators': 900, 'num_leaves': 64, 'subsample': 0.9083911708620791}\n",
      " 70%|███████   | 35/50 [00:18<00:07,  1.92trial/s, best loss: inf]"
     ]
    },
    {
     "name": "stderr",
     "output_type": "stream",
     "text": [
      "C:\\Users\\александр\\AppData\\Local\\Programs\\Python\\Python312\\Lib\\site-packages\\sklearn\\model_selection\\_validation.py:73: FutureWarning: `fit_params` is deprecated and will be removed in version 1.6. Pass parameters via `params` instead.\n",
      "  warnings.warn(\n",
      "\n"
     ]
    },
    {
     "name": "stdout",
     "output_type": "stream",
     "text": [
      "Ошибка при обучении модели:                                       \n",
      "All the 5 fits failed.\n",
      "It is very likely that your model is misconfigured.\n",
      "You can try to debug the error by setting error_score='raise'.\n",
      "\n",
      "Below are more details about the failures:\n",
      "--------------------------------------------------------------------------------\n",
      "5 fits failed with the following error:\n",
      "Traceback (most recent call last):\n",
      "  File \"C:\\Users\\александр\\AppData\\Local\\Programs\\Python\\Python312\\Lib\\site-packages\\sklearn\\model_selection\\_validation.py\", line 888, in _fit_and_score\n",
      "    estimator.fit(X_train, y_train, **fit_params)\n",
      "TypeError: LGBMClassifier.fit() got an unexpected keyword argument 'verbose'\n",
      "\n",
      "Текущие параметры: {'colsample_bytree': 0.6700246848077298, 'learning_rate': 0.03261273237335639, 'max_depth': 9, 'min_child_samples': 28, 'n_estimators': 750, 'num_leaves': 44, 'subsample': 0.9874468813138563}\n",
      " 72%|███████▏  | 36/50 [00:18<00:07,  1.92trial/s, best loss: inf]"
     ]
    },
    {
     "name": "stderr",
     "output_type": "stream",
     "text": [
      "C:\\Users\\александр\\AppData\\Local\\Programs\\Python\\Python312\\Lib\\site-packages\\sklearn\\model_selection\\_validation.py:73: FutureWarning: `fit_params` is deprecated and will be removed in version 1.6. Pass parameters via `params` instead.\n",
      "  warnings.warn(\n",
      "\n"
     ]
    },
    {
     "name": "stdout",
     "output_type": "stream",
     "text": [
      "Ошибка при обучении модели:                                       \n",
      "All the 5 fits failed.\n",
      "It is very likely that your model is misconfigured.\n",
      "You can try to debug the error by setting error_score='raise'.\n",
      "\n",
      "Below are more details about the failures:\n",
      "--------------------------------------------------------------------------------\n",
      "5 fits failed with the following error:\n",
      "Traceback (most recent call last):\n",
      "  File \"C:\\Users\\александр\\AppData\\Local\\Programs\\Python\\Python312\\Lib\\site-packages\\sklearn\\model_selection\\_validation.py\", line 888, in _fit_and_score\n",
      "    estimator.fit(X_train, y_train, **fit_params)\n",
      "TypeError: LGBMClassifier.fit() got an unexpected keyword argument 'verbose'\n",
      "\n",
      "Текущие параметры: {'colsample_bytree': 0.7007351675444795, 'learning_rate': 0.05153846684647603, 'max_depth': 11, 'min_child_samples': 22, 'n_estimators': 750, 'num_leaves': 30, 'subsample': 0.8560988039235814}\n",
      " 74%|███████▍  | 37/50 [00:19<00:06,  1.94trial/s, best loss: inf]"
     ]
    },
    {
     "name": "stderr",
     "output_type": "stream",
     "text": [
      "C:\\Users\\александр\\AppData\\Local\\Programs\\Python\\Python312\\Lib\\site-packages\\sklearn\\model_selection\\_validation.py:73: FutureWarning: `fit_params` is deprecated and will be removed in version 1.6. Pass parameters via `params` instead.\n",
      "  warnings.warn(\n",
      "\n"
     ]
    },
    {
     "name": "stdout",
     "output_type": "stream",
     "text": [
      "Ошибка при обучении модели:                                       \n",
      "All the 5 fits failed.\n",
      "It is very likely that your model is misconfigured.\n",
      "You can try to debug the error by setting error_score='raise'.\n",
      "\n",
      "Below are more details about the failures:\n",
      "--------------------------------------------------------------------------------\n",
      "5 fits failed with the following error:\n",
      "Traceback (most recent call last):\n",
      "  File \"C:\\Users\\александр\\AppData\\Local\\Programs\\Python\\Python312\\Lib\\site-packages\\sklearn\\model_selection\\_validation.py\", line 888, in _fit_and_score\n",
      "    estimator.fit(X_train, y_train, **fit_params)\n",
      "TypeError: LGBMClassifier.fit() got an unexpected keyword argument 'verbose'\n",
      "\n",
      "Текущие параметры: {'colsample_bytree': 0.9649750712810272, 'learning_rate': 0.0772887517604367, 'max_depth': 12, 'min_child_samples': 34, 'n_estimators': 700, 'num_leaves': 71, 'subsample': 0.7947415495050547}\n",
      " 76%|███████▌  | 38/50 [00:20<00:06,  1.95trial/s, best loss: inf]"
     ]
    },
    {
     "name": "stderr",
     "output_type": "stream",
     "text": [
      "C:\\Users\\александр\\AppData\\Local\\Programs\\Python\\Python312\\Lib\\site-packages\\sklearn\\model_selection\\_validation.py:73: FutureWarning: `fit_params` is deprecated and will be removed in version 1.6. Pass parameters via `params` instead.\n",
      "  warnings.warn(\n",
      "\n"
     ]
    },
    {
     "name": "stdout",
     "output_type": "stream",
     "text": [
      "Ошибка при обучении модели:                                       \n",
      "All the 5 fits failed.\n",
      "It is very likely that your model is misconfigured.\n",
      "You can try to debug the error by setting error_score='raise'.\n",
      "\n",
      "Below are more details about the failures:\n",
      "--------------------------------------------------------------------------------\n",
      "5 fits failed with the following error:\n",
      "Traceback (most recent call last):\n",
      "  File \"C:\\Users\\александр\\AppData\\Local\\Programs\\Python\\Python312\\Lib\\site-packages\\sklearn\\model_selection\\_validation.py\", line 888, in _fit_and_score\n",
      "    estimator.fit(X_train, y_train, **fit_params)\n",
      "TypeError: LGBMClassifier.fit() got an unexpected keyword argument 'verbose'\n",
      "\n",
      "Текущие параметры: {'colsample_bytree': 0.9877804226602667, 'learning_rate': 0.03635325282855306, 'max_depth': 13, 'min_child_samples': 18, 'n_estimators': 600, 'num_leaves': 73, 'subsample': 0.7723597365283881}\n",
      " 78%|███████▊  | 39/50 [00:20<00:05,  1.96trial/s, best loss: inf]"
     ]
    },
    {
     "name": "stderr",
     "output_type": "stream",
     "text": [
      "C:\\Users\\александр\\AppData\\Local\\Programs\\Python\\Python312\\Lib\\site-packages\\sklearn\\model_selection\\_validation.py:73: FutureWarning: `fit_params` is deprecated and will be removed in version 1.6. Pass parameters via `params` instead.\n",
      "  warnings.warn(\n",
      "\n"
     ]
    },
    {
     "name": "stdout",
     "output_type": "stream",
     "text": [
      "Ошибка при обучении модели:                                       \n",
      "All the 5 fits failed.\n",
      "It is very likely that your model is misconfigured.\n",
      "You can try to debug the error by setting error_score='raise'.\n",
      "\n",
      "Below are more details about the failures:\n",
      "--------------------------------------------------------------------------------\n",
      "5 fits failed with the following error:\n",
      "Traceback (most recent call last):\n",
      "  File \"C:\\Users\\александр\\AppData\\Local\\Programs\\Python\\Python312\\Lib\\site-packages\\sklearn\\model_selection\\_validation.py\", line 888, in _fit_and_score\n",
      "    estimator.fit(X_train, y_train, **fit_params)\n",
      "TypeError: LGBMClassifier.fit() got an unexpected keyword argument 'verbose'\n",
      "\n",
      "Текущие параметры: {'colsample_bytree': 0.9157071647742224, 'learning_rate': 0.057461022820925786, 'max_depth': 10, 'min_child_samples': 24, 'n_estimators': 950, 'num_leaves': 61, 'subsample': 0.8400159706277875}\n",
      " 80%|████████  | 40/50 [00:20<00:05,  1.98trial/s, best loss: inf]"
     ]
    },
    {
     "name": "stderr",
     "output_type": "stream",
     "text": [
      "C:\\Users\\александр\\AppData\\Local\\Programs\\Python\\Python312\\Lib\\site-packages\\sklearn\\model_selection\\_validation.py:73: FutureWarning: `fit_params` is deprecated and will be removed in version 1.6. Pass parameters via `params` instead.\n",
      "  warnings.warn(\n",
      "\n"
     ]
    },
    {
     "name": "stdout",
     "output_type": "stream",
     "text": [
      "Ошибка при обучении модели:                                       \n",
      "All the 5 fits failed.\n",
      "It is very likely that your model is misconfigured.\n",
      "You can try to debug the error by setting error_score='raise'.\n",
      "\n",
      "Below are more details about the failures:\n",
      "--------------------------------------------------------------------------------\n",
      "5 fits failed with the following error:\n",
      "Traceback (most recent call last):\n",
      "  File \"C:\\Users\\александр\\AppData\\Local\\Programs\\Python\\Python312\\Lib\\site-packages\\sklearn\\model_selection\\_validation.py\", line 888, in _fit_and_score\n",
      "    estimator.fit(X_train, y_train, **fit_params)\n",
      "TypeError: LGBMClassifier.fit() got an unexpected keyword argument 'verbose'\n",
      "\n",
      "Текущие параметры: {'colsample_bytree': 0.8211667997312505, 'learning_rate': 0.0261931864038982, 'max_depth': 6, 'min_child_samples': 45, 'n_estimators': 850, 'num_leaves': 55, 'subsample': 0.8696956267948106}\n",
      " 82%|████████▏ | 41/50 [00:21<00:04,  1.96trial/s, best loss: inf]"
     ]
    },
    {
     "name": "stderr",
     "output_type": "stream",
     "text": [
      "C:\\Users\\александр\\AppData\\Local\\Programs\\Python\\Python312\\Lib\\site-packages\\sklearn\\model_selection\\_validation.py:73: FutureWarning: `fit_params` is deprecated and will be removed in version 1.6. Pass parameters via `params` instead.\n",
      "  warnings.warn(\n",
      "\n"
     ]
    },
    {
     "name": "stdout",
     "output_type": "stream",
     "text": [
      "Ошибка при обучении модели:                                       \n",
      "All the 5 fits failed.\n",
      "It is very likely that your model is misconfigured.\n",
      "You can try to debug the error by setting error_score='raise'.\n",
      "\n",
      "Below are more details about the failures:\n",
      "--------------------------------------------------------------------------------\n",
      "5 fits failed with the following error:\n",
      "Traceback (most recent call last):\n",
      "  File \"C:\\Users\\александр\\AppData\\Local\\Programs\\Python\\Python312\\Lib\\site-packages\\sklearn\\model_selection\\_validation.py\", line 888, in _fit_and_score\n",
      "    estimator.fit(X_train, y_train, **fit_params)\n",
      "TypeError: LGBMClassifier.fit() got an unexpected keyword argument 'verbose'\n",
      "\n",
      "Текущие параметры: {'colsample_bytree': 0.7224709338208338, 'learning_rate': 0.017333569153335626, 'max_depth': 8, 'min_child_samples': 34, 'n_estimators': 350, 'num_leaves': 32, 'subsample': 0.8216698910188901}\n",
      " 84%|████████▍ | 42/50 [00:22<00:04,  1.94trial/s, best loss: inf]"
     ]
    },
    {
     "name": "stderr",
     "output_type": "stream",
     "text": [
      "C:\\Users\\александр\\AppData\\Local\\Programs\\Python\\Python312\\Lib\\site-packages\\sklearn\\model_selection\\_validation.py:73: FutureWarning: `fit_params` is deprecated and will be removed in version 1.6. Pass parameters via `params` instead.\n",
      "  warnings.warn(\n",
      "\n"
     ]
    },
    {
     "name": "stdout",
     "output_type": "stream",
     "text": [
      "Ошибка при обучении модели:                                       \n",
      "All the 5 fits failed.\n",
      "It is very likely that your model is misconfigured.\n",
      "You can try to debug the error by setting error_score='raise'.\n",
      "\n",
      "Below are more details about the failures:\n",
      "--------------------------------------------------------------------------------\n",
      "5 fits failed with the following error:\n",
      "Traceback (most recent call last):\n",
      "  File \"C:\\Users\\александр\\AppData\\Local\\Programs\\Python\\Python312\\Lib\\site-packages\\sklearn\\model_selection\\_validation.py\", line 888, in _fit_and_score\n",
      "    estimator.fit(X_train, y_train, **fit_params)\n",
      "TypeError: LGBMClassifier.fit() got an unexpected keyword argument 'verbose'\n",
      "\n",
      "Текущие параметры: {'colsample_bytree': 0.7822841858728538, 'learning_rate': 0.04577028313101539, 'max_depth': 11, 'min_child_samples': 27, 'n_estimators': 800, 'num_leaves': 24, 'subsample': 0.9665820918323971}\n",
      " 86%|████████▌ | 43/50 [00:22<00:03,  1.95trial/s, best loss: inf]"
     ]
    },
    {
     "name": "stderr",
     "output_type": "stream",
     "text": [
      "C:\\Users\\александр\\AppData\\Local\\Programs\\Python\\Python312\\Lib\\site-packages\\sklearn\\model_selection\\_validation.py:73: FutureWarning: `fit_params` is deprecated and will be removed in version 1.6. Pass parameters via `params` instead.\n",
      "  warnings.warn(\n",
      "\n"
     ]
    },
    {
     "name": "stdout",
     "output_type": "stream",
     "text": [
      "Ошибка при обучении модели:                                       \n",
      "All the 5 fits failed.\n",
      "It is very likely that your model is misconfigured.\n",
      "You can try to debug the error by setting error_score='raise'.\n",
      "\n",
      "Below are more details about the failures:\n",
      "--------------------------------------------------------------------------------\n",
      "5 fits failed with the following error:\n",
      "Traceback (most recent call last):\n",
      "  File \"C:\\Users\\александр\\AppData\\Local\\Programs\\Python\\Python312\\Lib\\site-packages\\sklearn\\model_selection\\_validation.py\", line 888, in _fit_and_score\n",
      "    estimator.fit(X_train, y_train, **fit_params)\n",
      "TypeError: LGBMClassifier.fit() got an unexpected keyword argument 'verbose'\n",
      "\n",
      "Текущие параметры: {'colsample_bytree': 0.9029594784359465, 'learning_rate': 0.09374095646101899, 'max_depth': 3, 'min_child_samples': 49, 'n_estimators': 650, 'num_leaves': 88, 'subsample': 0.7338816188210193}\n",
      " 88%|████████▊ | 44/50 [00:23<00:03,  1.94trial/s, best loss: inf]"
     ]
    },
    {
     "name": "stderr",
     "output_type": "stream",
     "text": [
      "C:\\Users\\александр\\AppData\\Local\\Programs\\Python\\Python312\\Lib\\site-packages\\sklearn\\model_selection\\_validation.py:73: FutureWarning: `fit_params` is deprecated and will be removed in version 1.6. Pass parameters via `params` instead.\n",
      "  warnings.warn(\n",
      "\n"
     ]
    },
    {
     "name": "stdout",
     "output_type": "stream",
     "text": [
      "Ошибка при обучении модели:                                       \n",
      "All the 5 fits failed.\n",
      "It is very likely that your model is misconfigured.\n",
      "You can try to debug the error by setting error_score='raise'.\n",
      "\n",
      "Below are more details about the failures:\n",
      "--------------------------------------------------------------------------------\n",
      "5 fits failed with the following error:\n",
      "Traceback (most recent call last):\n",
      "  File \"C:\\Users\\александр\\AppData\\Local\\Programs\\Python\\Python312\\Lib\\site-packages\\sklearn\\model_selection\\_validation.py\", line 888, in _fit_and_score\n",
      "    estimator.fit(X_train, y_train, **fit_params)\n",
      "TypeError: LGBMClassifier.fit() got an unexpected keyword argument 'verbose'\n",
      "\n",
      "Текущие параметры: {'colsample_bytree': 0.9210022715916876, 'learning_rate': 0.05435643285891788, 'max_depth': 15, 'min_child_samples': 42, 'n_estimators': 550, 'num_leaves': 95, 'subsample': 0.8058561960053792}\n",
      " 90%|█████████ | 45/50 [00:23<00:02,  1.88trial/s, best loss: inf]"
     ]
    },
    {
     "name": "stderr",
     "output_type": "stream",
     "text": [
      "C:\\Users\\александр\\AppData\\Local\\Programs\\Python\\Python312\\Lib\\site-packages\\sklearn\\model_selection\\_validation.py:73: FutureWarning: `fit_params` is deprecated and will be removed in version 1.6. Pass parameters via `params` instead.\n",
      "  warnings.warn(\n",
      "\n"
     ]
    },
    {
     "name": "stdout",
     "output_type": "stream",
     "text": [
      "Ошибка при обучении модели:                                       \n",
      "All the 5 fits failed.\n",
      "It is very likely that your model is misconfigured.\n",
      "You can try to debug the error by setting error_score='raise'.\n",
      "\n",
      "Below are more details about the failures:\n",
      "--------------------------------------------------------------------------------\n",
      "5 fits failed with the following error:\n",
      "Traceback (most recent call last):\n",
      "  File \"C:\\Users\\александр\\AppData\\Local\\Programs\\Python\\Python312\\Lib\\site-packages\\sklearn\\model_selection\\_validation.py\", line 888, in _fit_and_score\n",
      "    estimator.fit(X_train, y_train, **fit_params)\n",
      "TypeError: LGBMClassifier.fit() got an unexpected keyword argument 'verbose'\n",
      "\n",
      "Текущие параметры: {'colsample_bytree': 0.9749392469268138, 'learning_rate': 0.03840453179400412, 'max_depth': 10, 'min_child_samples': 30, 'n_estimators': 700, 'num_leaves': 67, 'subsample': 0.7580694952756614}\n",
      " 92%|█████████▏| 46/50 [00:24<00:02,  1.82trial/s, best loss: inf]"
     ]
    },
    {
     "name": "stderr",
     "output_type": "stream",
     "text": [
      "C:\\Users\\александр\\AppData\\Local\\Programs\\Python\\Python312\\Lib\\site-packages\\sklearn\\model_selection\\_validation.py:73: FutureWarning: `fit_params` is deprecated and will be removed in version 1.6. Pass parameters via `params` instead.\n",
      "  warnings.warn(\n",
      "\n"
     ]
    },
    {
     "name": "stdout",
     "output_type": "stream",
     "text": [
      "Ошибка при обучении модели:                                       \n",
      "All the 5 fits failed.\n",
      "It is very likely that your model is misconfigured.\n",
      "You can try to debug the error by setting error_score='raise'.\n",
      "\n",
      "Below are more details about the failures:\n",
      "--------------------------------------------------------------------------------\n",
      "5 fits failed with the following error:\n",
      "Traceback (most recent call last):\n",
      "  File \"C:\\Users\\александр\\AppData\\Local\\Programs\\Python\\Python312\\Lib\\site-packages\\sklearn\\model_selection\\_validation.py\", line 888, in _fit_and_score\n",
      "    estimator.fit(X_train, y_train, **fit_params)\n",
      "TypeError: LGBMClassifier.fit() got an unexpected keyword argument 'verbose'\n",
      "\n",
      "Текущие параметры: {'colsample_bytree': 0.8755158098511763, 'learning_rate': 0.0679726937836608, 'max_depth': 11, 'min_child_samples': 12, 'n_estimators': 950, 'num_leaves': 34, 'subsample': 0.6841922946944903}\n",
      " 94%|█████████▍| 47/50 [00:24<00:01,  1.70trial/s, best loss: inf]"
     ]
    },
    {
     "name": "stderr",
     "output_type": "stream",
     "text": [
      "C:\\Users\\александр\\AppData\\Local\\Programs\\Python\\Python312\\Lib\\site-packages\\sklearn\\model_selection\\_validation.py:73: FutureWarning: `fit_params` is deprecated and will be removed in version 1.6. Pass parameters via `params` instead.\n",
      "  warnings.warn(\n",
      "\n"
     ]
    },
    {
     "name": "stdout",
     "output_type": "stream",
     "text": [
      "Ошибка при обучении модели:                                       \n",
      "All the 5 fits failed.\n",
      "It is very likely that your model is misconfigured.\n",
      "You can try to debug the error by setting error_score='raise'.\n",
      "\n",
      "Below are more details about the failures:\n",
      "--------------------------------------------------------------------------------\n",
      "5 fits failed with the following error:\n",
      "Traceback (most recent call last):\n",
      "  File \"C:\\Users\\александр\\AppData\\Local\\Programs\\Python\\Python312\\Lib\\site-packages\\sklearn\\model_selection\\_validation.py\", line 888, in _fit_and_score\n",
      "    estimator.fit(X_train, y_train, **fit_params)\n",
      "TypeError: LGBMClassifier.fit() got an unexpected keyword argument 'verbose'\n",
      "\n",
      "Текущие параметры: {'colsample_bytree': 0.8317084107164279, 'learning_rate': 0.027514224169851397, 'max_depth': 4, 'min_child_samples': 47, 'n_estimators': 750, 'num_leaves': 48, 'subsample': 0.6471951084338126}\n",
      " 96%|█████████▌| 48/50 [00:25<00:01,  1.66trial/s, best loss: inf]"
     ]
    },
    {
     "name": "stderr",
     "output_type": "stream",
     "text": [
      "C:\\Users\\александр\\AppData\\Local\\Programs\\Python\\Python312\\Lib\\site-packages\\sklearn\\model_selection\\_validation.py:73: FutureWarning: `fit_params` is deprecated and will be removed in version 1.6. Pass parameters via `params` instead.\n",
      "  warnings.warn(\n",
      "\n"
     ]
    },
    {
     "name": "stdout",
     "output_type": "stream",
     "text": [
      "Ошибка при обучении модели:                                       \n",
      "All the 5 fits failed.\n",
      "It is very likely that your model is misconfigured.\n",
      "You can try to debug the error by setting error_score='raise'.\n",
      "\n",
      "Below are more details about the failures:\n",
      "--------------------------------------------------------------------------------\n",
      "5 fits failed with the following error:\n",
      "Traceback (most recent call last):\n",
      "  File \"C:\\Users\\александр\\AppData\\Local\\Programs\\Python\\Python312\\Lib\\site-packages\\sklearn\\model_selection\\_validation.py\", line 888, in _fit_and_score\n",
      "    estimator.fit(X_train, y_train, **fit_params)\n",
      "TypeError: LGBMClassifier.fit() got an unexpected keyword argument 'verbose'\n",
      "\n",
      "Текущие параметры: {'colsample_bytree': 0.773930692568755, 'learning_rate': 0.03490199313126039, 'max_depth': 8, 'min_child_samples': 37, 'n_estimators': 400, 'num_leaves': 42, 'subsample': 0.7021716088944939}\n",
      " 98%|█████████▊| 49/50 [00:26<00:00,  1.74trial/s, best loss: inf]"
     ]
    },
    {
     "name": "stderr",
     "output_type": "stream",
     "text": [
      "C:\\Users\\александр\\AppData\\Local\\Programs\\Python\\Python312\\Lib\\site-packages\\sklearn\\model_selection\\_validation.py:73: FutureWarning: `fit_params` is deprecated and will be removed in version 1.6. Pass parameters via `params` instead.\n",
      "  warnings.warn(\n",
      "\n"
     ]
    },
    {
     "name": "stdout",
     "output_type": "stream",
     "text": [
      "Ошибка при обучении модели:                                       \n",
      "All the 5 fits failed.\n",
      "It is very likely that your model is misconfigured.\n",
      "You can try to debug the error by setting error_score='raise'.\n",
      "\n",
      "Below are more details about the failures:\n",
      "--------------------------------------------------------------------------------\n",
      "5 fits failed with the following error:\n",
      "Traceback (most recent call last):\n",
      "  File \"C:\\Users\\александр\\AppData\\Local\\Programs\\Python\\Python312\\Lib\\site-packages\\sklearn\\model_selection\\_validation.py\", line 888, in _fit_and_score\n",
      "    estimator.fit(X_train, y_train, **fit_params)\n",
      "TypeError: LGBMClassifier.fit() got an unexpected keyword argument 'verbose'\n",
      "\n",
      "100%|██████████| 50/50 [00:26<00:00,  1.88trial/s, best loss: inf]\n",
      "Лучшие параметры: {'colsample_bytree': 0.9915384109973744, 'learning_rate': 0.04986544341201452, 'max_depth': 9.0, 'min_child_samples': 36.0, 'n_estimators': 650.0, 'num_leaves': 56.0, 'subsample': 0.8198126026525794}\n"
     ]
    }
   ],
   "source": [
    "import numpy as np\n",
    "from sklearn.model_selection import StratifiedKFold, cross_val_score\n",
    "import lightgbm as lgb\n",
    "from hyperopt import hp, tpe, Trials, STATUS_OK\n",
    "from hyperopt.fmin import fmin\n",
    "import pandas as pd\n",
    "from sklearn.metrics import recall_score, precision_score, roc_auc_score, confusion_matrix\n",
    "\n",
    "# Определение пространства поиска гиперпараметров\n",
    "space = {\n",
    "    'num_leaves': hp.quniform('num_leaves', 20, 100, 1),\n",
    "    'max_depth': hp.quniform('max_depth', 3, 15, 1),\n",
    "    'learning_rate': hp.uniform('learning_rate', 0.01, 0.1),\n",
    "    'min_child_samples': hp.quniform('min_child_samples', 5, 50, 1),\n",
    "    'n_estimators': hp.quniform('n_estimators', 100, 1000, 50),\n",
    "    'subsample': hp.uniform('subsample', 0.6, 1),\n",
    "    'colsample_bytree': hp.uniform('colsample_bytree', 0.6, 1),\n",
    "}\n",
    "\n",
    "def objective(params):\n",
    "    # Преобразуем параметры, которые должны быть целыми числами\n",
    "    params['num_leaves'] = int(params['num_leaves'])\n",
    "    params['max_depth'] = int(params['max_depth']) if params['max_depth'] > 0 else -1\n",
    "    params['min_child_samples'] = int(params['min_child_samples'])\n",
    "    params['n_estimators'] = int(params['n_estimators'])\n",
    "    \n",
    "    # Удаляем параметры с некорректными значениями\n",
    "    if params['max_depth'] == 0:\n",
    "        params['max_depth'] = -1\n",
    "    \n",
    "    print(f\"Текущие параметры: {params}\")\n",
    "    \n",
    "    clf = lgb.LGBMClassifier(\n",
    "        objective='binary',\n",
    "        boosting_type='gbdt',\n",
    "        class_weight='balanced',\n",
    "        **params\n",
    "    )\n",
    "    \n",
    "    # Используем кросс-валидацию для оценки модели\n",
    "    try:\n",
    "        score = cross_val_score(\n",
    "            clf, X_resampled, y_resampled,\n",
    "            scoring='roc_auc',\n",
    "            cv=5,\n",
    "            fit_params={'eval_metric': 'auc', 'verbose': -1}\n",
    "        ).mean()\n",
    "        loss = -score\n",
    "        status = STATUS_OK\n",
    "    except Exception as e:\n",
    "        print(f\"Ошибка при обучении модели: {e}\")\n",
    "        loss = np.inf\n",
    "        status = STATUS_OK\n",
    "    \n",
    "    return {'loss': loss, 'status': status}\n",
    "\n",
    "# Запуск оптимизации\n",
    "trials = Trials()\n",
    "best = fmin(\n",
    "    fn=objective,\n",
    "    space=space,\n",
    "    algo=tpe.suggest,\n",
    "    max_evals=50,\n",
    "    trials=trials\n",
    ")\n",
    "\n",
    "print(\"Лучшие параметры:\", best)\n",
    "\n",
    "# Преобразуем параметры после оптимизации\n",
    "best_params = {\n",
    "    'num_leaves': int(best['num_leaves']),\n",
    "    'max_depth': int(best['max_depth']) if best['max_depth'] > 0 else -1,\n",
    "    'learning_rate': best['learning_rate'],\n",
    "    'min_child_samples': int(best['min_child_samples']),\n",
    "    'n_estimators': int(best['n_estimators']),\n",
    "    'subsample': best['subsample'],\n",
    "    'colsample_bytree': best['colsample_bytree'],\n",
    "    'objective': 'binary',\n",
    "    'boosting_type': 'gbdt',\n",
    "    'class_weight': 'balanced',\n",
    "}\n",
    "\n",
    "\n"
   ]
  },
  {
   "cell_type": "code",
   "execution_count": 16,
   "id": "e10d5aa4606aa28",
   "metadata": {
    "ExecuteTime": {
     "end_time": "2024-11-08T14:16:24.509950200Z",
     "start_time": "2024-11-08T14:15:30.874767200Z"
    },
    "collapsed": false,
    "jupyter": {
     "outputs_hidden": false
    }
   },
   "outputs": [
    {
     "name": "stdout",
     "output_type": "stream",
     "text": [
      "[LightGBM] [Info] Number of positive: 37888, number of negative: 37888\n",
      "[LightGBM] [Info] Auto-choosing col-wise multi-threading, the overhead of testing was 0.115840 seconds.\n",
      "You can set `force_col_wise=true` to remove the overhead.\n",
      "[LightGBM] [Info] Total Bins 106732\n",
      "[LightGBM] [Info] Number of data points in the train set: 75776, number of used features: 419\n",
      "[LightGBM] [Info] [binary:BoostFromScore]: pavg=0.500000 -> initscore=0.000000\n",
      "recall: 1.0\n",
      "precision: 1.0\n",
      "roc-auc: 1.0\n",
      "confusion matrix: [[7571    0]\n",
      " [   0  176]]\n"
     ]
    }
   ],
   "source": [
    "# Обучение модели с лучшими параметрами\n",
    "lgb_clf_opt = lgb.LGBMClassifier(**best_params)\n",
    "lgb_clf_opt.fit(\n",
    "    X_resampled, y_resampled,\n",
    "    eval_metric='auc'\n",
    ")\n",
    "\n",
    "# Предсказание и оценкаФ\n",
    "y_pred = lgb_clf_opt.predict(X_test)\n",
    "y_pred_proba = lgb_clf_opt.predict_proba(X_test)[:, 1]\n",
    "\n",
    "print(\"recall:\", recall_score(y_test, y_pred))\n",
    "print(\"precision:\", precision_score(y_test, y_pred))\n",
    "print(\"roc-auc:\", roc_auc_score(y_test, y_pred_proba))\n",
    "print(\"confusion matrix:\", confusion_matrix(y_test, y_pred))"
   ]
  },
  {
   "cell_type": "markdown",
   "id": "de8db0b5e637ce46",
   "metadata": {
    "collapsed": false,
    "jupyter": {
     "outputs_hidden": false
    }
   },
   "source": [
    "## Модель Catboost"
   ]
  },
  {
   "cell_type": "code",
   "execution_count": 17,
   "id": "5b4d45afbdbe3775",
   "metadata": {
    "ExecuteTime": {
     "end_time": "2024-11-08T14:17:35.745713500Z",
     "start_time": "2024-11-08T14:16:24.511951Z"
    },
    "collapsed": false,
    "jupyter": {
     "outputs_hidden": false
    }
   },
   "outputs": [
    {
     "name": "stdout",
     "output_type": "stream",
     "text": [
      "0:\ttest: 0.5129483\tbest: 0.5129483 (0)\ttotal: 286ms\tremaining: 4m 45s\n",
      "100:\ttest: 0.8740672\tbest: 0.8740672 (100)\ttotal: 7.06s\tremaining: 1m 2s\n",
      "200:\ttest: 0.9489537\tbest: 0.9489537 (200)\ttotal: 14.5s\tremaining: 57.6s\n",
      "300:\ttest: 0.9785815\tbest: 0.9785815 (300)\ttotal: 23.2s\tremaining: 53.9s\n",
      "400:\ttest: 0.9893516\tbest: 0.9893516 (400)\ttotal: 30s\tremaining: 44.9s\n",
      "500:\ttest: 0.9923437\tbest: 0.9924195 (492)\ttotal: 41.2s\tremaining: 41.1s\n",
      "600:\ttest: 0.9937073\tbest: 0.9937073 (596)\ttotal: 48s\tremaining: 31.9s\n",
      "700:\ttest: 0.9946912\tbest: 0.9946927 (695)\ttotal: 54.8s\tremaining: 23.4s\n",
      "Stopped by overfitting detector  (50 iterations wait)\n",
      "\n",
      "bestTest = 0.9947969825\n",
      "bestIteration = 721\n",
      "\n",
      "Shrink model to first 722 iterations.\n",
      "Recall: 1.0\n",
      "Precision: 0.14789915966386555\n",
      "ROC-AUC: 0.9947969825050131\n",
      "Confusion Matrix:\n",
      " [[6557 1014]\n",
      " [   0  176]]\n"
     ]
    }
   ],
   "source": [
    "import catboost as ctb\n",
    "from catboost import CatBoostClassifier\n",
    "\n",
    "cat_clf = CatBoostClassifier(\n",
    "    iterations=1000,              \n",
    "    learning_rate=0.1,             \n",
    "    depth=6,                       \n",
    "    class_weights=class_weights,   \n",
    "    eval_metric='AUC',             \n",
    "    random_seed=42,               \n",
    "    verbose=100)                   \n",
    "\n",
    "cat_clf.fit(\n",
    "    X_resampled, y_resampled,\n",
    "    eval_set=(X_test, y_test),  \n",
    "    early_stopping_rounds=50           \n",
    ")\n",
    "\n",
    "y_pred = cat_clf.predict(X_test)\n",
    "\n",
    "y_pred_proba = cat_clf.predict_proba(X_test)[:, 1]\n",
    "\n",
    "recall_ctb = recall_score(y_test, y_pred)\n",
    "precision_ctb = precision_score(y_test, y_pred)\n",
    "roc_auc_ctb = roc_auc_score(y_test, y_pred_proba)\n",
    "conf_matrix_ctb = confusion_matrix(y_test, y_pred)\n",
    "\n",
    "print(\"Recall:\", recall_ctb)\n",
    "print(\"Precision:\", precision_ctb)\n",
    "print(\"ROC-AUC:\", roc_auc_ctb)\n",
    "print(\"Confusion Matrix:\\n\", conf_matrix_ctb)"
   ]
  },
  {
   "cell_type": "code",
   "execution_count": null,
   "id": "8422afdc79a03248",
   "metadata": {
    "ExecuteTime": {
     "start_time": "2024-11-08T14:54:48.322655300Z"
    },
    "collapsed": false,
    "jupyter": {
     "outputs_hidden": false
    }
   },
   "outputs": [],
   "source": [
    "в"
   ]
  },
  {
   "cell_type": "markdown",
   "id": "49f139eb-3714-4d8a-a439-f592e81dfee9",
   "metadata": {},
   "source": [
    "## Модель RandomForest"
   ]
  },
  {
   "cell_type": "code",
   "execution_count": 9,
   "id": "ad31a7e33b8b40bc",
   "metadata": {
    "ExecuteTime": {
     "end_time": "2024-11-08T14:57:32.136521900Z",
     "start_time": "2024-11-08T14:56:24.175643900Z"
    },
    "collapsed": false,
    "jupyter": {
     "outputs_hidden": false
    }
   },
   "outputs": [
    {
     "name": "stderr",
     "output_type": "stream",
     "text": [
      "[Parallel(n_jobs=-1)]: Using backend ThreadingBackend with 6 concurrent workers.\n",
      "[Parallel(n_jobs=-1)]: Done  38 tasks      | elapsed:   25.4s\n",
      "[Parallel(n_jobs=-1)]: Done 100 out of 100 | elapsed:  1.1min finished\n",
      "[Parallel(n_jobs=6)]: Using backend ThreadingBackend with 6 concurrent workers.\n",
      "[Parallel(n_jobs=6)]: Done  38 tasks      | elapsed:    0.0s\n",
      "[Parallel(n_jobs=6)]: Done 100 out of 100 | elapsed:    0.1s finished\n"
     ]
    },
    {
     "name": "stdout",
     "output_type": "stream",
     "text": [
      "Recall: 1.0\n",
      "Precision: 1.0\n",
      "Roc-AUC: 1.0\n",
      "Confusion Matrix:\n",
      " [[7571    0]\n",
      " [   0  176]]\n"
     ]
    },
    {
     "name": "stderr",
     "output_type": "stream",
     "text": [
      "[Parallel(n_jobs=6)]: Using backend ThreadingBackend with 6 concurrent workers.\n",
      "[Parallel(n_jobs=6)]: Done  38 tasks      | elapsed:    0.0s\n",
      "[Parallel(n_jobs=6)]: Done 100 out of 100 | elapsed:    0.0s finished\n"
     ]
    }
   ],
   "source": [
    "from sklearn.ensemble import RandomForestClassifier\n",
    "\n",
    "rf_clf = RandomForestClassifier(n_jobs=-1, verbose=1, class_weight='balanced')\n",
    "rf_clf.fit(X_resampled, y_resampled)\n",
    "\n",
    "rf_y_pred = rf_clf.predict(X_test)\n",
    "rf_y_pred_proba = rf_clf.predict_proba(X_test)[:, 1]\n",
    "recall_rf = recall_score(y_test, rf_y_pred)\n",
    "precision_rf = precision_score(y_test, rf_y_pred)\n",
    "roc_auc_rf = roc_auc_score(y_test, rf_y_pred_proba)\n",
    "conf_matrix_rf = confusion_matrix(y_test,rf_y_pred)\n",
    "\n",
    "print(\"Recall:\", recall_rf)\n",
    "print(\"Precision:\", precision_rf)\n",
    "print(\"Roc-AUC:\", roc_auc_rf)\n",
    "print(\"Confusion Matrix:\\n\", conf_matrix_rf)"
   ]
  },
  {
   "cell_type": "markdown",
   "id": "e427bf64-d346-47a9-85f0-63ea594f5192",
   "metadata": {},
   "source": [
    "## Стак модель"
   ]
  },
  {
   "cell_type": "code",
   "execution_count": null,
   "id": "8de555e6393bc404",
   "metadata": {
    "ExecuteTime": {
     "start_time": "2024-11-08T14:54:48.317620900Z"
    },
    "collapsed": false,
    "jupyter": {
     "outputs_hidden": false
    },
    "scrolled": true
   },
   "outputs": [],
   "source": [
    "from sklearn.base import BaseEstimator, ClassifierMixin\n",
    "from sklearn.ensemble import StackingClassifier\n",
    "from xgboost import XGBClassifier  \n",
    "import lightgbm as lgb\n",
    "from catboost import CatBoostClassifier\n",
    "from sklearn.ensemble import RandomForestClassifier\n",
    "from sklearn.metrics import recall_score, precision_score, roc_auc_score, confusion_matrix\n",
    "\n",
    "class EstimatorWrapper(BaseEstimator, ClassifierMixin):\n",
    "    def __init__(self, base_estimator, name, **kwargs):\n",
    "        self.name = name\n",
    "        self.base_estimator = base_estimator\n",
    "        self.base_estimator.set_params(**kwargs)\n",
    "    \n",
    "    def fit(self, X, y, **fit_params):\n",
    "        print(f\"Начинается обучение модели {self.name}\")\n",
    "        self.base_estimator.fit(X_resampled, y_resampled, **fit_params) ##вернуть х и у\n",
    "        self.classes_ = self.base_estimator.classes_  \n",
    "        print(f\"Обучение модели {self.name} завершено\")\n",
    "        return self\n",
    "    \n",
    "    def predict(self, X):\n",
    "        return self.base_estimator.predict(X)\n",
    "    \n",
    "    def predict_proba(self, X):\n",
    "        return self.base_estimator.predict_proba(X)\n",
    "    \n",
    "    def get_params(self, deep=True):\n",
    "        params = {'name': self.name, 'base_estimator': self.base_estimator}\n",
    "        if deep:\n",
    "            base_params = self.base_estimator.get_params(deep=deep)\n",
    "            params.update(base_params)\n",
    "        return params\n",
    "    \n",
    "    def set_params(self, **params):\n",
    "        if 'name' in params:\n",
    "            self.name = params.pop('name')\n",
    "        if 'base_estimator' in params:\n",
    "            self.base_estimator = params.pop('base_estimator')\n",
    "        if params:\n",
    "            self.base_estimator.set_params(**params)\n",
    "        return self\n",
    "\n",
    "lgb_clf_base = lgb.LGBMClassifier(**best_params)\n",
    "cat_clf_base = CatBoostClassifier(\n",
    "    class_weights=class_weights,\n",
    "    random_seed=42,\n",
    "    verbose=0\n",
    ")\n",
    "xg_clf_base = XGBClassifier()\n",
    "\n",
    "lgb_clf_wrapped = EstimatorWrapper(lgb_clf_base, name='LightGBM', n_estimators=100, verbosity=2, n_jobs=-1)\n",
    "cat_clf_wrapped = EstimatorWrapper(cat_clf_base, name='CatBoost',\n",
    "                                   iterations=1000,\n",
    "                                   learning_rate=0.1,\n",
    "                                   depth=3,\n",
    "                                   eval_metric='AUC',\n",
    "                                   verbose=2)\n",
    "xg_clf_wrapped = EstimatorWrapper(xg_clf_base, name='XGClassifier', verbosity=2, n_jobs=-1)\n",
    "\n",
    "estimators = [\n",
    "    ('lgb', lgb_clf_wrapped),\n",
    "    ('cat', cat_clf_wrapped),\n",
    "    ('xgb', xg_clf_wrapped)\n",
    "]\n",
    "\n",
    "meta_clf_base = XGBClassifier(\n",
    "    use_label_encoder=False,  \n",
    "    eval_metric='logloss',   \n",
    "    random_state=42,\n",
    "    n_estimators=100\n",
    ")\n",
    "meta_clf_wrapped = EstimatorWrapper(meta_clf_base, name='XGBoost')\n",
    "\n",
    "stacking_clf = StackingClassifier(\n",
    "    estimators=estimators,\n",
    "    final_estimator=meta_clf_wrapped,\n",
    "    cv=5\n",
    ")\n",
    "\n",
    "stacking_clf.fit(X_resampled, y_resampled)\n",
    "\n",
    "y_pred = stacking_clf.predict(X_test)\n",
    "y_pred_proba = stacking_clf.predict_proba(X_test)[:, 1]\n",
    "\n",
    "recall_stack = recall_score(y_test, y_pred)\n",
    "precision_stack = precision_score(y_test, y_pred)\n",
    "roc_auc_stack = roc_auc_score(y_test, y_pred_proba)\n",
    "conf_matrix_stack = confusion_matrix(y_test, y_pred)\n",
    "\n",
    "print(\"Recall:\", recall_stack)\n",
    "print(\"Precision:\", precision_stack)\n",
    "print(\"ROC-AUC:\", roc_auc_stack)\n",
    "print(\"Confusion Matrix:\\n\", conf_matrix_stack)"
   ]
  },
  {
   "cell_type": "code",
   "execution_count": 74,
   "id": "c97d18b8561d6a99",
   "metadata": {
    "ExecuteTime": {
     "end_time": "2024-11-08T00:21:07.160143Z",
     "start_time": "2024-11-08T00:21:07.126142600Z"
    },
    "collapsed": false,
    "jupyter": {
     "outputs_hidden": false
    }
   },
   "outputs": [],
   "source": [
    "#заменить финального оценщика  и проверить RF\n",
    "#найти лучшие параметры для других алгоритмов\n",
    "#посмотреть со стандартизацией и PCA"
   ]
  },
  {
   "cell_type": "code",
   "execution_count": null,
   "id": "be1567aafa2ce861",
   "metadata": {
    "ExecuteTime": {
     "start_time": "2024-11-07T23:13:28.857413100Z"
    },
    "collapsed": false,
    "jupyter": {
     "outputs_hidden": false
    }
   },
   "outputs": [],
   "source": []
  }
 ],
 "metadata": {
  "kernelspec": {
   "display_name": "Python 3 (ipykernel)",
   "language": "python",
   "name": "python3"
  },
  "language_info": {
   "codemirror_mode": {
    "name": "ipython",
    "version": 3
   },
   "file_extension": ".py",
   "mimetype": "text/x-python",
   "name": "python",
   "nbconvert_exporter": "python",
   "pygments_lexer": "ipython3",
   "version": "3.11.0"
  }
 },
 "nbformat": 4,
 "nbformat_minor": 5
}
