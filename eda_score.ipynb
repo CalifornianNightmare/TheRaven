{
 "cells": [
  {
   "cell_type": "code",
   "execution_count": 1,
   "id": "71a020d97b4b1a6a",
   "metadata": {
    "ExecuteTime": {
     "end_time": "2024-11-02T00:17:36.322630100Z",
     "start_time": "2024-11-02T00:17:32.109723400Z"
    },
    "collapsed": false,
    "jupyter": {
     "outputs_hidden": false
    },
    "scrolled": true
   },
   "outputs": [
    {
     "name": "stdout",
     "output_type": "stream",
     "text": [
      "Requirement already satisfied: lightgbm in c:\\users\\user\\appdata\\local\\programs\\python\\python311\\lib\\site-packages (4.5.0)\n",
      "Requirement already satisfied: numpy>=1.17.0 in c:\\users\\user\\appdata\\local\\programs\\python\\python311\\lib\\site-packages (from lightgbm) (1.26.4)\n",
      "Requirement already satisfied: scipy in c:\\users\\user\\appdata\\local\\programs\\python\\python311\\lib\\site-packages (from lightgbm) (1.14.1)\n",
      "Requirement already satisfied: numpy in c:\\users\\user\\appdata\\local\\programs\\python\\python311\\lib\\site-packages (1.26.4)\n",
      "Requirement already satisfied: pandas in c:\\users\\user\\appdata\\local\\programs\\python\\python311\\lib\\site-packages (2.2.3)\n",
      "Requirement already satisfied: numpy>=1.23.2 in c:\\users\\user\\appdata\\local\\programs\\python\\python311\\lib\\site-packages (from pandas) (1.26.4)\n",
      "Requirement already satisfied: python-dateutil>=2.8.2 in c:\\users\\user\\appdata\\local\\programs\\python\\python311\\lib\\site-packages (from pandas) (2.9.0.post0)\n",
      "Requirement already satisfied: pytz>=2020.1 in c:\\users\\user\\appdata\\local\\programs\\python\\python311\\lib\\site-packages (from pandas) (2024.2)\n",
      "Requirement already satisfied: tzdata>=2022.7 in c:\\users\\user\\appdata\\local\\programs\\python\\python311\\lib\\site-packages (from pandas) (2024.2)\n",
      "Requirement already satisfied: six>=1.5 in c:\\users\\user\\appdata\\local\\programs\\python\\python311\\lib\\site-packages (from python-dateutil>=2.8.2->pandas) (1.16.0)\n",
      "Requirement already satisfied: scikit-learn in c:\\users\\user\\appdata\\local\\programs\\python\\python311\\lib\\site-packages (1.5.2)\n",
      "Requirement already satisfied: numpy>=1.19.5 in c:\\users\\user\\appdata\\local\\programs\\python\\python311\\lib\\site-packages (from scikit-learn) (1.26.4)\n",
      "Requirement already satisfied: scipy>=1.6.0 in c:\\users\\user\\appdata\\local\\programs\\python\\python311\\lib\\site-packages (from scikit-learn) (1.14.1)\n",
      "Requirement already satisfied: joblib>=1.2.0 in c:\\users\\user\\appdata\\local\\programs\\python\\python311\\lib\\site-packages (from scikit-learn) (1.4.2)\n",
      "Requirement already satisfied: threadpoolctl>=3.1.0 in c:\\users\\user\\appdata\\local\\programs\\python\\python311\\lib\\site-packages (from scikit-learn) (3.5.0)\n",
      "Requirement already satisfied: catboost in c:\\users\\user\\appdata\\local\\programs\\python\\python311\\lib\\site-packages (1.2.7)\n",
      "Requirement already satisfied: graphviz in c:\\users\\user\\appdata\\local\\programs\\python\\python311\\lib\\site-packages (from catboost) (0.20.3)\n",
      "Requirement already satisfied: matplotlib in c:\\users\\user\\appdata\\local\\programs\\python\\python311\\lib\\site-packages (from catboost) (3.9.2)\n",
      "Requirement already satisfied: numpy<2.0,>=1.16.0 in c:\\users\\user\\appdata\\local\\programs\\python\\python311\\lib\\site-packages (from catboost) (1.26.4)\n",
      "Requirement already satisfied: pandas>=0.24 in c:\\users\\user\\appdata\\local\\programs\\python\\python311\\lib\\site-packages (from catboost) (2.2.3)\n",
      "Requirement already satisfied: scipy in c:\\users\\user\\appdata\\local\\programs\\python\\python311\\lib\\site-packages (from catboost) (1.14.1)\n",
      "Requirement already satisfied: plotly in c:\\users\\user\\appdata\\local\\programs\\python\\python311\\lib\\site-packages (from catboost) (5.24.1)\n",
      "Requirement already satisfied: six in c:\\users\\user\\appdata\\local\\programs\\python\\python311\\lib\\site-packages (from catboost) (1.16.0)\n",
      "Requirement already satisfied: python-dateutil>=2.8.2 in c:\\users\\user\\appdata\\local\\programs\\python\\python311\\lib\\site-packages (from pandas>=0.24->catboost) (2.9.0.post0)\n",
      "Requirement already satisfied: pytz>=2020.1 in c:\\users\\user\\appdata\\local\\programs\\python\\python311\\lib\\site-packages (from pandas>=0.24->catboost) (2024.2)\n",
      "Requirement already satisfied: tzdata>=2022.7 in c:\\users\\user\\appdata\\local\\programs\\python\\python311\\lib\\site-packages (from pandas>=0.24->catboost) (2024.2)\n",
      "Requirement already satisfied: contourpy>=1.0.1 in c:\\users\\user\\appdata\\local\\programs\\python\\python311\\lib\\site-packages (from matplotlib->catboost) (1.3.0)\n",
      "Requirement already satisfied: cycler>=0.10 in c:\\users\\user\\appdata\\local\\programs\\python\\python311\\lib\\site-packages (from matplotlib->catboost) (0.12.1)\n",
      "Requirement already satisfied: fonttools>=4.22.0 in c:\\users\\user\\appdata\\local\\programs\\python\\python311\\lib\\site-packages (from matplotlib->catboost) (4.54.1)\n",
      "Requirement already satisfied: kiwisolver>=1.3.1 in c:\\users\\user\\appdata\\local\\programs\\python\\python311\\lib\\site-packages (from matplotlib->catboost) (1.4.7)\n",
      "Requirement already satisfied: packaging>=20.0 in c:\\users\\user\\appdata\\local\\programs\\python\\python311\\lib\\site-packages (from matplotlib->catboost) (24.1)\n",
      "Requirement already satisfied: pillow>=8 in c:\\users\\user\\appdata\\local\\programs\\python\\python311\\lib\\site-packages (from matplotlib->catboost) (11.0.0)\n",
      "Requirement already satisfied: pyparsing>=2.3.1 in c:\\users\\user\\appdata\\local\\programs\\python\\python311\\lib\\site-packages (from matplotlib->catboost) (3.2.0)\n",
      "Requirement already satisfied: tenacity>=6.2.0 in c:\\users\\user\\appdata\\local\\programs\\python\\python311\\lib\\site-packages (from plotly->catboost) (9.0.0)\n"
     ]
    }
   ],
   "source": [
    "!pip install lightgbm\n",
    "!pip install numpy\n",
    "!pip install pandas\n",
    "!pip install scikit-learn\n",
    "!pip install catboost"
   ]
  },
  {
   "cell_type": "code",
   "execution_count": 4,
   "id": "initial_id",
   "metadata": {
    "ExecuteTime": {
     "end_time": "2024-11-02T00:17:49.731117400Z",
     "start_time": "2024-11-02T00:17:45.146773Z"
    }
   },
   "outputs": [],
   "source": [
    "import pandas as pd\n",
    "import sklearn\n",
    "import numpy as np\n",
    "from sklearn.model_selection import train_test_split\n",
    "from sklearn.preprocessing import StandardScaler\n",
    "import lightgbm as lgb\n",
    "from sklearn.metrics import roc_auc_score,precision_score,recall_score,confusion_matrix, accuracy_score"
   ]
  },
  {
   "cell_type": "code",
   "execution_count": 7,
   "id": "9dcae61729847232",
   "metadata": {
    "ExecuteTime": {
     "end_time": "2024-11-02T00:18:37.962728Z",
     "start_time": "2024-11-02T00:18:34.650965300Z"
    },
    "collapsed": false,
    "jupyter": {
     "outputs_hidden": false
    }
   },
   "outputs": [
    {
     "data": {
      "text/html": [
       "<div>\n",
       "<style scoped>\n",
       "    .dataframe tbody tr th:only-of-type {\n",
       "        vertical-align: middle;\n",
       "    }\n",
       "\n",
       "    .dataframe tbody tr th {\n",
       "        vertical-align: top;\n",
       "    }\n",
       "\n",
       "    .dataframe thead th {\n",
       "        text-align: right;\n",
       "    }\n",
       "</style>\n",
       "<table border=\"1\" class=\"dataframe\">\n",
       "  <thead>\n",
       "    <tr style=\"text-align: right;\">\n",
       "      <th></th>\n",
       "      <th>target</th>\n",
       "      <th>id</th>\n",
       "      <th>feature_1</th>\n",
       "      <th>feature_2</th>\n",
       "      <th>feature_3</th>\n",
       "      <th>feature_4</th>\n",
       "      <th>feature_5</th>\n",
       "      <th>feature_6</th>\n",
       "      <th>feature_7</th>\n",
       "      <th>feature_8</th>\n",
       "      <th>...</th>\n",
       "      <th>feature_409</th>\n",
       "      <th>feature_410</th>\n",
       "      <th>feature_411</th>\n",
       "      <th>feature_412</th>\n",
       "      <th>feature_413</th>\n",
       "      <th>feature_414</th>\n",
       "      <th>feature_415</th>\n",
       "      <th>feature_416</th>\n",
       "      <th>feature_417</th>\n",
       "      <th>feature_418</th>\n",
       "    </tr>\n",
       "  </thead>\n",
       "  <tbody>\n",
       "    <tr>\n",
       "      <th>0</th>\n",
       "      <td>0</td>\n",
       "      <td>0</td>\n",
       "      <td>0.468142</td>\n",
       "      <td>-1.045346</td>\n",
       "      <td>0.0</td>\n",
       "      <td>0.384487</td>\n",
       "      <td>0.435121</td>\n",
       "      <td>-1.178548</td>\n",
       "      <td>0.124543</td>\n",
       "      <td>1.801544</td>\n",
       "      <td>...</td>\n",
       "      <td>-0.361507</td>\n",
       "      <td>-1.026853</td>\n",
       "      <td>0.0</td>\n",
       "      <td>1.418600</td>\n",
       "      <td>-0.929668</td>\n",
       "      <td>1.284014</td>\n",
       "      <td>0.731842</td>\n",
       "      <td>0.801786</td>\n",
       "      <td>-0.728297</td>\n",
       "      <td>-0.412095</td>\n",
       "    </tr>\n",
       "    <tr>\n",
       "      <th>1</th>\n",
       "      <td>0</td>\n",
       "      <td>1</td>\n",
       "      <td>-0.760983</td>\n",
       "      <td>0.515132</td>\n",
       "      <td>0.0</td>\n",
       "      <td>-1.673905</td>\n",
       "      <td>-0.393862</td>\n",
       "      <td>-1.584207</td>\n",
       "      <td>-0.439778</td>\n",
       "      <td>0.796104</td>\n",
       "      <td>...</td>\n",
       "      <td>-0.546275</td>\n",
       "      <td>-1.489542</td>\n",
       "      <td>0.0</td>\n",
       "      <td>-0.622007</td>\n",
       "      <td>-0.473156</td>\n",
       "      <td>0.780020</td>\n",
       "      <td>0.648577</td>\n",
       "      <td>0.646100</td>\n",
       "      <td>-0.789362</td>\n",
       "      <td>0.083349</td>\n",
       "    </tr>\n",
       "    <tr>\n",
       "      <th>2</th>\n",
       "      <td>0</td>\n",
       "      <td>2</td>\n",
       "      <td>1.658855</td>\n",
       "      <td>0.915052</td>\n",
       "      <td>0.0</td>\n",
       "      <td>-0.581082</td>\n",
       "      <td>0.477199</td>\n",
       "      <td>-0.622226</td>\n",
       "      <td>0.390642</td>\n",
       "      <td>0.753299</td>\n",
       "      <td>...</td>\n",
       "      <td>-0.485999</td>\n",
       "      <td>0.586012</td>\n",
       "      <td>0.0</td>\n",
       "      <td>0.361481</td>\n",
       "      <td>-0.364566</td>\n",
       "      <td>-1.318596</td>\n",
       "      <td>-0.385155</td>\n",
       "      <td>0.140133</td>\n",
       "      <td>0.123245</td>\n",
       "      <td>-0.670030</td>\n",
       "    </tr>\n",
       "    <tr>\n",
       "      <th>3</th>\n",
       "      <td>0</td>\n",
       "      <td>3</td>\n",
       "      <td>-0.638854</td>\n",
       "      <td>0.314099</td>\n",
       "      <td>0.0</td>\n",
       "      <td>0.000919</td>\n",
       "      <td>1.102342</td>\n",
       "      <td>-0.807371</td>\n",
       "      <td>0.329158</td>\n",
       "      <td>0.484305</td>\n",
       "      <td>...</td>\n",
       "      <td>0.321985</td>\n",
       "      <td>-0.075827</td>\n",
       "      <td>0.0</td>\n",
       "      <td>-1.629672</td>\n",
       "      <td>0.876864</td>\n",
       "      <td>0.411271</td>\n",
       "      <td>0.433440</td>\n",
       "      <td>0.997364</td>\n",
       "      <td>2.829590</td>\n",
       "      <td>-1.275588</td>\n",
       "    </tr>\n",
       "    <tr>\n",
       "      <th>4</th>\n",
       "      <td>0</td>\n",
       "      <td>4</td>\n",
       "      <td>-1.091376</td>\n",
       "      <td>0.859811</td>\n",
       "      <td>0.0</td>\n",
       "      <td>-0.505439</td>\n",
       "      <td>1.665086</td>\n",
       "      <td>-0.912464</td>\n",
       "      <td>-0.332054</td>\n",
       "      <td>0.707705</td>\n",
       "      <td>...</td>\n",
       "      <td>0.828886</td>\n",
       "      <td>0.140387</td>\n",
       "      <td>0.0</td>\n",
       "      <td>-0.624304</td>\n",
       "      <td>-2.197691</td>\n",
       "      <td>-1.479267</td>\n",
       "      <td>-0.465917</td>\n",
       "      <td>-0.014757</td>\n",
       "      <td>-0.320434</td>\n",
       "      <td>-0.511896</td>\n",
       "    </tr>\n",
       "  </tbody>\n",
       "</table>\n",
       "<p>5 rows × 420 columns</p>\n",
       "</div>"
      ],
      "text/plain": [
       "   target  id  feature_1  feature_2  feature_3  feature_4  feature_5  \\\n",
       "0       0   0   0.468142  -1.045346        0.0   0.384487   0.435121   \n",
       "1       0   1  -0.760983   0.515132        0.0  -1.673905  -0.393862   \n",
       "2       0   2   1.658855   0.915052        0.0  -0.581082   0.477199   \n",
       "3       0   3  -0.638854   0.314099        0.0   0.000919   1.102342   \n",
       "4       0   4  -1.091376   0.859811        0.0  -0.505439   1.665086   \n",
       "\n",
       "   feature_6  feature_7  feature_8  ...  feature_409  feature_410  \\\n",
       "0  -1.178548   0.124543   1.801544  ...    -0.361507    -1.026853   \n",
       "1  -1.584207  -0.439778   0.796104  ...    -0.546275    -1.489542   \n",
       "2  -0.622226   0.390642   0.753299  ...    -0.485999     0.586012   \n",
       "3  -0.807371   0.329158   0.484305  ...     0.321985    -0.075827   \n",
       "4  -0.912464  -0.332054   0.707705  ...     0.828886     0.140387   \n",
       "\n",
       "   feature_411  feature_412  feature_413  feature_414  feature_415  \\\n",
       "0          0.0     1.418600    -0.929668     1.284014     0.731842   \n",
       "1          0.0    -0.622007    -0.473156     0.780020     0.648577   \n",
       "2          0.0     0.361481    -0.364566    -1.318596    -0.385155   \n",
       "3          0.0    -1.629672     0.876864     0.411271     0.433440   \n",
       "4          0.0    -0.624304    -2.197691    -1.479267    -0.465917   \n",
       "\n",
       "   feature_416  feature_417  feature_418  \n",
       "0     0.801786    -0.728297    -0.412095  \n",
       "1     0.646100    -0.789362     0.083349  \n",
       "2     0.140133     0.123245    -0.670030  \n",
       "3     0.997364     2.829590    -1.275588  \n",
       "4    -0.014757    -0.320434    -0.511896  \n",
       "\n",
       "[5 rows x 420 columns]"
      ]
     },
     "execution_count": 7,
     "metadata": {},
     "output_type": "execute_result"
    }
   ],
   "source": [
    "df = pd.read_csv(\"data/train.csv\")\n",
    "df.head()"
   ]
  },
  {
   "cell_type": "code",
   "execution_count": 8,
   "id": "95cc370e9ecf1de1",
   "metadata": {
    "ExecuteTime": {
     "end_time": "2024-11-02T00:18:38.109033800Z",
     "start_time": "2024-11-02T00:18:37.964730600Z"
    },
    "collapsed": false,
    "jupyter": {
     "outputs_hidden": false
    }
   },
   "outputs": [],
   "source": [
    "X = df.drop([\"target\"],axis=1)\n",
    "y = df[\"target\"]"
   ]
  },
  {
   "cell_type": "markdown",
   "id": "e8753aab5156c5d6",
   "metadata": {
    "collapsed": false,
    "jupyter": {
     "outputs_hidden": false
    }
   },
   "source": [
    "## BaseLine модель (LightGbm)"
   ]
  },
  {
   "cell_type": "code",
   "execution_count": 10,
   "id": "1b6ee2014b74eea9",
   "metadata": {
    "ExecuteTime": {
     "end_time": "2024-11-02T00:18:42.882199100Z",
     "start_time": "2024-11-02T00:18:38.040033900Z"
    },
    "collapsed": false,
    "jupyter": {
     "outputs_hidden": false
    }
   },
   "outputs": [
    {
     "name": "stdout",
     "output_type": "stream",
     "text": [
      "[LightGBM] [Info] Number of positive: 684, number of negative: 30300\n",
      "[LightGBM] [Info] Auto-choosing col-wise multi-threading, the overhead of testing was 0.036768 seconds.\n",
      "You can set `force_col_wise=true` to remove the overhead.\n",
      "[LightGBM] [Info] Total Bins 97565\n",
      "[LightGBM] [Info] Number of data points in the train set: 30984, number of used features: 419\n",
      "[LightGBM] [Info] [binary:BoostFromScore]: pavg=0.022076 -> initscore=-3.790945\n",
      "[LightGBM] [Info] Start training from score -3.790945\n",
      "recall: 0.0\n",
      "precision: 0.0\n",
      "roc-auc: 0.7648786730454905\n",
      "confusion matrix: [[7588    0]\n",
      " [ 159    0]]\n"
     ]
    },
    {
     "name": "stderr",
     "output_type": "stream",
     "text": [
      "C:\\Users\\User\\AppData\\Local\\Programs\\Python\\Python311\\Lib\\site-packages\\sklearn\\metrics\\_classification.py:1531: UndefinedMetricWarning: Precision is ill-defined and being set to 0.0 due to no predicted samples. Use `zero_division` parameter to control this behavior.\n",
      "  _warn_prf(average, modifier, f\"{metric.capitalize()} is\", len(result))\n"
     ]
    }
   ],
   "source": [
    "X_train, X_test, y_train, y_test = train_test_split(X, y, test_size=0.2, random_state=42)\n",
    "\n",
    "lgb_clf = lgb.LGBMClassifier()\n",
    "\n",
    "lgb_clf.fit(X_train,y_train)\n",
    "\n",
    "lgb_clf.predict(X_test)\n",
    "\n",
    "y_pred = lgb_clf.predict(X_test)\n",
    "\n",
    "y_pred_proba = lgb_clf.predict_proba(X_test)[:, 1]\n",
    "\n",
    "print(\"recall:\", recall_score(y_test,y_pred))\n",
    "print(\"precision:\", precision_score(y_test,y_pred))\n",
    "print(\"roc-auc:\", roc_auc_score(y_test,y_pred_proba))\n",
    "print(\"confusion matrix:\", confusion_matrix(y_test,y_pred))"
   ]
  },
  {
   "cell_type": "markdown",
   "id": "de8db0b5e637ce46",
   "metadata": {
    "collapsed": false,
    "jupyter": {
     "outputs_hidden": false
    }
   },
   "source": [
    "## Модель Catboost"
   ]
  },
  {
   "cell_type": "code",
   "execution_count": 11,
   "id": "5b4d45afbdbe3775",
   "metadata": {
    "ExecuteTime": {
     "start_time": "2024-11-01T23:59:22.353948500Z"
    },
    "collapsed": false,
    "jupyter": {
     "outputs_hidden": false
    }
   },
   "outputs": [],
   "source": [
    "import catboost as ctb\n",
    "from catboost import CatBoostClassifier\n",
    "\n",
    "from sklearn.utils.class_weight import compute_class_weight\n",
    "import numpy as np\n",
    "\n",
    "class_weights = compute_class_weight(\n",
    "    class_weight='balanced',\n",
    "    classes=np.unique(y_train),\n",
    "    y=y_train\n",
    ")\n",
    "\n",
    "cat_clf = CatBoostClassifier(\n",
    "    iterations=100,              \n",
    "    learning_rate=0.1,             \n",
    "    depth=10,                       \n",
    "    class_weights=class_weights,   \n",
    "    eval_metric='AUC',             \n",
    "    random_seed=42,               \n",
    "    verbose=5   \n",
    ")"
   ]
  },
  {
   "cell_type": "code",
   "execution_count": 12,
   "id": "144e0041-e34e-4838-89a3-758392ba9cf0",
   "metadata": {},
   "outputs": [
    {
     "name": "stdout",
     "output_type": "stream",
     "text": [
      "0:\ttest: 0.6870941\tbest: 0.6870941 (0)\ttotal: 790ms\tremaining: 1m 18s\n",
      "5:\ttest: 0.7280885\tbest: 0.7280885 (5)\ttotal: 3.96s\tremaining: 1m 2s\n",
      "10:\ttest: 0.7448528\tbest: 0.7448528 (10)\ttotal: 7.03s\tremaining: 56.9s\n",
      "15:\ttest: 0.7611613\tbest: 0.7611613 (15)\ttotal: 10.1s\tremaining: 52.9s\n",
      "20:\ttest: 0.7610021\tbest: 0.7611613 (15)\ttotal: 13.1s\tremaining: 49.4s\n",
      "25:\ttest: 0.7547551\tbest: 0.7611613 (15)\ttotal: 16.2s\tremaining: 46s\n",
      "30:\ttest: 0.7491314\tbest: 0.7611613 (15)\ttotal: 19.2s\tremaining: 42.8s\n",
      "35:\ttest: 0.7473386\tbest: 0.7611613 (15)\ttotal: 22.2s\tremaining: 39.5s\n",
      "40:\ttest: 0.7458118\tbest: 0.7611613 (15)\ttotal: 25.2s\tremaining: 36.3s\n",
      "45:\ttest: 0.7468106\tbest: 0.7611613 (15)\ttotal: 28.2s\tremaining: 33.1s\n",
      "50:\ttest: 0.7463589\tbest: 0.7611613 (15)\ttotal: 31.3s\tremaining: 30.1s\n",
      "55:\ttest: 0.7480340\tbest: 0.7611613 (15)\ttotal: 34.4s\tremaining: 27s\n",
      "60:\ttest: 0.7481533\tbest: 0.7611613 (15)\ttotal: 37.4s\tremaining: 23.9s\n",
      "65:\ttest: 0.7491198\tbest: 0.7611613 (15)\ttotal: 40.5s\tremaining: 20.9s\n",
      "Stopped by overfitting detector  (50 iterations wait)\n",
      "\n",
      "bestTest = 0.7611612841\n",
      "bestIteration = 15\n",
      "\n",
      "Shrink model to first 16 iterations.\n"
     ]
    },
    {
     "data": {
      "text/plain": [
       "<catboost.core.CatBoostClassifier at 0x1ab3aa62d50>"
      ]
     },
     "execution_count": 12,
     "metadata": {},
     "output_type": "execute_result"
    }
   ],
   "source": [
    "cat_clf.fit(\n",
    "    X_train, y_train,\n",
    "    eval_set=(X_test, y_test),  \n",
    "    early_stopping_rounds=50           \n",
    ")"
   ]
  },
  {
   "cell_type": "code",
   "execution_count": 13,
   "id": "348d60f0-86cb-4cde-b940-cfb30f98b0aa",
   "metadata": {},
   "outputs": [],
   "source": [
    "y_pred = cat_clf.predict(X_test)"
   ]
  },
  {
   "cell_type": "code",
   "execution_count": 14,
   "id": "33a5f776-d037-4dc3-b39b-bf7e8a00e378",
   "metadata": {},
   "outputs": [],
   "source": [
    "y_pred_proba = cat_clf.predict_proba(X_test)[:, 1]"
   ]
  },
  {
   "cell_type": "code",
   "execution_count": 15,
   "id": "b669c91f-40c0-4048-8552-4095cf3f835e",
   "metadata": {},
   "outputs": [
    {
     "name": "stdout",
     "output_type": "stream",
     "text": [
      "Recall: 0.4339622641509434\n",
      "Precision: 0.07217573221757322\n",
      "ROC-AUC: 0.7611612841195798\n",
      "Confusion Matrix:\n",
      " [[6701  887]\n",
      " [  90   69]]\n"
     ]
    }
   ],
   "source": [
    "recall = recall_score(y_test, y_pred)\n",
    "precision = precision_score(y_test, y_pred)\n",
    "roc_auc = roc_auc_score(y_test, y_pred_proba)\n",
    "conf_matrix = confusion_matrix(y_test, y_pred)\n",
    "\n",
    "print(\"Recall:\", recall)\n",
    "print(\"Precision:\", precision)\n",
    "print(\"ROC-AUC:\", roc_auc)\n",
    "print(\"Confusion Matrix:\\n\", conf_matrix)"
   ]
  },
  {
   "cell_type": "code",
   "execution_count": null,
   "id": "5dac7c23-23d3-43b7-adbb-bf84fdaa7c3b",
   "metadata": {},
   "outputs": [],
   "source": []
  }
 ],
 "metadata": {
  "kernelspec": {
   "display_name": "Python 3 (ipykernel)",
   "language": "python",
   "name": "python3"
  },
  "language_info": {
   "codemirror_mode": {
    "name": "ipython",
    "version": 3
   },
   "file_extension": ".py",
   "mimetype": "text/x-python",
   "name": "python",
   "nbconvert_exporter": "python",
   "pygments_lexer": "ipython3",
   "version": "3.11.0"
  }
 },
 "nbformat": 4,
 "nbformat_minor": 5
}
